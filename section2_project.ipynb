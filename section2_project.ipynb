{
  "nbformat": 4,
  "nbformat_minor": 0,
  "metadata": {
    "colab": {
      "provenance": [],
      "mount_file_id": "1c9EOtqADwdQ9gjHRrasv_6yoJCeZxZfQ",
      "authorship_tag": "ABX9TyMs8UtBwqRtMgvVooxWfe7L",
      "include_colab_link": true
    },
    "kernelspec": {
      "name": "python3",
      "display_name": "Python 3"
    },
    "language_info": {
      "name": "python"
    }
  },
  "cells": [
    {
      "cell_type": "markdown",
      "metadata": {
        "id": "view-in-github",
        "colab_type": "text"
      },
      "source": [
        "<a href=\"https://colab.research.google.com/github/donghwi2022/ds-section2-project/blob/main/section2_project.ipynb\" target=\"_parent\"><img src=\"https://colab.research.google.com/assets/colab-badge.svg\" alt=\"Open In Colab\"/></a>"
      ]
    },
    {
      "cell_type": "markdown",
      "source": [
        "# **Part 0. 특성 설명** \n",
        "\n",
        "- **targets**\n",
        "    - `Outcome` - 해당 게임의 승패 여부\n",
        "\n",
        "- **features**\n",
        "    - `Game Completed Date` - 게임이 끝난 시각 → 해당 컬럼 삭제 예정\n",
        "    - `Team` - 소속 팀 → 크루원 데이터만 남기고 해당 컬럼은 삭제할 예정\n",
        "        - Crewmate : 크루원 \n",
        "        - Imposter : 임포스터 \n",
        "    - `Task Completed` - 완료한 업무 수 \n",
        "    - `All Tasks Completed` - 모든 업무를 완료했는지 여부\n",
        "    - `Murdered` - 임포스터에게 살해당했는지 여부                   \n",
        "    - `Imposter Kills` - 임포스터로 몇 명을 죽였는지 → 해당 컬럼 삭제\n",
        "    - `Game Length` - 게임 시간 \n",
        "    - `Ejected` - 투표로 퇴출되었는지 여부 \n",
        "    - `Sabotages Fixed` - 사보타지 고친 횟수            \n",
        "    - `Time to complete all tasks` - 모든 업무 완료까지 걸린 시간   \n",
        "    - `Rank Change` - 게임 승패로 랭크 변화여부 → 해당 컬럼 삭제\n",
        "    - `Region/Game Code` - 게임 진행 지역/게임 코드 → 해당 컬럼 삭제 "
      ],
      "metadata": {
        "id": "oDhGWzKXmSom"
      }
    },
    {
      "cell_type": "markdown",
      "source": [
        "# **Part 1. 필요 라이브러리 및 데이터 로드**\n",
        "\n",
        "- 필요 라이브러리 import 및 한글 깨짐문제 해결\n",
        "- csv 파일 load"
      ],
      "metadata": {
        "id": "YH50yQaRY_PP"
      }
    },
    {
      "cell_type": "code",
      "source": [
        "#한글 깨짐문제 해결, 실행 후 런타임 재시작\n",
        "import matplotlib.pyplot as plt\n",
        "!sudo apt-get install -y fonts-nanum\n",
        "!sudo fc-cache -fv\n",
        "!rm ~/.cache/matplotlib -rf\n",
        "\n",
        "plt.rc('font', family='NanumBarunGothic');"
      ],
      "metadata": {
        "colab": {
          "base_uri": "https://localhost:8080/"
        },
        "id": "HQZAxCFvZGtd",
        "outputId": "08ca4201-5dab-4440-d423-d5b3dc0e7249"
      },
      "execution_count": null,
      "outputs": [
        {
          "output_type": "stream",
          "name": "stdout",
          "text": [
            "Reading package lists... Done\n",
            "Building dependency tree       \n",
            "Reading state information... Done\n",
            "fonts-nanum is already the newest version (20170925-1).\n",
            "The following package was automatically installed and is no longer required:\n",
            "  libnvidia-common-460\n",
            "Use 'sudo apt autoremove' to remove it.\n",
            "0 upgraded, 0 newly installed, 0 to remove and 20 not upgraded.\n",
            "/usr/share/fonts: caching, new cache contents: 0 fonts, 1 dirs\n",
            "/usr/share/fonts/truetype: caching, new cache contents: 0 fonts, 3 dirs\n",
            "/usr/share/fonts/truetype/humor-sans: caching, new cache contents: 1 fonts, 0 dirs\n",
            "/usr/share/fonts/truetype/liberation: caching, new cache contents: 16 fonts, 0 dirs\n",
            "/usr/share/fonts/truetype/nanum: caching, new cache contents: 10 fonts, 0 dirs\n",
            "/usr/local/share/fonts: caching, new cache contents: 0 fonts, 0 dirs\n",
            "/root/.local/share/fonts: skipping, no such directory\n",
            "/root/.fonts: skipping, no such directory\n",
            "/var/cache/fontconfig: cleaning cache directory\n",
            "/root/.cache/fontconfig: not cleaning non-existent cache directory\n",
            "/root/.fontconfig: not cleaning non-existent cache directory\n",
            "fc-cache: succeeded\n"
          ]
        }
      ]
    },
    {
      "cell_type": "code",
      "source": [
        "# 필요 라이브러리 설치\n",
        "!pip3 install xgboost # xgboot 모델\n",
        "!pip3 install hyperopt # Bayesian Search\n",
        "!pip3 install eli5 # Permutation Importance\n",
        "!pip3 install pdpbox # pdp plot\n",
        "!pip install category_encoders # Encoder"
      ],
      "metadata": {
        "colab": {
          "base_uri": "https://localhost:8080/"
        },
        "id": "atjI3J_WsVS-",
        "outputId": "a4edd859-53ee-49c4-c924-81420b0d61cb"
      },
      "execution_count": null,
      "outputs": [
        {
          "output_type": "stream",
          "name": "stdout",
          "text": [
            "Looking in indexes: https://pypi.org/simple, https://us-python.pkg.dev/colab-wheels/public/simple/\n",
            "Requirement already satisfied: xgboost in /usr/local/lib/python3.7/dist-packages (0.90)\n",
            "Requirement already satisfied: scipy in /usr/local/lib/python3.7/dist-packages (from xgboost) (1.7.3)\n",
            "Requirement already satisfied: numpy in /usr/local/lib/python3.7/dist-packages (from xgboost) (1.21.6)\n",
            "Looking in indexes: https://pypi.org/simple, https://us-python.pkg.dev/colab-wheels/public/simple/\n",
            "Requirement already satisfied: hyperopt in /usr/local/lib/python3.7/dist-packages (0.1.2)\n",
            "Requirement already satisfied: numpy in /usr/local/lib/python3.7/dist-packages (from hyperopt) (1.21.6)\n",
            "Requirement already satisfied: future in /usr/local/lib/python3.7/dist-packages (from hyperopt) (0.16.0)\n",
            "Requirement already satisfied: pymongo in /usr/local/lib/python3.7/dist-packages (from hyperopt) (4.2.0)\n",
            "Requirement already satisfied: six in /usr/local/lib/python3.7/dist-packages (from hyperopt) (1.15.0)\n",
            "Requirement already satisfied: scipy in /usr/local/lib/python3.7/dist-packages (from hyperopt) (1.7.3)\n",
            "Requirement already satisfied: tqdm in /usr/local/lib/python3.7/dist-packages (from hyperopt) (4.64.1)\n",
            "Requirement already satisfied: networkx in /usr/local/lib/python3.7/dist-packages (from hyperopt) (2.6.3)\n",
            "Looking in indexes: https://pypi.org/simple, https://us-python.pkg.dev/colab-wheels/public/simple/\n",
            "Requirement already satisfied: eli5 in /usr/local/lib/python3.7/dist-packages (0.13.0)\n",
            "Requirement already satisfied: tabulate>=0.7.7 in /usr/local/lib/python3.7/dist-packages (from eli5) (0.8.10)\n",
            "Requirement already satisfied: six in /usr/local/lib/python3.7/dist-packages (from eli5) (1.15.0)\n",
            "Requirement already satisfied: scikit-learn>=0.20 in /usr/local/lib/python3.7/dist-packages (from eli5) (1.0.2)\n",
            "Requirement already satisfied: jinja2>=3.0.0 in /usr/local/lib/python3.7/dist-packages (from eli5) (3.1.2)\n",
            "Requirement already satisfied: numpy>=1.9.0 in /usr/local/lib/python3.7/dist-packages (from eli5) (1.21.6)\n",
            "Requirement already satisfied: attrs>17.1.0 in /usr/local/lib/python3.7/dist-packages (from eli5) (22.1.0)\n",
            "Requirement already satisfied: scipy in /usr/local/lib/python3.7/dist-packages (from eli5) (1.7.3)\n",
            "Requirement already satisfied: graphviz in /usr/local/lib/python3.7/dist-packages (from eli5) (0.10.1)\n",
            "Requirement already satisfied: MarkupSafe>=2.0 in /usr/local/lib/python3.7/dist-packages (from jinja2>=3.0.0->eli5) (2.0.1)\n",
            "Requirement already satisfied: threadpoolctl>=2.0.0 in /usr/local/lib/python3.7/dist-packages (from scikit-learn>=0.20->eli5) (3.1.0)\n",
            "Requirement already satisfied: joblib>=0.11 in /usr/local/lib/python3.7/dist-packages (from scikit-learn>=0.20->eli5) (1.1.0)\n",
            "Looking in indexes: https://pypi.org/simple, https://us-python.pkg.dev/colab-wheels/public/simple/\n",
            "Requirement already satisfied: pdpbox in /usr/local/lib/python3.7/dist-packages (0.2.1)\n",
            "Requirement already satisfied: pandas in /usr/local/lib/python3.7/dist-packages (from pdpbox) (1.3.5)\n",
            "Requirement already satisfied: psutil in /usr/local/lib/python3.7/dist-packages (from pdpbox) (5.4.8)\n",
            "Requirement already satisfied: sklearn in /usr/local/lib/python3.7/dist-packages (from pdpbox) (0.0)\n",
            "Requirement already satisfied: scipy in /usr/local/lib/python3.7/dist-packages (from pdpbox) (1.7.3)\n",
            "Requirement already satisfied: joblib in /usr/local/lib/python3.7/dist-packages (from pdpbox) (1.1.0)\n",
            "Requirement already satisfied: matplotlib==3.1.1 in /usr/local/lib/python3.7/dist-packages (from pdpbox) (3.1.1)\n",
            "Requirement already satisfied: numpy in /usr/local/lib/python3.7/dist-packages (from pdpbox) (1.21.6)\n",
            "Requirement already satisfied: cycler>=0.10 in /usr/local/lib/python3.7/dist-packages (from matplotlib==3.1.1->pdpbox) (0.11.0)\n",
            "Requirement already satisfied: python-dateutil>=2.1 in /usr/local/lib/python3.7/dist-packages (from matplotlib==3.1.1->pdpbox) (2.8.2)\n",
            "Requirement already satisfied: kiwisolver>=1.0.1 in /usr/local/lib/python3.7/dist-packages (from matplotlib==3.1.1->pdpbox) (1.4.4)\n",
            "Requirement already satisfied: pyparsing!=2.0.4,!=2.1.2,!=2.1.6,>=2.0.1 in /usr/local/lib/python3.7/dist-packages (from matplotlib==3.1.1->pdpbox) (3.0.9)\n",
            "Requirement already satisfied: typing-extensions in /usr/local/lib/python3.7/dist-packages (from kiwisolver>=1.0.1->matplotlib==3.1.1->pdpbox) (4.1.1)\n",
            "Requirement already satisfied: six>=1.5 in /usr/local/lib/python3.7/dist-packages (from python-dateutil>=2.1->matplotlib==3.1.1->pdpbox) (1.15.0)\n",
            "Requirement already satisfied: pytz>=2017.3 in /usr/local/lib/python3.7/dist-packages (from pandas->pdpbox) (2022.2.1)\n",
            "Requirement already satisfied: scikit-learn in /usr/local/lib/python3.7/dist-packages (from sklearn->pdpbox) (1.0.2)\n",
            "Requirement already satisfied: threadpoolctl>=2.0.0 in /usr/local/lib/python3.7/dist-packages (from scikit-learn->sklearn->pdpbox) (3.1.0)\n",
            "Looking in indexes: https://pypi.org/simple, https://us-python.pkg.dev/colab-wheels/public/simple/\n",
            "Requirement already satisfied: category_encoders in /usr/local/lib/python3.7/dist-packages (2.5.0)\n",
            "Requirement already satisfied: scikit-learn>=0.20.0 in /usr/local/lib/python3.7/dist-packages (from category_encoders) (1.0.2)\n",
            "Requirement already satisfied: numpy>=1.14.0 in /usr/local/lib/python3.7/dist-packages (from category_encoders) (1.21.6)\n",
            "Requirement already satisfied: patsy>=0.5.1 in /usr/local/lib/python3.7/dist-packages (from category_encoders) (0.5.2)\n",
            "Requirement already satisfied: scipy>=1.0.0 in /usr/local/lib/python3.7/dist-packages (from category_encoders) (1.7.3)\n",
            "Requirement already satisfied: statsmodels>=0.9.0 in /usr/local/lib/python3.7/dist-packages (from category_encoders) (0.12.2)\n",
            "Requirement already satisfied: pandas>=1.0.5 in /usr/local/lib/python3.7/dist-packages (from category_encoders) (1.3.5)\n",
            "Requirement already satisfied: python-dateutil>=2.7.3 in /usr/local/lib/python3.7/dist-packages (from pandas>=1.0.5->category_encoders) (2.8.2)\n",
            "Requirement already satisfied: pytz>=2017.3 in /usr/local/lib/python3.7/dist-packages (from pandas>=1.0.5->category_encoders) (2022.2.1)\n",
            "Requirement already satisfied: six in /usr/local/lib/python3.7/dist-packages (from patsy>=0.5.1->category_encoders) (1.15.0)\n",
            "Requirement already satisfied: threadpoolctl>=2.0.0 in /usr/local/lib/python3.7/dist-packages (from scikit-learn>=0.20.0->category_encoders) (3.1.0)\n",
            "Requirement already satisfied: joblib>=0.11 in /usr/local/lib/python3.7/dist-packages (from scikit-learn>=0.20.0->category_encoders) (1.1.0)\n"
          ]
        }
      ]
    },
    {
      "cell_type": "code",
      "execution_count": null,
      "metadata": {
        "id": "-h3ghdH2YdMm"
      },
      "outputs": [],
      "source": [
        "import pandas as pd\n",
        "import matplotlib.pyplot as plt\n",
        "import seaborn as sns\n",
        "import numpy as np\n",
        "from sklearn.model_selection import train_test_split\n",
        "from sklearn.metrics import accuracy_score\n",
        "from sklearn.metrics import classification_report\n",
        "from category_encoders import OrdinalEncoder\n",
        "from xgboost import XGBClassifier\n",
        "from sklearn.model_selection import GridSearchCV\n",
        "from sklearn.metrics import plot_confusion_matrix\n",
        "from pdpbox.pdp import pdp_isolate, pdp_plot"
      ]
    },
    {
      "cell_type": "code",
      "source": [
        "from google.colab import drive\n",
        "drive.mount('/content/drive')"
      ],
      "metadata": {
        "id": "pYRU41NabeP4",
        "outputId": "f28c2629-9330-4b95-83a7-2f37cf0430e4",
        "colab": {
          "base_uri": "https://localhost:8080/"
        }
      },
      "execution_count": null,
      "outputs": [
        {
          "output_type": "stream",
          "name": "stdout",
          "text": [
            "Drive already mounted at /content/drive; to attempt to forcibly remount, call drive.mount(\"/content/drive\", force_remount=True).\n"
          ]
        }
      ]
    },
    {
      "cell_type": "code",
      "source": [
        "# 파일 경로로 필요 csv 파일 불러오기\n",
        "url = \"/content/drive/MyDrive/codestates/files/AmongUs_User.csv\"\n",
        "df = pd.read_csv(url)\n",
        "df.head()"
      ],
      "metadata": {
        "colab": {
          "base_uri": "https://localhost:8080/",
          "height": 354
        },
        "id": "kutYp5Isak71",
        "outputId": "399acc8e-e50f-4d39-b401-2a1445a83815"
      },
      "execution_count": null,
      "outputs": [
        {
          "output_type": "execute_result",
          "data": {
            "text/plain": [
              "             Game Completed Date      Team Outcome Task Completed  \\\n",
              "0   12/13/2020 at 1:26:56 am EST  Crewmate     Win              3   \n",
              "1   12/13/2020 at 1:17:42 am EST  Crewmate    Loss              7   \n",
              "2  12/13/2020 at 12:57:47 am EST  Crewmate     Win              3   \n",
              "3  12/13/2020 at 12:41:55 am EST  Imposter     Win              -   \n",
              "4  12/13/2020 at 12:30:37 am EST  Crewmate    Loss              4   \n",
              "\n",
              "  All Tasks Completed Murdered Imposter Kills Game Length Ejected  \\\n",
              "0                  No      Yes              -     07m 04s      No   \n",
              "1                 Yes       No              -     16m 21s      No   \n",
              "2                  No       No              -     11m 33s      No   \n",
              "3                   -        -              2     08m 05s      No   \n",
              "4                  No       No              -     05m 10s      No   \n",
              "\n",
              "   Sabotages Fixed Time to complete all tasks Rank Change Region/Game Code  \n",
              "0              2.0                          -          ++      NA / WYMSBF  \n",
              "1              1.0                    09m 48s          --      NA / WYMSBF  \n",
              "2              0.0                          -          ++      NA / WYMSBF  \n",
              "3              NaN                          -         +++  Europe / QIRTNF  \n",
              "4              0.0                          -         ---  Europe / QIRTNF  "
            ],
            "text/html": [
              "\n",
              "  <div id=\"df-00cc665a-43ff-4e93-a261-a61dd21a4d3f\">\n",
              "    <div class=\"colab-df-container\">\n",
              "      <div>\n",
              "<style scoped>\n",
              "    .dataframe tbody tr th:only-of-type {\n",
              "        vertical-align: middle;\n",
              "    }\n",
              "\n",
              "    .dataframe tbody tr th {\n",
              "        vertical-align: top;\n",
              "    }\n",
              "\n",
              "    .dataframe thead th {\n",
              "        text-align: right;\n",
              "    }\n",
              "</style>\n",
              "<table border=\"1\" class=\"dataframe\">\n",
              "  <thead>\n",
              "    <tr style=\"text-align: right;\">\n",
              "      <th></th>\n",
              "      <th>Game Completed Date</th>\n",
              "      <th>Team</th>\n",
              "      <th>Outcome</th>\n",
              "      <th>Task Completed</th>\n",
              "      <th>All Tasks Completed</th>\n",
              "      <th>Murdered</th>\n",
              "      <th>Imposter Kills</th>\n",
              "      <th>Game Length</th>\n",
              "      <th>Ejected</th>\n",
              "      <th>Sabotages Fixed</th>\n",
              "      <th>Time to complete all tasks</th>\n",
              "      <th>Rank Change</th>\n",
              "      <th>Region/Game Code</th>\n",
              "    </tr>\n",
              "  </thead>\n",
              "  <tbody>\n",
              "    <tr>\n",
              "      <th>0</th>\n",
              "      <td>12/13/2020 at 1:26:56 am EST</td>\n",
              "      <td>Crewmate</td>\n",
              "      <td>Win</td>\n",
              "      <td>3</td>\n",
              "      <td>No</td>\n",
              "      <td>Yes</td>\n",
              "      <td>-</td>\n",
              "      <td>07m 04s</td>\n",
              "      <td>No</td>\n",
              "      <td>2.0</td>\n",
              "      <td>-</td>\n",
              "      <td>++</td>\n",
              "      <td>NA / WYMSBF</td>\n",
              "    </tr>\n",
              "    <tr>\n",
              "      <th>1</th>\n",
              "      <td>12/13/2020 at 1:17:42 am EST</td>\n",
              "      <td>Crewmate</td>\n",
              "      <td>Loss</td>\n",
              "      <td>7</td>\n",
              "      <td>Yes</td>\n",
              "      <td>No</td>\n",
              "      <td>-</td>\n",
              "      <td>16m 21s</td>\n",
              "      <td>No</td>\n",
              "      <td>1.0</td>\n",
              "      <td>09m 48s</td>\n",
              "      <td>--</td>\n",
              "      <td>NA / WYMSBF</td>\n",
              "    </tr>\n",
              "    <tr>\n",
              "      <th>2</th>\n",
              "      <td>12/13/2020 at 12:57:47 am EST</td>\n",
              "      <td>Crewmate</td>\n",
              "      <td>Win</td>\n",
              "      <td>3</td>\n",
              "      <td>No</td>\n",
              "      <td>No</td>\n",
              "      <td>-</td>\n",
              "      <td>11m 33s</td>\n",
              "      <td>No</td>\n",
              "      <td>0.0</td>\n",
              "      <td>-</td>\n",
              "      <td>++</td>\n",
              "      <td>NA / WYMSBF</td>\n",
              "    </tr>\n",
              "    <tr>\n",
              "      <th>3</th>\n",
              "      <td>12/13/2020 at 12:41:55 am EST</td>\n",
              "      <td>Imposter</td>\n",
              "      <td>Win</td>\n",
              "      <td>-</td>\n",
              "      <td>-</td>\n",
              "      <td>-</td>\n",
              "      <td>2</td>\n",
              "      <td>08m 05s</td>\n",
              "      <td>No</td>\n",
              "      <td>NaN</td>\n",
              "      <td>-</td>\n",
              "      <td>+++</td>\n",
              "      <td>Europe / QIRTNF</td>\n",
              "    </tr>\n",
              "    <tr>\n",
              "      <th>4</th>\n",
              "      <td>12/13/2020 at 12:30:37 am EST</td>\n",
              "      <td>Crewmate</td>\n",
              "      <td>Loss</td>\n",
              "      <td>4</td>\n",
              "      <td>No</td>\n",
              "      <td>No</td>\n",
              "      <td>-</td>\n",
              "      <td>05m 10s</td>\n",
              "      <td>No</td>\n",
              "      <td>0.0</td>\n",
              "      <td>-</td>\n",
              "      <td>---</td>\n",
              "      <td>Europe / QIRTNF</td>\n",
              "    </tr>\n",
              "  </tbody>\n",
              "</table>\n",
              "</div>\n",
              "      <button class=\"colab-df-convert\" onclick=\"convertToInteractive('df-00cc665a-43ff-4e93-a261-a61dd21a4d3f')\"\n",
              "              title=\"Convert this dataframe to an interactive table.\"\n",
              "              style=\"display:none;\">\n",
              "        \n",
              "  <svg xmlns=\"http://www.w3.org/2000/svg\" height=\"24px\"viewBox=\"0 0 24 24\"\n",
              "       width=\"24px\">\n",
              "    <path d=\"M0 0h24v24H0V0z\" fill=\"none\"/>\n",
              "    <path d=\"M18.56 5.44l.94 2.06.94-2.06 2.06-.94-2.06-.94-.94-2.06-.94 2.06-2.06.94zm-11 1L8.5 8.5l.94-2.06 2.06-.94-2.06-.94L8.5 2.5l-.94 2.06-2.06.94zm10 10l.94 2.06.94-2.06 2.06-.94-2.06-.94-.94-2.06-.94 2.06-2.06.94z\"/><path d=\"M17.41 7.96l-1.37-1.37c-.4-.4-.92-.59-1.43-.59-.52 0-1.04.2-1.43.59L10.3 9.45l-7.72 7.72c-.78.78-.78 2.05 0 2.83L4 21.41c.39.39.9.59 1.41.59.51 0 1.02-.2 1.41-.59l7.78-7.78 2.81-2.81c.8-.78.8-2.07 0-2.86zM5.41 20L4 18.59l7.72-7.72 1.47 1.35L5.41 20z\"/>\n",
              "  </svg>\n",
              "      </button>\n",
              "      \n",
              "  <style>\n",
              "    .colab-df-container {\n",
              "      display:flex;\n",
              "      flex-wrap:wrap;\n",
              "      gap: 12px;\n",
              "    }\n",
              "\n",
              "    .colab-df-convert {\n",
              "      background-color: #E8F0FE;\n",
              "      border: none;\n",
              "      border-radius: 50%;\n",
              "      cursor: pointer;\n",
              "      display: none;\n",
              "      fill: #1967D2;\n",
              "      height: 32px;\n",
              "      padding: 0 0 0 0;\n",
              "      width: 32px;\n",
              "    }\n",
              "\n",
              "    .colab-df-convert:hover {\n",
              "      background-color: #E2EBFA;\n",
              "      box-shadow: 0px 1px 2px rgba(60, 64, 67, 0.3), 0px 1px 3px 1px rgba(60, 64, 67, 0.15);\n",
              "      fill: #174EA6;\n",
              "    }\n",
              "\n",
              "    [theme=dark] .colab-df-convert {\n",
              "      background-color: #3B4455;\n",
              "      fill: #D2E3FC;\n",
              "    }\n",
              "\n",
              "    [theme=dark] .colab-df-convert:hover {\n",
              "      background-color: #434B5C;\n",
              "      box-shadow: 0px 1px 3px 1px rgba(0, 0, 0, 0.15);\n",
              "      filter: drop-shadow(0px 1px 2px rgba(0, 0, 0, 0.3));\n",
              "      fill: #FFFFFF;\n",
              "    }\n",
              "  </style>\n",
              "\n",
              "      <script>\n",
              "        const buttonEl =\n",
              "          document.querySelector('#df-00cc665a-43ff-4e93-a261-a61dd21a4d3f button.colab-df-convert');\n",
              "        buttonEl.style.display =\n",
              "          google.colab.kernel.accessAllowed ? 'block' : 'none';\n",
              "\n",
              "        async function convertToInteractive(key) {\n",
              "          const element = document.querySelector('#df-00cc665a-43ff-4e93-a261-a61dd21a4d3f');\n",
              "          const dataTable =\n",
              "            await google.colab.kernel.invokeFunction('convertToInteractive',\n",
              "                                                     [key], {});\n",
              "          if (!dataTable) return;\n",
              "\n",
              "          const docLinkHtml = 'Like what you see? Visit the ' +\n",
              "            '<a target=\"_blank\" href=https://colab.research.google.com/notebooks/data_table.ipynb>data table notebook</a>'\n",
              "            + ' to learn more about interactive tables.';\n",
              "          element.innerHTML = '';\n",
              "          dataTable['output_type'] = 'display_data';\n",
              "          await google.colab.output.renderOutput(dataTable, element);\n",
              "          const docLink = document.createElement('div');\n",
              "          docLink.innerHTML = docLinkHtml;\n",
              "          element.appendChild(docLink);\n",
              "        }\n",
              "      </script>\n",
              "    </div>\n",
              "  </div>\n",
              "  "
            ]
          },
          "metadata": {},
          "execution_count": 5
        }
      ]
    },
    {
      "cell_type": "code",
      "source": [
        "df.info()"
      ],
      "metadata": {
        "id": "XiBb3O5Rb5Vn",
        "outputId": "53a9260e-da3b-484b-bd33-f1d2b4c75487",
        "colab": {
          "base_uri": "https://localhost:8080/"
        }
      },
      "execution_count": null,
      "outputs": [
        {
          "output_type": "stream",
          "name": "stdout",
          "text": [
            "<class 'pandas.core.frame.DataFrame'>\n",
            "RangeIndex: 2227 entries, 0 to 2226\n",
            "Data columns (total 13 columns):\n",
            " #   Column                      Non-Null Count  Dtype  \n",
            "---  ------                      --------------  -----  \n",
            " 0   Game Completed Date         2227 non-null   object \n",
            " 1   Team                        2227 non-null   object \n",
            " 2   Outcome                     2227 non-null   object \n",
            " 3   Task Completed              2227 non-null   object \n",
            " 4   All Tasks Completed         2227 non-null   object \n",
            " 5   Murdered                    2227 non-null   object \n",
            " 6   Imposter Kills              2227 non-null   object \n",
            " 7   Game Length                 2227 non-null   object \n",
            " 8   Ejected                     2227 non-null   object \n",
            " 9   Sabotages Fixed             1761 non-null   float64\n",
            " 10  Time to complete all tasks  2227 non-null   object \n",
            " 11  Rank Change                 1828 non-null   object \n",
            " 12  Region/Game Code            2227 non-null   object \n",
            "dtypes: float64(1), object(12)\n",
            "memory usage: 226.3+ KB\n"
          ]
        }
      ]
    },
    {
      "cell_type": "markdown",
      "source": [
        "# **Part 2. 데이터 전처리 및 EDA**"
      ],
      "metadata": {
        "id": "fa2EW8y1cDB9"
      }
    },
    {
      "cell_type": "markdown",
      "source": [
        "## **Part 2-1. 데이터 전처리 진행** "
      ],
      "metadata": {
        "id": "ykkGvHoaclBz"
      }
    },
    {
      "cell_type": "code",
      "source": [
        "# 사용하지 않는 특성 제거\n",
        "df.drop(['Game Completed Date', 'Imposter Kills', 'Rank Change', 'Region/Game Code'], axis = 1, inplace = True)\n",
        "\n",
        "# Team == 크루원에 대해서 진행할 것이기 때문에 해당 데이터만 추출후 해당 특성 제거\n",
        "df_crew = df[df['Team'] == 'Crewmate'].copy()\n",
        "df_crew.drop('Team', axis = 1, inplace = True)\n",
        "\n",
        "# 데이터프레임 정보 확인\n",
        "df_crew.info()"
      ],
      "metadata": {
        "id": "2lac1iMNcFbE",
        "outputId": "698bffcd-6aa3-4be1-bae0-ba76f89e3cd7",
        "colab": {
          "base_uri": "https://localhost:8080/"
        }
      },
      "execution_count": null,
      "outputs": [
        {
          "output_type": "stream",
          "name": "stdout",
          "text": [
            "<class 'pandas.core.frame.DataFrame'>\n",
            "Int64Index: 1761 entries, 0 to 2226\n",
            "Data columns (total 8 columns):\n",
            " #   Column                      Non-Null Count  Dtype  \n",
            "---  ------                      --------------  -----  \n",
            " 0   Outcome                     1761 non-null   object \n",
            " 1   Task Completed              1761 non-null   object \n",
            " 2   All Tasks Completed         1761 non-null   object \n",
            " 3   Murdered                    1761 non-null   object \n",
            " 4   Game Length                 1761 non-null   object \n",
            " 5   Ejected                     1761 non-null   object \n",
            " 6   Sabotages Fixed             1761 non-null   float64\n",
            " 7   Time to complete all tasks  1761 non-null   object \n",
            "dtypes: float64(1), object(7)\n",
            "memory usage: 123.8+ KB\n"
          ]
        }
      ]
    },
    {
      "cell_type": "code",
      "source": [
        "# 결측치 확인\n",
        "df_crew.isnull().sum()"
      ],
      "metadata": {
        "id": "Yuhz_ZnzpPvB",
        "outputId": "8712f1cc-91f4-4ba3-ed3d-0c52101e7b8e",
        "colab": {
          "base_uri": "https://localhost:8080/"
        }
      },
      "execution_count": null,
      "outputs": [
        {
          "output_type": "execute_result",
          "data": {
            "text/plain": [
              "Outcome                       0\n",
              "Task Completed                0\n",
              "All Tasks Completed           0\n",
              "Murdered                      0\n",
              "Game Length                   0\n",
              "Ejected                       0\n",
              "Sabotages Fixed               0\n",
              "Time to complete all tasks    0\n",
              "dtype: int64"
            ]
          },
          "metadata": {},
          "execution_count": 8
        }
      ]
    },
    {
      "cell_type": "code",
      "source": [
        "# 중복값 확인\n",
        "print('중복값의 개수 : ', df_crew.duplicated().sum())\n",
        "\n",
        "# 중복값 제거\n",
        "df_crew.drop_duplicates(inplace = True)\n",
        "print('중복값 제거 후, 중복값의 개수 : ', df_crew.duplicated().sum())"
      ],
      "metadata": {
        "id": "Jq2A1b3dqSiR",
        "outputId": "f125d59b-68d2-4da2-a05c-2b3d84f5320a",
        "colab": {
          "base_uri": "https://localhost:8080/"
        }
      },
      "execution_count": null,
      "outputs": [
        {
          "output_type": "stream",
          "name": "stdout",
          "text": [
            "중복값의 개수 :  101\n",
            "중복값 제거 후, 중복값의 개수 :  0\n"
          ]
        }
      ]
    },
    {
      "cell_type": "code",
      "source": [
        "# 분과 초가 혼합되어있는 시간 특성을 초 단위로 변경하는 함수 작성\n",
        "def m_to_s(text) :\n",
        "    if text == '-' :\n",
        "        return np.nan # '-'는 업무를 다 끝내지 못해서 미기록\n",
        "    else : \n",
        "        return int(text.split('m')[0]) * 60 + int(text.split('m')[1][:3])\n",
        "\n",
        "# 시간 특성에 함수 적용\n",
        "df_crew['Game Length'] = df_crew['Game Length'].apply(m_to_s)\n",
        "df_crew['Time to complete all tasks'] = df_crew['Time to complete all tasks'].apply(m_to_s)"
      ],
      "metadata": {
        "id": "GYQI9w0-vXmk"
      },
      "execution_count": null,
      "outputs": []
    },
    {
      "cell_type": "code",
      "source": [
        "# 숫자 타입의 특성을 정수 타입으로 변환\n",
        "df_crew['Sabotages Fixed'] = df_crew['Sabotages Fixed'].astype(int)\n",
        "df_crew['Task Completed'] = df_crew['Task Completed'].astype(int)\n",
        "\n",
        "# 특성들 데이터 타입 확인\n",
        "df_crew.info()"
      ],
      "metadata": {
        "id": "XZaHhf1nxoc9",
        "outputId": "2cdc6c57-3026-4115-d459-aba42ca38e27",
        "colab": {
          "base_uri": "https://localhost:8080/"
        }
      },
      "execution_count": null,
      "outputs": [
        {
          "output_type": "stream",
          "name": "stdout",
          "text": [
            "<class 'pandas.core.frame.DataFrame'>\n",
            "Int64Index: 1660 entries, 0 to 2226\n",
            "Data columns (total 8 columns):\n",
            " #   Column                      Non-Null Count  Dtype  \n",
            "---  ------                      --------------  -----  \n",
            " 0   Outcome                     1660 non-null   object \n",
            " 1   Task Completed              1660 non-null   int64  \n",
            " 2   All Tasks Completed         1660 non-null   object \n",
            " 3   Murdered                    1660 non-null   object \n",
            " 4   Game Length                 1660 non-null   int64  \n",
            " 5   Ejected                     1660 non-null   object \n",
            " 6   Sabotages Fixed             1660 non-null   int64  \n",
            " 7   Time to complete all tasks  772 non-null    float64\n",
            "dtypes: float64(1), int64(3), object(4)\n",
            "memory usage: 116.7+ KB\n"
          ]
        }
      ]
    },
    {
      "cell_type": "code",
      "source": [
        "# 최종 변환 데이터 확인\n",
        "df_crew.head()"
      ],
      "metadata": {
        "id": "4rM_DLLMyXsm",
        "outputId": "5b6ad66c-4ced-4fb1-fa7f-7d66253ac9e4",
        "colab": {
          "base_uri": "https://localhost:8080/",
          "height": 206
        }
      },
      "execution_count": null,
      "outputs": [
        {
          "output_type": "execute_result",
          "data": {
            "text/plain": [
              "  Outcome  Task Completed All Tasks Completed Murdered  Game Length Ejected  \\\n",
              "0     Win               3                  No      Yes          424      No   \n",
              "1    Loss               7                 Yes       No          981      No   \n",
              "2     Win               3                  No       No          693      No   \n",
              "4    Loss               4                  No       No          310      No   \n",
              "5    Loss               7                 Yes      Yes          982      No   \n",
              "\n",
              "   Sabotages Fixed  Time to complete all tasks  \n",
              "0                2                         NaN  \n",
              "1                1                       588.0  \n",
              "2                0                         NaN  \n",
              "4                0                         NaN  \n",
              "5                0                       736.0  "
            ],
            "text/html": [
              "\n",
              "  <div id=\"df-1464a1eb-01d5-4431-b346-68b87db0a09f\">\n",
              "    <div class=\"colab-df-container\">\n",
              "      <div>\n",
              "<style scoped>\n",
              "    .dataframe tbody tr th:only-of-type {\n",
              "        vertical-align: middle;\n",
              "    }\n",
              "\n",
              "    .dataframe tbody tr th {\n",
              "        vertical-align: top;\n",
              "    }\n",
              "\n",
              "    .dataframe thead th {\n",
              "        text-align: right;\n",
              "    }\n",
              "</style>\n",
              "<table border=\"1\" class=\"dataframe\">\n",
              "  <thead>\n",
              "    <tr style=\"text-align: right;\">\n",
              "      <th></th>\n",
              "      <th>Outcome</th>\n",
              "      <th>Task Completed</th>\n",
              "      <th>All Tasks Completed</th>\n",
              "      <th>Murdered</th>\n",
              "      <th>Game Length</th>\n",
              "      <th>Ejected</th>\n",
              "      <th>Sabotages Fixed</th>\n",
              "      <th>Time to complete all tasks</th>\n",
              "    </tr>\n",
              "  </thead>\n",
              "  <tbody>\n",
              "    <tr>\n",
              "      <th>0</th>\n",
              "      <td>Win</td>\n",
              "      <td>3</td>\n",
              "      <td>No</td>\n",
              "      <td>Yes</td>\n",
              "      <td>424</td>\n",
              "      <td>No</td>\n",
              "      <td>2</td>\n",
              "      <td>NaN</td>\n",
              "    </tr>\n",
              "    <tr>\n",
              "      <th>1</th>\n",
              "      <td>Loss</td>\n",
              "      <td>7</td>\n",
              "      <td>Yes</td>\n",
              "      <td>No</td>\n",
              "      <td>981</td>\n",
              "      <td>No</td>\n",
              "      <td>1</td>\n",
              "      <td>588.0</td>\n",
              "    </tr>\n",
              "    <tr>\n",
              "      <th>2</th>\n",
              "      <td>Win</td>\n",
              "      <td>3</td>\n",
              "      <td>No</td>\n",
              "      <td>No</td>\n",
              "      <td>693</td>\n",
              "      <td>No</td>\n",
              "      <td>0</td>\n",
              "      <td>NaN</td>\n",
              "    </tr>\n",
              "    <tr>\n",
              "      <th>4</th>\n",
              "      <td>Loss</td>\n",
              "      <td>4</td>\n",
              "      <td>No</td>\n",
              "      <td>No</td>\n",
              "      <td>310</td>\n",
              "      <td>No</td>\n",
              "      <td>0</td>\n",
              "      <td>NaN</td>\n",
              "    </tr>\n",
              "    <tr>\n",
              "      <th>5</th>\n",
              "      <td>Loss</td>\n",
              "      <td>7</td>\n",
              "      <td>Yes</td>\n",
              "      <td>Yes</td>\n",
              "      <td>982</td>\n",
              "      <td>No</td>\n",
              "      <td>0</td>\n",
              "      <td>736.0</td>\n",
              "    </tr>\n",
              "  </tbody>\n",
              "</table>\n",
              "</div>\n",
              "      <button class=\"colab-df-convert\" onclick=\"convertToInteractive('df-1464a1eb-01d5-4431-b346-68b87db0a09f')\"\n",
              "              title=\"Convert this dataframe to an interactive table.\"\n",
              "              style=\"display:none;\">\n",
              "        \n",
              "  <svg xmlns=\"http://www.w3.org/2000/svg\" height=\"24px\"viewBox=\"0 0 24 24\"\n",
              "       width=\"24px\">\n",
              "    <path d=\"M0 0h24v24H0V0z\" fill=\"none\"/>\n",
              "    <path d=\"M18.56 5.44l.94 2.06.94-2.06 2.06-.94-2.06-.94-.94-2.06-.94 2.06-2.06.94zm-11 1L8.5 8.5l.94-2.06 2.06-.94-2.06-.94L8.5 2.5l-.94 2.06-2.06.94zm10 10l.94 2.06.94-2.06 2.06-.94-2.06-.94-.94-2.06-.94 2.06-2.06.94z\"/><path d=\"M17.41 7.96l-1.37-1.37c-.4-.4-.92-.59-1.43-.59-.52 0-1.04.2-1.43.59L10.3 9.45l-7.72 7.72c-.78.78-.78 2.05 0 2.83L4 21.41c.39.39.9.59 1.41.59.51 0 1.02-.2 1.41-.59l7.78-7.78 2.81-2.81c.8-.78.8-2.07 0-2.86zM5.41 20L4 18.59l7.72-7.72 1.47 1.35L5.41 20z\"/>\n",
              "  </svg>\n",
              "      </button>\n",
              "      \n",
              "  <style>\n",
              "    .colab-df-container {\n",
              "      display:flex;\n",
              "      flex-wrap:wrap;\n",
              "      gap: 12px;\n",
              "    }\n",
              "\n",
              "    .colab-df-convert {\n",
              "      background-color: #E8F0FE;\n",
              "      border: none;\n",
              "      border-radius: 50%;\n",
              "      cursor: pointer;\n",
              "      display: none;\n",
              "      fill: #1967D2;\n",
              "      height: 32px;\n",
              "      padding: 0 0 0 0;\n",
              "      width: 32px;\n",
              "    }\n",
              "\n",
              "    .colab-df-convert:hover {\n",
              "      background-color: #E2EBFA;\n",
              "      box-shadow: 0px 1px 2px rgba(60, 64, 67, 0.3), 0px 1px 3px 1px rgba(60, 64, 67, 0.15);\n",
              "      fill: #174EA6;\n",
              "    }\n",
              "\n",
              "    [theme=dark] .colab-df-convert {\n",
              "      background-color: #3B4455;\n",
              "      fill: #D2E3FC;\n",
              "    }\n",
              "\n",
              "    [theme=dark] .colab-df-convert:hover {\n",
              "      background-color: #434B5C;\n",
              "      box-shadow: 0px 1px 3px 1px rgba(0, 0, 0, 0.15);\n",
              "      filter: drop-shadow(0px 1px 2px rgba(0, 0, 0, 0.3));\n",
              "      fill: #FFFFFF;\n",
              "    }\n",
              "  </style>\n",
              "\n",
              "      <script>\n",
              "        const buttonEl =\n",
              "          document.querySelector('#df-1464a1eb-01d5-4431-b346-68b87db0a09f button.colab-df-convert');\n",
              "        buttonEl.style.display =\n",
              "          google.colab.kernel.accessAllowed ? 'block' : 'none';\n",
              "\n",
              "        async function convertToInteractive(key) {\n",
              "          const element = document.querySelector('#df-1464a1eb-01d5-4431-b346-68b87db0a09f');\n",
              "          const dataTable =\n",
              "            await google.colab.kernel.invokeFunction('convertToInteractive',\n",
              "                                                     [key], {});\n",
              "          if (!dataTable) return;\n",
              "\n",
              "          const docLinkHtml = 'Like what you see? Visit the ' +\n",
              "            '<a target=\"_blank\" href=https://colab.research.google.com/notebooks/data_table.ipynb>data table notebook</a>'\n",
              "            + ' to learn more about interactive tables.';\n",
              "          element.innerHTML = '';\n",
              "          dataTable['output_type'] = 'display_data';\n",
              "          await google.colab.output.renderOutput(dataTable, element);\n",
              "          const docLink = document.createElement('div');\n",
              "          docLink.innerHTML = docLinkHtml;\n",
              "          element.appendChild(docLink);\n",
              "        }\n",
              "      </script>\n",
              "    </div>\n",
              "  </div>\n",
              "  "
            ]
          },
          "metadata": {},
          "execution_count": 12
        }
      ]
    },
    {
      "cell_type": "markdown",
      "source": [
        "## **Part 2-2. EDA 진행**"
      ],
      "metadata": {
        "id": "SmpcFODecssP"
      }
    },
    {
      "cell_type": "code",
      "source": [
        "# 타겟의 데이터 분포 확인\n",
        "df_crew['Outcome'].value_counts(normalize = True).plot.pie(autopct = \"%.1f%%\")\n",
        "plt.title('승리한 게임과 패배한 게임의 비율', fontsize = 15)\n",
        "plt.show()"
      ],
      "metadata": {
        "id": "BFcpTdNDziXK",
        "outputId": "847d9d7c-febd-481a-8808-5b7b0b3c448f",
        "colab": {
          "base_uri": "https://localhost:8080/",
          "height": 266
        }
      },
      "execution_count": null,
      "outputs": [
        {
          "output_type": "display_data",
          "data": {
            "text/plain": [
              "<Figure size 432x288 with 1 Axes>"
            ],
            "image/png": "[encoded data removed]"
          },
          "metadata": {}
        }
      ]
    },
    {
      "cell_type": "code",
      "source": [
        "# Game Length 특성에 대해서 boxplot을 통해 시각화\n",
        "sns.boxplot(x = 'Outcome', y = 'Game Length', data = df_crew)\n",
        "plt.title('게임 승패에 따른 게임 시간', fontsize = 20, pad = 15)\n",
        "plt.xlabel('승패여부', fontsize = 12)\n",
        "plt.show()"
      ],
      "metadata": {
        "id": "pN9hM0bl5KWm",
        "outputId": "5d72387e-ebdb-4a97-c2e7-7284b3908ed3",
        "colab": {
          "base_uri": "https://localhost:8080/",
          "height": 312
        }
      },
      "execution_count": null,
      "outputs": [
        {
          "output_type": "display_data",
          "data": {
            "text/plain": [
              "<Figure size 432x288 with 1 Axes>"
            ],
            "image/png": "[encoded data removed]"
          },
          "metadata": {
            "needs_background": "light"
          }
        }
      ]
    },
    {
      "cell_type": "code",
      "source": [
        "# Time to complete all tasks 특성에 대해서 boxplot을 통해 시각화\n",
        "sns.boxplot(x = 'Outcome', y = 'Time to complete all tasks', data = df_crew)\n",
        "plt.title('게임 승패에 따른 업무 완료 시간', fontsize = 20, pad = 15)\n",
        "plt.xlabel('승패여부', fontsize = 12)\n",
        "plt.show()"
      ],
      "metadata": {
        "id": "5pKC63xF79AN",
        "outputId": "3ffe9335-83dd-4a43-b4e4-6b49aeb38f07",
        "colab": {
          "base_uri": "https://localhost:8080/",
          "height": 312
        }
      },
      "execution_count": null,
      "outputs": [
        {
          "output_type": "display_data",
          "data": {
            "text/plain": [
              "<Figure size 432x288 with 1 Axes>"
            ],
            "image/png": "[encoded data removed]"
          },
          "metadata": {
            "needs_background": "light"
          }
        }
      ]
    },
    {
      "cell_type": "code",
      "source": [
        "# 특성에 따라 승리, 패배 횟수 barplot을 그리는 함수 작성\n",
        "def feature_outcome(df, target, rvs) : \n",
        "    bar_width = 0.25\n",
        "    target_list = sorted(df[target].unique(), reverse = rvs)\n",
        "    index = np.arange(len(target_list))\n",
        "    for i in index : \n",
        "        plt.bar(i, df_crew[df_crew[target] == target_list[i]]['Outcome'].value_counts()['Win'], bar_width, alpha=0.7, color='blue')\n",
        "        plt.bar(i + bar_width, df_crew[df_crew[target] == target_list[i]]['Outcome'].value_counts()['Loss'], bar_width, alpha=0.8, color='red')\n",
        "    plt.xticks(np.arange(bar_width/2, len(target_list) + bar_width/2, 1), target_list)\n",
        "    plt.xlabel(target, size = 13)\n",
        "    plt.title(target + '에 따른 승리/패배 횟수', fontsize = 15)\n",
        "    plt.legend(('Win', 'Loss'), bbox_to_anchor = (1, 1))\n",
        "    plt.show()"
      ],
      "metadata": {
        "id": "Kn2o6XtXDCoi"
      },
      "execution_count": null,
      "outputs": []
    },
    {
      "cell_type": "code",
      "source": [
        "feature_outcome(df_crew, 'Sabotages Fixed', False)"
      ],
      "metadata": {
        "id": "JLhRxWocXrds",
        "outputId": "cbfb205d-ea40-446d-9038-d45e27c241e3",
        "colab": {
          "base_uri": "https://localhost:8080/",
          "height": 301
        }
      },
      "execution_count": null,
      "outputs": [
        {
          "output_type": "display_data",
          "data": {
            "text/plain": [
              "<Figure size 432x288 with 1 Axes>"
            ],
            "image/png": "[encoded data removed]"
          },
          "metadata": {
            "needs_background": "light"
          }
        }
      ]
    },
    {
      "cell_type": "code",
      "source": [
        "feature_outcome(df_crew, 'All Tasks Completed', True)"
      ],
      "metadata": {
        "id": "skuFQHc3VlWq",
        "outputId": "930152c2-60df-4f68-baaf-5c2c03c82892",
        "colab": {
          "base_uri": "https://localhost:8080/",
          "height": 301
        }
      },
      "execution_count": null,
      "outputs": [
        {
          "output_type": "display_data",
          "data": {
            "text/plain": [
              "<Figure size 432x288 with 1 Axes>"
            ],
            "image/png": "[encoded data removed]"
          },
          "metadata": {
            "needs_background": "light"
          }
        }
      ]
    },
    {
      "cell_type": "markdown",
      "source": [
        "# **Part 3. 머신러닝**"
      ],
      "metadata": {
        "id": "zpLCkkBNcJnB"
      }
    },
    {
      "cell_type": "code",
      "source": [
        "# 타겟 설정\n",
        "target = 'Outcome'\n",
        "\n",
        "# 데이터를 훈련 데이터와 테스트 데이터로 분류\n",
        "train_set, test_data = train_test_split(df_crew, test_size = 0.2, stratify = df_crew[target], random_state = 42)\n",
        "\n",
        "# 훈련 데이터를 훈련 데이터와 검증 데이터로 분류\n",
        "train_data, val_data = train_test_split(train_set, test_size = 0.2, stratify = train_set[target], random_state = 42)\n",
        "\n",
        "print('훈련 데이터셋 : ', train_data.shape)\n",
        "print('검증 데이터셋 : ', val_data.shape)\n",
        "print('테스트 데이터셋 : ', test_data.shape)"
      ],
      "metadata": {
        "id": "oqUgeN8xiaRg",
        "colab": {
          "base_uri": "https://localhost:8080/"
        },
        "outputId": "688793bf-61dc-4cb2-8965-f92010e52cc1"
      },
      "execution_count": null,
      "outputs": [
        {
          "output_type": "stream",
          "name": "stdout",
          "text": [
            "훈련 데이터셋 :  (1062, 8)\n",
            "검증 데이터셋 :  (266, 8)\n",
            "테스트 데이터셋 :  (332, 8)\n"
          ]
        }
      ]
    },
    {
      "cell_type": "code",
      "source": [
        "# 각 데이터를 feature과 label로 분리\n",
        "features = train_data.drop(columns=[target]).columns\n",
        "\n",
        "X_train = train_data[features]\n",
        "y_train = train_data[target]\n",
        "X_val = val_data[features]\n",
        "y_val = val_data[target]\n",
        "X_test = test_data[features]\n",
        "y_test = test_data[target]\n",
        "\n",
        "print('훈련 데이터 : ', X_train.shape, y_train.shape)\n",
        "print('검증 데이터 : ', X_val.shape, y_val.shape)\n",
        "print('테스트 데이터 : ', X_test.shape, y_test.shape)"
      ],
      "metadata": {
        "colab": {
          "base_uri": "https://localhost:8080/"
        },
        "id": "7LXYq70XwihY",
        "outputId": "3cc8ab15-1f4d-4ac7-eb32-8ffd900b5438"
      },
      "execution_count": null,
      "outputs": [
        {
          "output_type": "stream",
          "name": "stdout",
          "text": [
            "훈련 데이터 :  (1062, 7) (1062,)\n",
            "검증 데이터 :  (266, 7) (266,)\n",
            "테스트 데이터 :  (332, 7) (332,)\n"
          ]
        }
      ]
    },
    {
      "cell_type": "code",
      "source": [
        "# 기준모델\n",
        "base = y_train.mode()[0]\n",
        "baseline = len(y_train) * [base]\n",
        "baseline_acc = accuracy_score(y_train, baseline)\n",
        "print('기준모델의 정확도 :', baseline_acc.round(2))"
      ],
      "metadata": {
        "colab": {
          "base_uri": "https://localhost:8080/"
        },
        "id": "KQyEeXRmxR_o",
        "outputId": "6ae7e60b-2e05-4351-e622-f9c0659732ce"
      },
      "execution_count": null,
      "outputs": [
        {
          "output_type": "stream",
          "name": "stdout",
          "text": [
            "기준모델의 정확도 : 0.56\n"
          ]
        }
      ]
    },
    {
      "cell_type": "code",
      "source": [
        "# 특성 인코딩 \n",
        "enc = OrdinalEncoder()\n",
        "\n",
        "X_train_encoded = enc.fit_transform(X_train)\n",
        "X_val_encoded = enc.transform(X_val)\n",
        "X_test_encoded = enc.transform(X_test)\n",
        "\n",
        "X_train_encoded.head()"
      ],
      "metadata": {
        "colab": {
          "base_uri": "https://localhost:8080/",
          "height": 206
        },
        "id": "I-qU6682zeIF",
        "outputId": "1802584b-ec36-4880-8d33-fc93dcc683bd"
      },
      "execution_count": null,
      "outputs": [
        {
          "output_type": "execute_result",
          "data": {
            "text/plain": [
              "      Task Completed  All Tasks Completed  Murdered  Game Length  Ejected  \\\n",
              "1647               7                    1         1          652        1   \n",
              "2123               5                    2         1          666        2   \n",
              "1995               8                    2         2         1217        1   \n",
              "2010               3                    1         1          462        1   \n",
              "427                2                    1         2          472        1   \n",
              "\n",
              "      Sabotages Fixed  Time to complete all tasks  \n",
              "1647                1                         NaN  \n",
              "2123                2                       493.0  \n",
              "1995                1                       314.0  \n",
              "2010                0                         NaN  \n",
              "427                 0                         NaN  "
            ],
            "text/html": [
              "\n",
              "  <div id=\"df-de855626-00e4-4331-8e45-f068c65c82f3\">\n",
              "    <div class=\"colab-df-container\">\n",
              "      <div>\n",
              "<style scoped>\n",
              "    .dataframe tbody tr th:only-of-type {\n",
              "        vertical-align: middle;\n",
              "    }\n",
              "\n",
              "    .dataframe tbody tr th {\n",
              "        vertical-align: top;\n",
              "    }\n",
              "\n",
              "    .dataframe thead th {\n",
              "        text-align: right;\n",
              "    }\n",
              "</style>\n",
              "<table border=\"1\" class=\"dataframe\">\n",
              "  <thead>\n",
              "    <tr style=\"text-align: right;\">\n",
              "      <th></th>\n",
              "      <th>Task Completed</th>\n",
              "      <th>All Tasks Completed</th>\n",
              "      <th>Murdered</th>\n",
              "      <th>Game Length</th>\n",
              "      <th>Ejected</th>\n",
              "      <th>Sabotages Fixed</th>\n",
              "      <th>Time to complete all tasks</th>\n",
              "    </tr>\n",
              "  </thead>\n",
              "  <tbody>\n",
              "    <tr>\n",
              "      <th>1647</th>\n",
              "      <td>7</td>\n",
              "      <td>1</td>\n",
              "      <td>1</td>\n",
              "      <td>652</td>\n",
              "      <td>1</td>\n",
              "      <td>1</td>\n",
              "      <td>NaN</td>\n",
              "    </tr>\n",
              "    <tr>\n",
              "      <th>2123</th>\n",
              "      <td>5</td>\n",
              "      <td>2</td>\n",
              "      <td>1</td>\n",
              "      <td>666</td>\n",
              "      <td>2</td>\n",
              "      <td>2</td>\n",
              "      <td>493.0</td>\n",
              "    </tr>\n",
              "    <tr>\n",
              "      <th>1995</th>\n",
              "      <td>8</td>\n",
              "      <td>2</td>\n",
              "      <td>2</td>\n",
              "      <td>1217</td>\n",
              "      <td>1</td>\n",
              "      <td>1</td>\n",
              "      <td>314.0</td>\n",
              "    </tr>\n",
              "    <tr>\n",
              "      <th>2010</th>\n",
              "      <td>3</td>\n",
              "      <td>1</td>\n",
              "      <td>1</td>\n",
              "      <td>462</td>\n",
              "      <td>1</td>\n",
              "      <td>0</td>\n",
              "      <td>NaN</td>\n",
              "    </tr>\n",
              "    <tr>\n",
              "      <th>427</th>\n",
              "      <td>2</td>\n",
              "      <td>1</td>\n",
              "      <td>2</td>\n",
              "      <td>472</td>\n",
              "      <td>1</td>\n",
              "      <td>0</td>\n",
              "      <td>NaN</td>\n",
              "    </tr>\n",
              "  </tbody>\n",
              "</table>\n",
              "</div>\n",
              "      <button class=\"colab-df-convert\" onclick=\"convertToInteractive('df-de855626-00e4-4331-8e45-f068c65c82f3')\"\n",
              "              title=\"Convert this dataframe to an interactive table.\"\n",
              "              style=\"display:none;\">\n",
              "        \n",
              "  <svg xmlns=\"http://www.w3.org/2000/svg\" height=\"24px\"viewBox=\"0 0 24 24\"\n",
              "       width=\"24px\">\n",
              "    <path d=\"M0 0h24v24H0V0z\" fill=\"none\"/>\n",
              "    <path d=\"M18.56 5.44l.94 2.06.94-2.06 2.06-.94-2.06-.94-.94-2.06-.94 2.06-2.06.94zm-11 1L8.5 8.5l.94-2.06 2.06-.94-2.06-.94L8.5 2.5l-.94 2.06-2.06.94zm10 10l.94 2.06.94-2.06 2.06-.94-2.06-.94-.94-2.06-.94 2.06-2.06.94z\"/><path d=\"M17.41 7.96l-1.37-1.37c-.4-.4-.92-.59-1.43-.59-.52 0-1.04.2-1.43.59L10.3 9.45l-7.72 7.72c-.78.78-.78 2.05 0 2.83L4 21.41c.39.39.9.59 1.41.59.51 0 1.02-.2 1.41-.59l7.78-7.78 2.81-2.81c.8-.78.8-2.07 0-2.86zM5.41 20L4 18.59l7.72-7.72 1.47 1.35L5.41 20z\"/>\n",
              "  </svg>\n",
              "      </button>\n",
              "      \n",
              "  <style>\n",
              "    .colab-df-container {\n",
              "      display:flex;\n",
              "      flex-wrap:wrap;\n",
              "      gap: 12px;\n",
              "    }\n",
              "\n",
              "    .colab-df-convert {\n",
              "      background-color: #E8F0FE;\n",
              "      border: none;\n",
              "      border-radius: 50%;\n",
              "      cursor: pointer;\n",
              "      display: none;\n",
              "      fill: #1967D2;\n",
              "      height: 32px;\n",
              "      padding: 0 0 0 0;\n",
              "      width: 32px;\n",
              "    }\n",
              "\n",
              "    .colab-df-convert:hover {\n",
              "      background-color: #E2EBFA;\n",
              "      box-shadow: 0px 1px 2px rgba(60, 64, 67, 0.3), 0px 1px 3px 1px rgba(60, 64, 67, 0.15);\n",
              "      fill: #174EA6;\n",
              "    }\n",
              "\n",
              "    [theme=dark] .colab-df-convert {\n",
              "      background-color: #3B4455;\n",
              "      fill: #D2E3FC;\n",
              "    }\n",
              "\n",
              "    [theme=dark] .colab-df-convert:hover {\n",
              "      background-color: #434B5C;\n",
              "      box-shadow: 0px 1px 3px 1px rgba(0, 0, 0, 0.15);\n",
              "      filter: drop-shadow(0px 1px 2px rgba(0, 0, 0, 0.3));\n",
              "      fill: #FFFFFF;\n",
              "    }\n",
              "  </style>\n",
              "\n",
              "      <script>\n",
              "        const buttonEl =\n",
              "          document.querySelector('#df-de855626-00e4-4331-8e45-f068c65c82f3 button.colab-df-convert');\n",
              "        buttonEl.style.display =\n",
              "          google.colab.kernel.accessAllowed ? 'block' : 'none';\n",
              "\n",
              "        async function convertToInteractive(key) {\n",
              "          const element = document.querySelector('#df-de855626-00e4-4331-8e45-f068c65c82f3');\n",
              "          const dataTable =\n",
              "            await google.colab.kernel.invokeFunction('convertToInteractive',\n",
              "                                                     [key], {});\n",
              "          if (!dataTable) return;\n",
              "\n",
              "          const docLinkHtml = 'Like what you see? Visit the ' +\n",
              "            '<a target=\"_blank\" href=https://colab.research.google.com/notebooks/data_table.ipynb>data table notebook</a>'\n",
              "            + ' to learn more about interactive tables.';\n",
              "          element.innerHTML = '';\n",
              "          dataTable['output_type'] = 'display_data';\n",
              "          await google.colab.output.renderOutput(dataTable, element);\n",
              "          const docLink = document.createElement('div');\n",
              "          docLink.innerHTML = docLinkHtml;\n",
              "          element.appendChild(docLink);\n",
              "        }\n",
              "      </script>\n",
              "    </div>\n",
              "  </div>\n",
              "  "
            ]
          },
          "metadata": {},
          "execution_count": 22
        }
      ]
    },
    {
      "cell_type": "code",
      "source": [
        "# 모델 생성\n",
        "model =  XGBClassifier(\n",
        "        objective = \"binary:logistic\",\n",
        "        eval_metric = \"error\",  # 회귀 : rmse / 분류 : error\n",
        "        n_estimators = 200,\n",
        "        random_state = 42,\n",
        "        gamma = 2,\n",
        "        n_jobs = -1,\n",
        "        learning_rate = 0.1\n",
        "    )\n"
      ],
      "metadata": {
        "id": "tiUC2C-L5R90"
      },
      "execution_count": null,
      "outputs": []
    },
    {
      "cell_type": "code",
      "source": [
        "# 탐색할 하이퍼 파라미터 설정\n",
        "params = {\n",
        "    \"xgbclassifier__max_depth\": [2, 3, 4, 5, 6],\n",
        "    \"xgbclassifier__min_child_weight\": np.arange(1, 11),\n",
        "    \"xgbclassifier__sub_sample\": [0.2, 0.4, 0.6, 0.8, 1]\n",
        "}\n",
        "\n",
        "# 하이퍼 파라미터 탐색\n",
        "grid_search = GridSearchCV(model, param_grid = params, scoring = \"accuracy\", cv = 3, verbose = 3)\n",
        "grid_search.fit(X_train_encoded, y_train)\n",
        "\n",
        "print(\"최적 하이퍼파라미터: \", grid_search.best_params_)\n",
        "print(\"최적 정확도: \", grid_search.best_score_)"
      ],
      "metadata": {
        "colab": {
          "base_uri": "https://localhost:8080/"
        },
        "id": "r1QnJo9cJ_Jy",
        "outputId": "e5256003-1046-4b40-ef88-bc8d1d7ae044"
      },
      "execution_count": null,
      "outputs": [
        {
          "output_type": "stream",
          "name": "stdout",
          "text": [
            "Fitting 3 folds for each of 250 candidates, totalling 750 fits\n",
            "[CV 1/3] END xgbclassifier__max_depth=2, xgbclassifier__min_child_weight=1, xgbclassifier__sub_sample=0.2;, score=0.619 total time=   0.1s\n",
            "[CV 2/3] END xgbclassifier__max_depth=2, xgbclassifier__min_child_weight=1, xgbclassifier__sub_sample=0.2;, score=0.621 total time=   0.1s\n",
            "[CV 3/3] END xgbclassifier__max_depth=2, xgbclassifier__min_child_weight=1, xgbclassifier__sub_sample=0.2;, score=0.599 total time=   0.1s\n",
            "[CV 1/3] END xgbclassifier__max_depth=2, xgbclassifier__min_child_weight=1, xgbclassifier__sub_sample=0.4;, score=0.619 total time=   0.1s\n",
            "[CV 2/3] END xgbclassifier__max_depth=2, xgbclassifier__min_child_weight=1, xgbclassifier__sub_sample=0.4;, score=0.621 total time=   0.1s\n",
            "[CV 3/3] END xgbclassifier__max_depth=2, xgbclassifier__min_child_weight=1, xgbclassifier__sub_sample=0.4;, score=0.599 total time=   0.1s\n",
            "[CV 1/3] END xgbclassifier__max_depth=2, xgbclassifier__min_child_weight=1, xgbclassifier__sub_sample=0.6;, score=0.619 total time=   0.1s\n",
            "[CV 2/3] END xgbclassifier__max_depth=2, xgbclassifier__min_child_weight=1, xgbclassifier__sub_sample=0.6;, score=0.621 total time=   0.1s\n",
            "[CV 3/3] END xgbclassifier__max_depth=2, xgbclassifier__min_child_weight=1, xgbclassifier__sub_sample=0.6;, score=0.599 total time=   0.1s\n",
            "[CV 1/3] END xgbclassifier__max_depth=2, xgbclassifier__min_child_weight=1, xgbclassifier__sub_sample=0.8;, score=0.619 total time=   0.1s\n",
            "[CV 2/3] END xgbclassifier__max_depth=2, xgbclassifier__min_child_weight=1, xgbclassifier__sub_sample=0.8;, score=0.621 total time=   0.1s\n",
            "[CV 3/3] END xgbclassifier__max_depth=2, xgbclassifier__min_child_weight=1, xgbclassifier__sub_sample=0.8;, score=0.599 total time=   0.1s\n",
            "[CV 1/3] END xgbclassifier__max_depth=2, xgbclassifier__min_child_weight=1, xgbclassifier__sub_sample=1;, score=0.619 total time=   0.1s\n",
            "[CV 2/3] END xgbclassifier__max_depth=2, xgbclassifier__min_child_weight=1, xgbclassifier__sub_sample=1;, score=0.621 total time=   0.1s\n",
            "[CV 3/3] END xgbclassifier__max_depth=2, xgbclassifier__min_child_weight=1, xgbclassifier__sub_sample=1;, score=0.599 total time=   0.1s\n",
            "[CV 1/3] END xgbclassifier__max_depth=2, xgbclassifier__min_child_weight=2, xgbclassifier__sub_sample=0.2;, score=0.619 total time=   0.1s\n",
            "[CV 2/3] END xgbclassifier__max_depth=2, xgbclassifier__min_child_weight=2, xgbclassifier__sub_sample=0.2;, score=0.621 total time=   0.1s\n",
            "[CV 3/3] END xgbclassifier__max_depth=2, xgbclassifier__min_child_weight=2, xgbclassifier__sub_sample=0.2;, score=0.599 total time=   0.1s\n",
            "[CV 1/3] END xgbclassifier__max_depth=2, xgbclassifier__min_child_weight=2, xgbclassifier__sub_sample=0.4;, score=0.619 total time=   0.1s\n",
            "[CV 2/3] END xgbclassifier__max_depth=2, xgbclassifier__min_child_weight=2, xgbclassifier__sub_sample=0.4;, score=0.621 total time=   0.1s\n",
            "[CV 3/3] END xgbclassifier__max_depth=2, xgbclassifier__min_child_weight=2, xgbclassifier__sub_sample=0.4;, score=0.599 total time=   0.1s\n",
            "[CV 1/3] END xgbclassifier__max_depth=2, xgbclassifier__min_child_weight=2, xgbclassifier__sub_sample=0.6;, score=0.619 total time=   0.3s\n",
            "[CV 2/3] END xgbclassifier__max_depth=2, xgbclassifier__min_child_weight=2, xgbclassifier__sub_sample=0.6;, score=0.621 total time=   0.4s\n",
            "[CV 3/3] END xgbclassifier__max_depth=2, xgbclassifier__min_child_weight=2, xgbclassifier__sub_sample=0.6;, score=0.599 total time=   0.2s\n",
            "[CV 1/3] END xgbclassifier__max_depth=2, xgbclassifier__min_child_weight=2, xgbclassifier__sub_sample=0.8;, score=0.619 total time=   0.3s\n",
            "[CV 2/3] END xgbclassifier__max_depth=2, xgbclassifier__min_child_weight=2, xgbclassifier__sub_sample=0.8;, score=0.621 total time=   0.7s\n",
            "[CV 3/3] END xgbclassifier__max_depth=2, xgbclassifier__min_child_weight=2, xgbclassifier__sub_sample=0.8;, score=0.599 total time=   0.3s\n",
            "[CV 1/3] END xgbclassifier__max_depth=2, xgbclassifier__min_child_weight=2, xgbclassifier__sub_sample=1;, score=0.619 total time=   0.3s\n",
            "[CV 2/3] END xgbclassifier__max_depth=2, xgbclassifier__min_child_weight=2, xgbclassifier__sub_sample=1;, score=0.621 total time=   0.6s\n",
            "[CV 3/3] END xgbclassifier__max_depth=2, xgbclassifier__min_child_weight=2, xgbclassifier__sub_sample=1;, score=0.599 total time=   0.3s\n",
            "[CV 1/3] END xgbclassifier__max_depth=2, xgbclassifier__min_child_weight=3, xgbclassifier__sub_sample=0.2;, score=0.619 total time=   0.3s\n",
            "[CV 2/3] END xgbclassifier__max_depth=2, xgbclassifier__min_child_weight=3, xgbclassifier__sub_sample=0.2;, score=0.621 total time=   0.6s\n",
            "[CV 3/3] END xgbclassifier__max_depth=2, xgbclassifier__min_child_weight=3, xgbclassifier__sub_sample=0.2;, score=0.599 total time=   0.9s\n",
            "[CV 1/3] END xgbclassifier__max_depth=2, xgbclassifier__min_child_weight=3, xgbclassifier__sub_sample=0.4;, score=0.619 total time=   0.6s\n",
            "[CV 2/3] END xgbclassifier__max_depth=2, xgbclassifier__min_child_weight=3, xgbclassifier__sub_sample=0.4;, score=0.621 total time=   0.5s\n",
            "[CV 3/3] END xgbclassifier__max_depth=2, xgbclassifier__min_child_weight=3, xgbclassifier__sub_sample=0.4;, score=0.599 total time=   0.4s\n",
            "[CV 1/3] END xgbclassifier__max_depth=2, xgbclassifier__min_child_weight=3, xgbclassifier__sub_sample=0.6;, score=0.619 total time=   0.4s\n",
            "[CV 2/3] END xgbclassifier__max_depth=2, xgbclassifier__min_child_weight=3, xgbclassifier__sub_sample=0.6;, score=0.621 total time=   0.3s\n",
            "[CV 3/3] END xgbclassifier__max_depth=2, xgbclassifier__min_child_weight=3, xgbclassifier__sub_sample=0.6;, score=0.599 total time=   0.5s\n",
            "[CV 1/3] END xgbclassifier__max_depth=2, xgbclassifier__min_child_weight=3, xgbclassifier__sub_sample=0.8;, score=0.619 total time=   0.2s\n",
            "[CV 2/3] END xgbclassifier__max_depth=2, xgbclassifier__min_child_weight=3, xgbclassifier__sub_sample=0.8;, score=0.621 total time=   0.5s\n",
            "[CV 3/3] END xgbclassifier__max_depth=2, xgbclassifier__min_child_weight=3, xgbclassifier__sub_sample=0.8;, score=0.599 total time=   1.7s\n",
            "[CV 1/3] END xgbclassifier__max_depth=2, xgbclassifier__min_child_weight=3, xgbclassifier__sub_sample=1;, score=0.619 total time=   0.3s\n",
            "[CV 2/3] END xgbclassifier__max_depth=2, xgbclassifier__min_child_weight=3, xgbclassifier__sub_sample=1;, score=0.621 total time=   0.7s\n",
            "[CV 3/3] END xgbclassifier__max_depth=2, xgbclassifier__min_child_weight=3, xgbclassifier__sub_sample=1;, score=0.599 total time=   0.2s\n",
            "[CV 1/3] END xgbclassifier__max_depth=2, xgbclassifier__min_child_weight=4, xgbclassifier__sub_sample=0.2;, score=0.619 total time=   0.3s\n",
            "[CV 2/3] END xgbclassifier__max_depth=2, xgbclassifier__min_child_weight=4, xgbclassifier__sub_sample=0.2;, score=0.621 total time=   0.3s\n",
            "[CV 3/3] END xgbclassifier__max_depth=2, xgbclassifier__min_child_weight=4, xgbclassifier__sub_sample=0.2;, score=0.599 total time=   0.2s\n",
            "[CV 1/3] END xgbclassifier__max_depth=2, xgbclassifier__min_child_weight=4, xgbclassifier__sub_sample=0.4;, score=0.619 total time=   0.4s\n",
            "[CV 2/3] END xgbclassifier__max_depth=2, xgbclassifier__min_child_weight=4, xgbclassifier__sub_sample=0.4;, score=0.621 total time=   0.3s\n",
            "[CV 3/3] END xgbclassifier__max_depth=2, xgbclassifier__min_child_weight=4, xgbclassifier__sub_sample=0.4;, score=0.599 total time=   0.7s\n",
            "[CV 1/3] END xgbclassifier__max_depth=2, xgbclassifier__min_child_weight=4, xgbclassifier__sub_sample=0.6;, score=0.619 total time=   0.7s\n",
            "[CV 2/3] END xgbclassifier__max_depth=2, xgbclassifier__min_child_weight=4, xgbclassifier__sub_sample=0.6;, score=0.621 total time=   0.8s\n",
            "[CV 3/3] END xgbclassifier__max_depth=2, xgbclassifier__min_child_weight=4, xgbclassifier__sub_sample=0.6;, score=0.599 total time=   0.5s\n",
            "[CV 1/3] END xgbclassifier__max_depth=2, xgbclassifier__min_child_weight=4, xgbclassifier__sub_sample=0.8;, score=0.619 total time=   0.3s\n",
            "[CV 2/3] END xgbclassifier__max_depth=2, xgbclassifier__min_child_weight=4, xgbclassifier__sub_sample=0.8;, score=0.621 total time=   0.3s\n",
            "[CV 3/3] END xgbclassifier__max_depth=2, xgbclassifier__min_child_weight=4, xgbclassifier__sub_sample=0.8;, score=0.599 total time=   0.9s\n",
            "[CV 1/3] END xgbclassifier__max_depth=2, xgbclassifier__min_child_weight=4, xgbclassifier__sub_sample=1;, score=0.619 total time=   0.3s\n",
            "[CV 2/3] END xgbclassifier__max_depth=2, xgbclassifier__min_child_weight=4, xgbclassifier__sub_sample=1;, score=0.621 total time=   0.3s\n",
            "[CV 3/3] END xgbclassifier__max_depth=2, xgbclassifier__min_child_weight=4, xgbclassifier__sub_sample=1;, score=0.599 total time=   0.7s\n",
            "[CV 1/3] END xgbclassifier__max_depth=2, xgbclassifier__min_child_weight=5, xgbclassifier__sub_sample=0.2;, score=0.619 total time=   1.6s\n",
            "[CV 2/3] END xgbclassifier__max_depth=2, xgbclassifier__min_child_weight=5, xgbclassifier__sub_sample=0.2;, score=0.621 total time=   0.9s\n",
            "[CV 3/3] END xgbclassifier__max_depth=2, xgbclassifier__min_child_weight=5, xgbclassifier__sub_sample=0.2;, score=0.599 total time=   0.9s\n",
            "[CV 1/3] END xgbclassifier__max_depth=2, xgbclassifier__min_child_weight=5, xgbclassifier__sub_sample=0.4;, score=0.619 total time=   0.9s\n",
            "[CV 2/3] END xgbclassifier__max_depth=2, xgbclassifier__min_child_weight=5, xgbclassifier__sub_sample=0.4;, score=0.621 total time=   0.5s\n",
            "[CV 3/3] END xgbclassifier__max_depth=2, xgbclassifier__min_child_weight=5, xgbclassifier__sub_sample=0.4;, score=0.599 total time=   0.4s\n",
            "[CV 1/3] END xgbclassifier__max_depth=2, xgbclassifier__min_child_weight=5, xgbclassifier__sub_sample=0.6;, score=0.619 total time=   0.4s\n",
            "[CV 2/3] END xgbclassifier__max_depth=2, xgbclassifier__min_child_weight=5, xgbclassifier__sub_sample=0.6;, score=0.621 total time=   0.4s\n",
            "[CV 3/3] END xgbclassifier__max_depth=2, xgbclassifier__min_child_weight=5, xgbclassifier__sub_sample=0.6;, score=0.599 total time=   0.5s\n",
            "[CV 1/3] END xgbclassifier__max_depth=2, xgbclassifier__min_child_weight=5, xgbclassifier__sub_sample=0.8;, score=0.619 total time=   0.4s\n",
            "[CV 2/3] END xgbclassifier__max_depth=2, xgbclassifier__min_child_weight=5, xgbclassifier__sub_sample=0.8;, score=0.621 total time=   0.3s\n",
            "[CV 3/3] END xgbclassifier__max_depth=2, xgbclassifier__min_child_weight=5, xgbclassifier__sub_sample=0.8;, score=0.599 total time=   0.3s\n",
            "[CV 1/3] END xgbclassifier__max_depth=2, xgbclassifier__min_child_weight=5, xgbclassifier__sub_sample=1;, score=0.619 total time=   0.1s\n",
            "[CV 2/3] END xgbclassifier__max_depth=2, xgbclassifier__min_child_weight=5, xgbclassifier__sub_sample=1;, score=0.621 total time=   0.1s\n",
            "[CV 3/3] END xgbclassifier__max_depth=2, xgbclassifier__min_child_weight=5, xgbclassifier__sub_sample=1;, score=0.599 total time=   0.1s\n",
            "[CV 1/3] END xgbclassifier__max_depth=2, xgbclassifier__min_child_weight=6, xgbclassifier__sub_sample=0.2;, score=0.619 total time=   0.1s\n",
            "[CV 2/3] END xgbclassifier__max_depth=2, xgbclassifier__min_child_weight=6, xgbclassifier__sub_sample=0.2;, score=0.621 total time=   0.1s\n",
            "[CV 3/3] END xgbclassifier__max_depth=2, xgbclassifier__min_child_weight=6, xgbclassifier__sub_sample=0.2;, score=0.599 total time=   0.1s\n",
            "[CV 1/3] END xgbclassifier__max_depth=2, xgbclassifier__min_child_weight=6, xgbclassifier__sub_sample=0.4;, score=0.619 total time=   0.1s\n",
            "[CV 2/3] END xgbclassifier__max_depth=2, xgbclassifier__min_child_weight=6, xgbclassifier__sub_sample=0.4;, score=0.621 total time=   0.1s\n",
            "[CV 3/3] END xgbclassifier__max_depth=2, xgbclassifier__min_child_weight=6, xgbclassifier__sub_sample=0.4;, score=0.599 total time=   0.1s\n",
            "[CV 1/3] END xgbclassifier__max_depth=2, xgbclassifier__min_child_weight=6, xgbclassifier__sub_sample=0.6;, score=0.619 total time=   0.1s\n",
            "[CV 2/3] END xgbclassifier__max_depth=2, xgbclassifier__min_child_weight=6, xgbclassifier__sub_sample=0.6;, score=0.621 total time=   0.1s\n",
            "[CV 3/3] END xgbclassifier__max_depth=2, xgbclassifier__min_child_weight=6, xgbclassifier__sub_sample=0.6;, score=0.599 total time=   0.1s\n",
            "[CV 1/3] END xgbclassifier__max_depth=2, xgbclassifier__min_child_weight=6, xgbclassifier__sub_sample=0.8;, score=0.619 total time=   0.1s\n",
            "[CV 2/3] END xgbclassifier__max_depth=2, xgbclassifier__min_child_weight=6, xgbclassifier__sub_sample=0.8;, score=0.621 total time=   0.1s\n",
            "[CV 3/3] END xgbclassifier__max_depth=2, xgbclassifier__min_child_weight=6, xgbclassifier__sub_sample=0.8;, score=0.599 total time=   0.1s\n",
            "[CV 1/3] END xgbclassifier__max_depth=2, xgbclassifier__min_child_weight=6, xgbclassifier__sub_sample=1;, score=0.619 total time=   0.1s\n",
            "[CV 2/3] END xgbclassifier__max_depth=2, xgbclassifier__min_child_weight=6, xgbclassifier__sub_sample=1;, score=0.621 total time=   0.1s\n",
            "[CV 3/3] END xgbclassifier__max_depth=2, xgbclassifier__min_child_weight=6, xgbclassifier__sub_sample=1;, score=0.599 total time=   0.1s\n",
            "[CV 1/3] END xgbclassifier__max_depth=2, xgbclassifier__min_child_weight=7, xgbclassifier__sub_sample=0.2;, score=0.619 total time=   0.1s\n",
            "[CV 2/3] END xgbclassifier__max_depth=2, xgbclassifier__min_child_weight=7, xgbclassifier__sub_sample=0.2;, score=0.621 total time=   0.1s\n",
            "[CV 3/3] END xgbclassifier__max_depth=2, xgbclassifier__min_child_weight=7, xgbclassifier__sub_sample=0.2;, score=0.599 total time=   0.1s\n",
            "[CV 1/3] END xgbclassifier__max_depth=2, xgbclassifier__min_child_weight=7, xgbclassifier__sub_sample=0.4;, score=0.619 total time=   0.1s\n",
            "[CV 2/3] END xgbclassifier__max_depth=2, xgbclassifier__min_child_weight=7, xgbclassifier__sub_sample=0.4;, score=0.621 total time=   0.1s\n",
            "[CV 3/3] END xgbclassifier__max_depth=2, xgbclassifier__min_child_weight=7, xgbclassifier__sub_sample=0.4;, score=0.599 total time=   0.1s\n",
            "[CV 1/3] END xgbclassifier__max_depth=2, xgbclassifier__min_child_weight=7, xgbclassifier__sub_sample=0.6;, score=0.619 total time=   0.1s\n",
            "[CV 2/3] END xgbclassifier__max_depth=2, xgbclassifier__min_child_weight=7, xgbclassifier__sub_sample=0.6;, score=0.621 total time=   0.1s\n",
            "[CV 3/3] END xgbclassifier__max_depth=2, xgbclassifier__min_child_weight=7, xgbclassifier__sub_sample=0.6;, score=0.599 total time=   0.1s\n",
            "[CV 1/3] END xgbclassifier__max_depth=2, xgbclassifier__min_child_weight=7, xgbclassifier__sub_sample=0.8;, score=0.619 total time=   0.1s\n",
            "[CV 2/3] END xgbclassifier__max_depth=2, xgbclassifier__min_child_weight=7, xgbclassifier__sub_sample=0.8;, score=0.621 total time=   0.1s\n",
            "[CV 3/3] END xgbclassifier__max_depth=2, xgbclassifier__min_child_weight=7, xgbclassifier__sub_sample=0.8;, score=0.599 total time=   0.1s\n",
            "[CV 1/3] END xgbclassifier__max_depth=2, xgbclassifier__min_child_weight=7, xgbclassifier__sub_sample=1;, score=0.619 total time=   0.1s\n",
            "[CV 2/3] END xgbclassifier__max_depth=2, xgbclassifier__min_child_weight=7, xgbclassifier__sub_sample=1;, score=0.621 total time=   0.1s\n",
            "[CV 3/3] END xgbclassifier__max_depth=2, xgbclassifier__min_child_weight=7, xgbclassifier__sub_sample=1;, score=0.599 total time=   0.1s\n",
            "[CV 1/3] END xgbclassifier__max_depth=2, xgbclassifier__min_child_weight=8, xgbclassifier__sub_sample=0.2;, score=0.619 total time=   0.1s\n",
            "[CV 2/3] END xgbclassifier__max_depth=2, xgbclassifier__min_child_weight=8, xgbclassifier__sub_sample=0.2;, score=0.621 total time=   0.1s\n",
            "[CV 3/3] END xgbclassifier__max_depth=2, xgbclassifier__min_child_weight=8, xgbclassifier__sub_sample=0.2;, score=0.599 total time=   0.1s\n",
            "[CV 1/3] END xgbclassifier__max_depth=2, xgbclassifier__min_child_weight=8, xgbclassifier__sub_sample=0.4;, score=0.619 total time=   0.1s\n",
            "[CV 2/3] END xgbclassifier__max_depth=2, xgbclassifier__min_child_weight=8, xgbclassifier__sub_sample=0.4;, score=0.621 total time=   0.1s\n",
            "[CV 3/3] END xgbclassifier__max_depth=2, xgbclassifier__min_child_weight=8, xgbclassifier__sub_sample=0.4;, score=0.599 total time=   0.1s\n",
            "[CV 1/3] END xgbclassifier__max_depth=2, xgbclassifier__min_child_weight=8, xgbclassifier__sub_sample=0.6;, score=0.619 total time=   0.1s\n",
            "[CV 2/3] END xgbclassifier__max_depth=2, xgbclassifier__min_child_weight=8, xgbclassifier__sub_sample=0.6;, score=0.621 total time=   0.1s\n",
            "[CV 3/3] END xgbclassifier__max_depth=2, xgbclassifier__min_child_weight=8, xgbclassifier__sub_sample=0.6;, score=0.599 total time=   0.1s\n",
            "[CV 1/3] END xgbclassifier__max_depth=2, xgbclassifier__min_child_weight=8, xgbclassifier__sub_sample=0.8;, score=0.619 total time=   0.1s\n",
            "[CV 2/3] END xgbclassifier__max_depth=2, xgbclassifier__min_child_weight=8, xgbclassifier__sub_sample=0.8;, score=0.621 total time=   0.1s\n",
            "[CV 3/3] END xgbclassifier__max_depth=2, xgbclassifier__min_child_weight=8, xgbclassifier__sub_sample=0.8;, score=0.599 total time=   0.1s\n",
            "[CV 1/3] END xgbclassifier__max_depth=2, xgbclassifier__min_child_weight=8, xgbclassifier__sub_sample=1;, score=0.619 total time=   0.1s\n",
            "[CV 2/3] END xgbclassifier__max_depth=2, xgbclassifier__min_child_weight=8, xgbclassifier__sub_sample=1;, score=0.621 total time=   0.1s\n",
            "[CV 3/3] END xgbclassifier__max_depth=2, xgbclassifier__min_child_weight=8, xgbclassifier__sub_sample=1;, score=0.599 total time=   0.1s\n",
            "[CV 1/3] END xgbclassifier__max_depth=2, xgbclassifier__min_child_weight=9, xgbclassifier__sub_sample=0.2;, score=0.619 total time=   0.1s\n",
            "[CV 2/3] END xgbclassifier__max_depth=2, xgbclassifier__min_child_weight=9, xgbclassifier__sub_sample=0.2;, score=0.621 total time=   0.1s\n",
            "[CV 3/3] END xgbclassifier__max_depth=2, xgbclassifier__min_child_weight=9, xgbclassifier__sub_sample=0.2;, score=0.599 total time=   0.1s\n",
            "[CV 1/3] END xgbclassifier__max_depth=2, xgbclassifier__min_child_weight=9, xgbclassifier__sub_sample=0.4;, score=0.619 total time=   0.1s\n",
            "[CV 2/3] END xgbclassifier__max_depth=2, xgbclassifier__min_child_weight=9, xgbclassifier__sub_sample=0.4;, score=0.621 total time=   0.1s\n",
            "[CV 3/3] END xgbclassifier__max_depth=2, xgbclassifier__min_child_weight=9, xgbclassifier__sub_sample=0.4;, score=0.599 total time=   0.1s\n",
            "[CV 1/3] END xgbclassifier__max_depth=2, xgbclassifier__min_child_weight=9, xgbclassifier__sub_sample=0.6;, score=0.619 total time=   0.1s\n",
            "[CV 2/3] END xgbclassifier__max_depth=2, xgbclassifier__min_child_weight=9, xgbclassifier__sub_sample=0.6;, score=0.621 total time=   0.1s\n",
            "[CV 3/3] END xgbclassifier__max_depth=2, xgbclassifier__min_child_weight=9, xgbclassifier__sub_sample=0.6;, score=0.599 total time=   0.1s\n",
            "[CV 1/3] END xgbclassifier__max_depth=2, xgbclassifier__min_child_weight=9, xgbclassifier__sub_sample=0.8;, score=0.619 total time=   0.1s\n",
            "[CV 2/3] END xgbclassifier__max_depth=2, xgbclassifier__min_child_weight=9, xgbclassifier__sub_sample=0.8;, score=0.621 total time=   0.1s\n",
            "[CV 3/3] END xgbclassifier__max_depth=2, xgbclassifier__min_child_weight=9, xgbclassifier__sub_sample=0.8;, score=0.599 total time=   0.1s\n",
            "[CV 1/3] END xgbclassifier__max_depth=2, xgbclassifier__min_child_weight=9, xgbclassifier__sub_sample=1;, score=0.619 total time=   0.1s\n",
            "[CV 2/3] END xgbclassifier__max_depth=2, xgbclassifier__min_child_weight=9, xgbclassifier__sub_sample=1;, score=0.621 total time=   0.1s\n",
            "[CV 3/3] END xgbclassifier__max_depth=2, xgbclassifier__min_child_weight=9, xgbclassifier__sub_sample=1;, score=0.599 total time=   0.1s\n",
            "[CV 1/3] END xgbclassifier__max_depth=2, xgbclassifier__min_child_weight=10, xgbclassifier__sub_sample=0.2;, score=0.619 total time=   0.1s\n",
            "[CV 2/3] END xgbclassifier__max_depth=2, xgbclassifier__min_child_weight=10, xgbclassifier__sub_sample=0.2;, score=0.621 total time=   0.1s\n",
            "[CV 3/3] END xgbclassifier__max_depth=2, xgbclassifier__min_child_weight=10, xgbclassifier__sub_sample=0.2;, score=0.599 total time=   0.1s\n",
            "[CV 1/3] END xgbclassifier__max_depth=2, xgbclassifier__min_child_weight=10, xgbclassifier__sub_sample=0.4;, score=0.619 total time=   0.1s\n",
            "[CV 2/3] END xgbclassifier__max_depth=2, xgbclassifier__min_child_weight=10, xgbclassifier__sub_sample=0.4;, score=0.621 total time=   0.1s\n",
            "[CV 3/3] END xgbclassifier__max_depth=2, xgbclassifier__min_child_weight=10, xgbclassifier__sub_sample=0.4;, score=0.599 total time=   0.1s\n",
            "[CV 1/3] END xgbclassifier__max_depth=2, xgbclassifier__min_child_weight=10, xgbclassifier__sub_sample=0.6;, score=0.619 total time=   0.1s\n",
            "[CV 2/3] END xgbclassifier__max_depth=2, xgbclassifier__min_child_weight=10, xgbclassifier__sub_sample=0.6;, score=0.621 total time=   0.1s\n",
            "[CV 3/3] END xgbclassifier__max_depth=2, xgbclassifier__min_child_weight=10, xgbclassifier__sub_sample=0.6;, score=0.599 total time=   0.1s\n",
            "[CV 1/3] END xgbclassifier__max_depth=2, xgbclassifier__min_child_weight=10, xgbclassifier__sub_sample=0.8;, score=0.619 total time=   0.1s\n",
            "[CV 2/3] END xgbclassifier__max_depth=2, xgbclassifier__min_child_weight=10, xgbclassifier__sub_sample=0.8;, score=0.621 total time=   0.1s\n",
            "[CV 3/3] END xgbclassifier__max_depth=2, xgbclassifier__min_child_weight=10, xgbclassifier__sub_sample=0.8;, score=0.599 total time=   0.1s\n",
            "[CV 1/3] END xgbclassifier__max_depth=2, xgbclassifier__min_child_weight=10, xgbclassifier__sub_sample=1;, score=0.619 total time=   0.1s\n",
            "[CV 2/3] END xgbclassifier__max_depth=2, xgbclassifier__min_child_weight=10, xgbclassifier__sub_sample=1;, score=0.621 total time=   0.1s\n",
            "[CV 3/3] END xgbclassifier__max_depth=2, xgbclassifier__min_child_weight=10, xgbclassifier__sub_sample=1;, score=0.599 total time=   0.1s\n",
            "[CV 1/3] END xgbclassifier__max_depth=3, xgbclassifier__min_child_weight=1, xgbclassifier__sub_sample=0.2;, score=0.619 total time=   0.1s\n",
            "[CV 2/3] END xgbclassifier__max_depth=3, xgbclassifier__min_child_weight=1, xgbclassifier__sub_sample=0.2;, score=0.621 total time=   0.1s\n",
            "[CV 3/3] END xgbclassifier__max_depth=3, xgbclassifier__min_child_weight=1, xgbclassifier__sub_sample=0.2;, score=0.599 total time=   0.1s\n",
            "[CV 1/3] END xgbclassifier__max_depth=3, xgbclassifier__min_child_weight=1, xgbclassifier__sub_sample=0.4;, score=0.619 total time=   0.1s\n",
            "[CV 2/3] END xgbclassifier__max_depth=3, xgbclassifier__min_child_weight=1, xgbclassifier__sub_sample=0.4;, score=0.621 total time=   0.1s\n",
            "[CV 3/3] END xgbclassifier__max_depth=3, xgbclassifier__min_child_weight=1, xgbclassifier__sub_sample=0.4;, score=0.599 total time=   0.1s\n",
            "[CV 1/3] END xgbclassifier__max_depth=3, xgbclassifier__min_child_weight=1, xgbclassifier__sub_sample=0.6;, score=0.619 total time=   0.1s\n",
            "[CV 2/3] END xgbclassifier__max_depth=3, xgbclassifier__min_child_weight=1, xgbclassifier__sub_sample=0.6;, score=0.621 total time=   0.1s\n",
            "[CV 3/3] END xgbclassifier__max_depth=3, xgbclassifier__min_child_weight=1, xgbclassifier__sub_sample=0.6;, score=0.599 total time=   0.1s\n",
            "[CV 1/3] END xgbclassifier__max_depth=3, xgbclassifier__min_child_weight=1, xgbclassifier__sub_sample=0.8;, score=0.619 total time=   0.1s\n",
            "[CV 2/3] END xgbclassifier__max_depth=3, xgbclassifier__min_child_weight=1, xgbclassifier__sub_sample=0.8;, score=0.621 total time=   0.1s\n",
            "[CV 3/3] END xgbclassifier__max_depth=3, xgbclassifier__min_child_weight=1, xgbclassifier__sub_sample=0.8;, score=0.599 total time=   0.1s\n",
            "[CV 1/3] END xgbclassifier__max_depth=3, xgbclassifier__min_child_weight=1, xgbclassifier__sub_sample=1;, score=0.619 total time=   0.1s\n",
            "[CV 2/3] END xgbclassifier__max_depth=3, xgbclassifier__min_child_weight=1, xgbclassifier__sub_sample=1;, score=0.621 total time=   0.1s\n",
            "[CV 3/3] END xgbclassifier__max_depth=3, xgbclassifier__min_child_weight=1, xgbclassifier__sub_sample=1;, score=0.599 total time=   0.1s\n",
            "[CV 1/3] END xgbclassifier__max_depth=3, xgbclassifier__min_child_weight=2, xgbclassifier__sub_sample=0.2;, score=0.619 total time=   0.1s\n",
            "[CV 2/3] END xgbclassifier__max_depth=3, xgbclassifier__min_child_weight=2, xgbclassifier__sub_sample=0.2;, score=0.621 total time=   0.1s\n",
            "[CV 3/3] END xgbclassifier__max_depth=3, xgbclassifier__min_child_weight=2, xgbclassifier__sub_sample=0.2;, score=0.599 total time=   0.1s\n",
            "[CV 1/3] END xgbclassifier__max_depth=3, xgbclassifier__min_child_weight=2, xgbclassifier__sub_sample=0.4;, score=0.619 total time=   0.1s\n",
            "[CV 2/3] END xgbclassifier__max_depth=3, xgbclassifier__min_child_weight=2, xgbclassifier__sub_sample=0.4;, score=0.621 total time=   0.1s\n",
            "[CV 3/3] END xgbclassifier__max_depth=3, xgbclassifier__min_child_weight=2, xgbclassifier__sub_sample=0.4;, score=0.599 total time=   0.1s\n",
            "[CV 1/3] END xgbclassifier__max_depth=3, xgbclassifier__min_child_weight=2, xgbclassifier__sub_sample=0.6;, score=0.619 total time=   0.1s\n",
            "[CV 2/3] END xgbclassifier__max_depth=3, xgbclassifier__min_child_weight=2, xgbclassifier__sub_sample=0.6;, score=0.621 total time=   0.1s\n",
            "[CV 3/3] END xgbclassifier__max_depth=3, xgbclassifier__min_child_weight=2, xgbclassifier__sub_sample=0.6;, score=0.599 total time=   0.1s\n",
            "[CV 1/3] END xgbclassifier__max_depth=3, xgbclassifier__min_child_weight=2, xgbclassifier__sub_sample=0.8;, score=0.619 total time=   0.1s\n",
            "[CV 2/3] END xgbclassifier__max_depth=3, xgbclassifier__min_child_weight=2, xgbclassifier__sub_sample=0.8;, score=0.621 total time=   0.1s\n",
            "[CV 3/3] END xgbclassifier__max_depth=3, xgbclassifier__min_child_weight=2, xgbclassifier__sub_sample=0.8;, score=0.599 total time=   0.1s\n",
            "[CV 1/3] END xgbclassifier__max_depth=3, xgbclassifier__min_child_weight=2, xgbclassifier__sub_sample=1;, score=0.619 total time=   0.1s\n",
            "[CV 2/3] END xgbclassifier__max_depth=3, xgbclassifier__min_child_weight=2, xgbclassifier__sub_sample=1;, score=0.621 total time=   0.1s\n",
            "[CV 3/3] END xgbclassifier__max_depth=3, xgbclassifier__min_child_weight=2, xgbclassifier__sub_sample=1;, score=0.599 total time=   0.1s\n",
            "[CV 1/3] END xgbclassifier__max_depth=3, xgbclassifier__min_child_weight=3, xgbclassifier__sub_sample=0.2;, score=0.619 total time=   0.1s\n",
            "[CV 2/3] END xgbclassifier__max_depth=3, xgbclassifier__min_child_weight=3, xgbclassifier__sub_sample=0.2;, score=0.621 total time=   0.1s\n",
            "[CV 3/3] END xgbclassifier__max_depth=3, xgbclassifier__min_child_weight=3, xgbclassifier__sub_sample=0.2;, score=0.599 total time=   0.1s\n",
            "[CV 1/3] END xgbclassifier__max_depth=3, xgbclassifier__min_child_weight=3, xgbclassifier__sub_sample=0.4;, score=0.619 total time=   0.1s\n",
            "[CV 2/3] END xgbclassifier__max_depth=3, xgbclassifier__min_child_weight=3, xgbclassifier__sub_sample=0.4;, score=0.621 total time=   0.1s\n",
            "[CV 3/3] END xgbclassifier__max_depth=3, xgbclassifier__min_child_weight=3, xgbclassifier__sub_sample=0.4;, score=0.599 total time=   0.1s\n",
            "[CV 1/3] END xgbclassifier__max_depth=3, xgbclassifier__min_child_weight=3, xgbclassifier__sub_sample=0.6;, score=0.619 total time=   0.1s\n",
            "[CV 2/3] END xgbclassifier__max_depth=3, xgbclassifier__min_child_weight=3, xgbclassifier__sub_sample=0.6;, score=0.621 total time=   0.1s\n",
            "[CV 3/3] END xgbclassifier__max_depth=3, xgbclassifier__min_child_weight=3, xgbclassifier__sub_sample=0.6;, score=0.599 total time=   0.1s\n",
            "[CV 1/3] END xgbclassifier__max_depth=3, xgbclassifier__min_child_weight=3, xgbclassifier__sub_sample=0.8;, score=0.619 total time=   0.1s\n",
            "[CV 2/3] END xgbclassifier__max_depth=3, xgbclassifier__min_child_weight=3, xgbclassifier__sub_sample=0.8;, score=0.621 total time=   0.1s\n",
            "[CV 3/3] END xgbclassifier__max_depth=3, xgbclassifier__min_child_weight=3, xgbclassifier__sub_sample=0.8;, score=0.599 total time=   0.1s\n",
            "[CV 1/3] END xgbclassifier__max_depth=3, xgbclassifier__min_child_weight=3, xgbclassifier__sub_sample=1;, score=0.619 total time=   0.1s\n",
            "[CV 2/3] END xgbclassifier__max_depth=3, xgbclassifier__min_child_weight=3, xgbclassifier__sub_sample=1;, score=0.621 total time=   0.1s\n",
            "[CV 3/3] END xgbclassifier__max_depth=3, xgbclassifier__min_child_weight=3, xgbclassifier__sub_sample=1;, score=0.599 total time=   0.1s\n",
            "[CV 1/3] END xgbclassifier__max_depth=3, xgbclassifier__min_child_weight=4, xgbclassifier__sub_sample=0.2;, score=0.619 total time=   0.1s\n",
            "[CV 2/3] END xgbclassifier__max_depth=3, xgbclassifier__min_child_weight=4, xgbclassifier__sub_sample=0.2;, score=0.621 total time=   0.1s\n",
            "[CV 3/3] END xgbclassifier__max_depth=3, xgbclassifier__min_child_weight=4, xgbclassifier__sub_sample=0.2;, score=0.599 total time=   0.1s\n",
            "[CV 1/3] END xgbclassifier__max_depth=3, xgbclassifier__min_child_weight=4, xgbclassifier__sub_sample=0.4;, score=0.619 total time=   0.1s\n",
            "[CV 2/3] END xgbclassifier__max_depth=3, xgbclassifier__min_child_weight=4, xgbclassifier__sub_sample=0.4;, score=0.621 total time=   0.1s\n",
            "[CV 3/3] END xgbclassifier__max_depth=3, xgbclassifier__min_child_weight=4, xgbclassifier__sub_sample=0.4;, score=0.599 total time=   0.1s\n",
            "[CV 1/3] END xgbclassifier__max_depth=3, xgbclassifier__min_child_weight=4, xgbclassifier__sub_sample=0.6;, score=0.619 total time=   0.1s\n",
            "[CV 2/3] END xgbclassifier__max_depth=3, xgbclassifier__min_child_weight=4, xgbclassifier__sub_sample=0.6;, score=0.621 total time=   0.1s\n",
            "[CV 3/3] END xgbclassifier__max_depth=3, xgbclassifier__min_child_weight=4, xgbclassifier__sub_sample=0.6;, score=0.599 total time=   0.1s\n",
            "[CV 1/3] END xgbclassifier__max_depth=3, xgbclassifier__min_child_weight=4, xgbclassifier__sub_sample=0.8;, score=0.619 total time=   0.1s\n",
            "[CV 2/3] END xgbclassifier__max_depth=3, xgbclassifier__min_child_weight=4, xgbclassifier__sub_sample=0.8;, score=0.621 total time=   0.1s\n",
            "[CV 3/3] END xgbclassifier__max_depth=3, xgbclassifier__min_child_weight=4, xgbclassifier__sub_sample=0.8;, score=0.599 total time=   0.1s\n",
            "[CV 1/3] END xgbclassifier__max_depth=3, xgbclassifier__min_child_weight=4, xgbclassifier__sub_sample=1;, score=0.619 total time=   0.1s\n",
            "[CV 2/3] END xgbclassifier__max_depth=3, xgbclassifier__min_child_weight=4, xgbclassifier__sub_sample=1;, score=0.621 total time=   0.1s\n",
            "[CV 3/3] END xgbclassifier__max_depth=3, xgbclassifier__min_child_weight=4, xgbclassifier__sub_sample=1;, score=0.599 total time=   0.1s\n",
            "[CV 1/3] END xgbclassifier__max_depth=3, xgbclassifier__min_child_weight=5, xgbclassifier__sub_sample=0.2;, score=0.619 total time=   0.1s\n",
            "[CV 2/3] END xgbclassifier__max_depth=3, xgbclassifier__min_child_weight=5, xgbclassifier__sub_sample=0.2;, score=0.621 total time=   0.1s\n",
            "[CV 3/3] END xgbclassifier__max_depth=3, xgbclassifier__min_child_weight=5, xgbclassifier__sub_sample=0.2;, score=0.599 total time=   0.1s\n",
            "[CV 1/3] END xgbclassifier__max_depth=3, xgbclassifier__min_child_weight=5, xgbclassifier__sub_sample=0.4;, score=0.619 total time=   0.1s\n",
            "[CV 2/3] END xgbclassifier__max_depth=3, xgbclassifier__min_child_weight=5, xgbclassifier__sub_sample=0.4;, score=0.621 total time=   0.1s\n",
            "[CV 3/3] END xgbclassifier__max_depth=3, xgbclassifier__min_child_weight=5, xgbclassifier__sub_sample=0.4;, score=0.599 total time=   0.1s\n",
            "[CV 1/3] END xgbclassifier__max_depth=3, xgbclassifier__min_child_weight=5, xgbclassifier__sub_sample=0.6;, score=0.619 total time=   0.1s\n",
            "[CV 2/3] END xgbclassifier__max_depth=3, xgbclassifier__min_child_weight=5, xgbclassifier__sub_sample=0.6;, score=0.621 total time=   0.1s\n",
            "[CV 3/3] END xgbclassifier__max_depth=3, xgbclassifier__min_child_weight=5, xgbclassifier__sub_sample=0.6;, score=0.599 total time=   0.1s\n",
            "[CV 1/3] END xgbclassifier__max_depth=3, xgbclassifier__min_child_weight=5, xgbclassifier__sub_sample=0.8;, score=0.619 total time=   0.1s\n",
            "[CV 2/3] END xgbclassifier__max_depth=3, xgbclassifier__min_child_weight=5, xgbclassifier__sub_sample=0.8;, score=0.621 total time=   0.1s\n",
            "[CV 3/3] END xgbclassifier__max_depth=3, xgbclassifier__min_child_weight=5, xgbclassifier__sub_sample=0.8;, score=0.599 total time=   0.1s\n",
            "[CV 1/3] END xgbclassifier__max_depth=3, xgbclassifier__min_child_weight=5, xgbclassifier__sub_sample=1;, score=0.619 total time=   0.1s\n",
            "[CV 2/3] END xgbclassifier__max_depth=3, xgbclassifier__min_child_weight=5, xgbclassifier__sub_sample=1;, score=0.621 total time=   0.1s\n",
            "[CV 3/3] END xgbclassifier__max_depth=3, xgbclassifier__min_child_weight=5, xgbclassifier__sub_sample=1;, score=0.599 total time=   0.1s\n",
            "[CV 1/3] END xgbclassifier__max_depth=3, xgbclassifier__min_child_weight=6, xgbclassifier__sub_sample=0.2;, score=0.619 total time=   0.1s\n",
            "[CV 2/3] END xgbclassifier__max_depth=3, xgbclassifier__min_child_weight=6, xgbclassifier__sub_sample=0.2;, score=0.621 total time=   0.1s\n",
            "[CV 3/3] END xgbclassifier__max_depth=3, xgbclassifier__min_child_weight=6, xgbclassifier__sub_sample=0.2;, score=0.599 total time=   0.1s\n",
            "[CV 1/3] END xgbclassifier__max_depth=3, xgbclassifier__min_child_weight=6, xgbclassifier__sub_sample=0.4;, score=0.619 total time=   0.1s\n",
            "[CV 2/3] END xgbclassifier__max_depth=3, xgbclassifier__min_child_weight=6, xgbclassifier__sub_sample=0.4;, score=0.621 total time=   0.1s\n",
            "[CV 3/3] END xgbclassifier__max_depth=3, xgbclassifier__min_child_weight=6, xgbclassifier__sub_sample=0.4;, score=0.599 total time=   0.1s\n",
            "[CV 1/3] END xgbclassifier__max_depth=3, xgbclassifier__min_child_weight=6, xgbclassifier__sub_sample=0.6;, score=0.619 total time=   0.1s\n",
            "[CV 2/3] END xgbclassifier__max_depth=3, xgbclassifier__min_child_weight=6, xgbclassifier__sub_sample=0.6;, score=0.621 total time=   0.1s\n",
            "[CV 3/3] END xgbclassifier__max_depth=3, xgbclassifier__min_child_weight=6, xgbclassifier__sub_sample=0.6;, score=0.599 total time=   0.1s\n",
            "[CV 1/3] END xgbclassifier__max_depth=3, xgbclassifier__min_child_weight=6, xgbclassifier__sub_sample=0.8;, score=0.619 total time=   0.1s\n",
            "[CV 2/3] END xgbclassifier__max_depth=3, xgbclassifier__min_child_weight=6, xgbclassifier__sub_sample=0.8;, score=0.621 total time=   0.1s\n",
            "[CV 3/3] END xgbclassifier__max_depth=3, xgbclassifier__min_child_weight=6, xgbclassifier__sub_sample=0.8;, score=0.599 total time=   0.1s\n",
            "[CV 1/3] END xgbclassifier__max_depth=3, xgbclassifier__min_child_weight=6, xgbclassifier__sub_sample=1;, score=0.619 total time=   0.1s\n",
            "[CV 2/3] END xgbclassifier__max_depth=3, xgbclassifier__min_child_weight=6, xgbclassifier__sub_sample=1;, score=0.621 total time=   0.1s\n",
            "[CV 3/3] END xgbclassifier__max_depth=3, xgbclassifier__min_child_weight=6, xgbclassifier__sub_sample=1;, score=0.599 total time=   0.1s\n",
            "[CV 1/3] END xgbclassifier__max_depth=3, xgbclassifier__min_child_weight=7, xgbclassifier__sub_sample=0.2;, score=0.619 total time=   0.1s\n",
            "[CV 2/3] END xgbclassifier__max_depth=3, xgbclassifier__min_child_weight=7, xgbclassifier__sub_sample=0.2;, score=0.621 total time=   0.1s\n",
            "[CV 3/3] END xgbclassifier__max_depth=3, xgbclassifier__min_child_weight=7, xgbclassifier__sub_sample=0.2;, score=0.599 total time=   0.1s\n",
            "[CV 1/3] END xgbclassifier__max_depth=3, xgbclassifier__min_child_weight=7, xgbclassifier__sub_sample=0.4;, score=0.619 total time=   0.1s\n",
            "[CV 2/3] END xgbclassifier__max_depth=3, xgbclassifier__min_child_weight=7, xgbclassifier__sub_sample=0.4;, score=0.621 total time=   0.1s\n",
            "[CV 3/3] END xgbclassifier__max_depth=3, xgbclassifier__min_child_weight=7, xgbclassifier__sub_sample=0.4;, score=0.599 total time=   0.1s\n",
            "[CV 1/3] END xgbclassifier__max_depth=3, xgbclassifier__min_child_weight=7, xgbclassifier__sub_sample=0.6;, score=0.619 total time=   0.1s\n",
            "[CV 2/3] END xgbclassifier__max_depth=3, xgbclassifier__min_child_weight=7, xgbclassifier__sub_sample=0.6;, score=0.621 total time=   0.1s\n",
            "[CV 3/3] END xgbclassifier__max_depth=3, xgbclassifier__min_child_weight=7, xgbclassifier__sub_sample=0.6;, score=0.599 total time=   0.1s\n",
            "[CV 1/3] END xgbclassifier__max_depth=3, xgbclassifier__min_child_weight=7, xgbclassifier__sub_sample=0.8;, score=0.619 total time=   0.1s\n",
            "[CV 2/3] END xgbclassifier__max_depth=3, xgbclassifier__min_child_weight=7, xgbclassifier__sub_sample=0.8;, score=0.621 total time=   0.1s\n",
            "[CV 3/3] END xgbclassifier__max_depth=3, xgbclassifier__min_child_weight=7, xgbclassifier__sub_sample=0.8;, score=0.599 total time=   0.1s\n",
            "[CV 1/3] END xgbclassifier__max_depth=3, xgbclassifier__min_child_weight=7, xgbclassifier__sub_sample=1;, score=0.619 total time=   0.1s\n",
            "[CV 2/3] END xgbclassifier__max_depth=3, xgbclassifier__min_child_weight=7, xgbclassifier__sub_sample=1;, score=0.621 total time=   0.1s\n",
            "[CV 3/3] END xgbclassifier__max_depth=3, xgbclassifier__min_child_weight=7, xgbclassifier__sub_sample=1;, score=0.599 total time=   0.1s\n",
            "[CV 1/3] END xgbclassifier__max_depth=3, xgbclassifier__min_child_weight=8, xgbclassifier__sub_sample=0.2;, score=0.619 total time=   0.1s\n",
            "[CV 2/3] END xgbclassifier__max_depth=3, xgbclassifier__min_child_weight=8, xgbclassifier__sub_sample=0.2;, score=0.621 total time=   0.1s\n",
            "[CV 3/3] END xgbclassifier__max_depth=3, xgbclassifier__min_child_weight=8, xgbclassifier__sub_sample=0.2;, score=0.599 total time=   0.1s\n",
            "[CV 1/3] END xgbclassifier__max_depth=3, xgbclassifier__min_child_weight=8, xgbclassifier__sub_sample=0.4;, score=0.619 total time=   0.1s\n",
            "[CV 2/3] END xgbclassifier__max_depth=3, xgbclassifier__min_child_weight=8, xgbclassifier__sub_sample=0.4;, score=0.621 total time=   0.1s\n",
            "[CV 3/3] END xgbclassifier__max_depth=3, xgbclassifier__min_child_weight=8, xgbclassifier__sub_sample=0.4;, score=0.599 total time=   0.1s\n",
            "[CV 1/3] END xgbclassifier__max_depth=3, xgbclassifier__min_child_weight=8, xgbclassifier__sub_sample=0.6;, score=0.619 total time=   0.1s\n",
            "[CV 2/3] END xgbclassifier__max_depth=3, xgbclassifier__min_child_weight=8, xgbclassifier__sub_sample=0.6;, score=0.621 total time=   0.1s\n",
            "[CV 3/3] END xgbclassifier__max_depth=3, xgbclassifier__min_child_weight=8, xgbclassifier__sub_sample=0.6;, score=0.599 total time=   0.1s\n",
            "[CV 1/3] END xgbclassifier__max_depth=3, xgbclassifier__min_child_weight=8, xgbclassifier__sub_sample=0.8;, score=0.619 total time=   0.1s\n",
            "[CV 2/3] END xgbclassifier__max_depth=3, xgbclassifier__min_child_weight=8, xgbclassifier__sub_sample=0.8;, score=0.621 total time=   0.1s\n",
            "[CV 3/3] END xgbclassifier__max_depth=3, xgbclassifier__min_child_weight=8, xgbclassifier__sub_sample=0.8;, score=0.599 total time=   0.1s\n",
            "[CV 1/3] END xgbclassifier__max_depth=3, xgbclassifier__min_child_weight=8, xgbclassifier__sub_sample=1;, score=0.619 total time=   0.1s\n",
            "[CV 2/3] END xgbclassifier__max_depth=3, xgbclassifier__min_child_weight=8, xgbclassifier__sub_sample=1;, score=0.621 total time=   0.1s\n",
            "[CV 3/3] END xgbclassifier__max_depth=3, xgbclassifier__min_child_weight=8, xgbclassifier__sub_sample=1;, score=0.599 total time=   0.1s\n",
            "[CV 1/3] END xgbclassifier__max_depth=3, xgbclassifier__min_child_weight=9, xgbclassifier__sub_sample=0.2;, score=0.619 total time=   0.1s\n",
            "[CV 2/3] END xgbclassifier__max_depth=3, xgbclassifier__min_child_weight=9, xgbclassifier__sub_sample=0.2;, score=0.621 total time=   0.1s\n",
            "[CV 3/3] END xgbclassifier__max_depth=3, xgbclassifier__min_child_weight=9, xgbclassifier__sub_sample=0.2;, score=0.599 total time=   0.1s\n",
            "[CV 1/3] END xgbclassifier__max_depth=3, xgbclassifier__min_child_weight=9, xgbclassifier__sub_sample=0.4;, score=0.619 total time=   0.1s\n",
            "[CV 2/3] END xgbclassifier__max_depth=3, xgbclassifier__min_child_weight=9, xgbclassifier__sub_sample=0.4;, score=0.621 total time=   0.1s\n",
            "[CV 3/3] END xgbclassifier__max_depth=3, xgbclassifier__min_child_weight=9, xgbclassifier__sub_sample=0.4;, score=0.599 total time=   0.1s\n",
            "[CV 1/3] END xgbclassifier__max_depth=3, xgbclassifier__min_child_weight=9, xgbclassifier__sub_sample=0.6;, score=0.619 total time=   0.1s\n",
            "[CV 2/3] END xgbclassifier__max_depth=3, xgbclassifier__min_child_weight=9, xgbclassifier__sub_sample=0.6;, score=0.621 total time=   0.1s\n",
            "[CV 3/3] END xgbclassifier__max_depth=3, xgbclassifier__min_child_weight=9, xgbclassifier__sub_sample=0.6;, score=0.599 total time=   0.1s\n",
            "[CV 1/3] END xgbclassifier__max_depth=3, xgbclassifier__min_child_weight=9, xgbclassifier__sub_sample=0.8;, score=0.619 total time=   0.1s\n",
            "[CV 2/3] END xgbclassifier__max_depth=3, xgbclassifier__min_child_weight=9, xgbclassifier__sub_sample=0.8;, score=0.621 total time=   0.1s\n",
            "[CV 3/3] END xgbclassifier__max_depth=3, xgbclassifier__min_child_weight=9, xgbclassifier__sub_sample=0.8;, score=0.599 total time=   0.1s\n",
            "[CV 1/3] END xgbclassifier__max_depth=3, xgbclassifier__min_child_weight=9, xgbclassifier__sub_sample=1;, score=0.619 total time=   0.1s\n",
            "[CV 2/3] END xgbclassifier__max_depth=3, xgbclassifier__min_child_weight=9, xgbclassifier__sub_sample=1;, score=0.621 total time=   0.1s\n",
            "[CV 3/3] END xgbclassifier__max_depth=3, xgbclassifier__min_child_weight=9, xgbclassifier__sub_sample=1;, score=0.599 total time=   0.1s\n",
            "[CV 1/3] END xgbclassifier__max_depth=3, xgbclassifier__min_child_weight=10, xgbclassifier__sub_sample=0.2;, score=0.619 total time=   0.1s\n",
            "[CV 2/3] END xgbclassifier__max_depth=3, xgbclassifier__min_child_weight=10, xgbclassifier__sub_sample=0.2;, score=0.621 total time=   0.1s\n",
            "[CV 3/3] END xgbclassifier__max_depth=3, xgbclassifier__min_child_weight=10, xgbclassifier__sub_sample=0.2;, score=0.599 total time=   0.1s\n",
            "[CV 1/3] END xgbclassifier__max_depth=3, xgbclassifier__min_child_weight=10, xgbclassifier__sub_sample=0.4;, score=0.619 total time=   0.1s\n",
            "[CV 2/3] END xgbclassifier__max_depth=3, xgbclassifier__min_child_weight=10, xgbclassifier__sub_sample=0.4;, score=0.621 total time=   0.1s\n",
            "[CV 3/3] END xgbclassifier__max_depth=3, xgbclassifier__min_child_weight=10, xgbclassifier__sub_sample=0.4;, score=0.599 total time=   0.1s\n",
            "[CV 1/3] END xgbclassifier__max_depth=3, xgbclassifier__min_child_weight=10, xgbclassifier__sub_sample=0.6;, score=0.619 total time=   0.1s\n",
            "[CV 2/3] END xgbclassifier__max_depth=3, xgbclassifier__min_child_weight=10, xgbclassifier__sub_sample=0.6;, score=0.621 total time=   0.1s\n",
            "[CV 3/3] END xgbclassifier__max_depth=3, xgbclassifier__min_child_weight=10, xgbclassifier__sub_sample=0.6;, score=0.599 total time=   0.1s\n",
            "[CV 1/3] END xgbclassifier__max_depth=3, xgbclassifier__min_child_weight=10, xgbclassifier__sub_sample=0.8;, score=0.619 total time=   0.1s\n",
            "[CV 2/3] END xgbclassifier__max_depth=3, xgbclassifier__min_child_weight=10, xgbclassifier__sub_sample=0.8;, score=0.621 total time=   0.1s\n",
            "[CV 3/3] END xgbclassifier__max_depth=3, xgbclassifier__min_child_weight=10, xgbclassifier__sub_sample=0.8;, score=0.599 total time=   0.1s\n",
            "[CV 1/3] END xgbclassifier__max_depth=3, xgbclassifier__min_child_weight=10, xgbclassifier__sub_sample=1;, score=0.619 total time=   0.1s\n",
            "[CV 2/3] END xgbclassifier__max_depth=3, xgbclassifier__min_child_weight=10, xgbclassifier__sub_sample=1;, score=0.621 total time=   0.1s\n",
            "[CV 3/3] END xgbclassifier__max_depth=3, xgbclassifier__min_child_weight=10, xgbclassifier__sub_sample=1;, score=0.599 total time=   0.1s\n",
            "[CV 1/3] END xgbclassifier__max_depth=4, xgbclassifier__min_child_weight=1, xgbclassifier__sub_sample=0.2;, score=0.619 total time=   0.1s\n",
            "[CV 2/3] END xgbclassifier__max_depth=4, xgbclassifier__min_child_weight=1, xgbclassifier__sub_sample=0.2;, score=0.621 total time=   0.1s\n",
            "[CV 3/3] END xgbclassifier__max_depth=4, xgbclassifier__min_child_weight=1, xgbclassifier__sub_sample=0.2;, score=0.599 total time=   0.1s\n",
            "[CV 1/3] END xgbclassifier__max_depth=4, xgbclassifier__min_child_weight=1, xgbclassifier__sub_sample=0.4;, score=0.619 total time=   0.1s\n",
            "[CV 2/3] END xgbclassifier__max_depth=4, xgbclassifier__min_child_weight=1, xgbclassifier__sub_sample=0.4;, score=0.621 total time=   0.1s\n",
            "[CV 3/3] END xgbclassifier__max_depth=4, xgbclassifier__min_child_weight=1, xgbclassifier__sub_sample=0.4;, score=0.599 total time=   0.1s\n",
            "[CV 1/3] END xgbclassifier__max_depth=4, xgbclassifier__min_child_weight=1, xgbclassifier__sub_sample=0.6;, score=0.619 total time=   0.1s\n",
            "[CV 2/3] END xgbclassifier__max_depth=4, xgbclassifier__min_child_weight=1, xgbclassifier__sub_sample=0.6;, score=0.621 total time=   0.1s\n",
            "[CV 3/3] END xgbclassifier__max_depth=4, xgbclassifier__min_child_weight=1, xgbclassifier__sub_sample=0.6;, score=0.599 total time=   0.1s\n",
            "[CV 1/3] END xgbclassifier__max_depth=4, xgbclassifier__min_child_weight=1, xgbclassifier__sub_sample=0.8;, score=0.619 total time=   0.1s\n",
            "[CV 2/3] END xgbclassifier__max_depth=4, xgbclassifier__min_child_weight=1, xgbclassifier__sub_sample=0.8;, score=0.621 total time=   0.1s\n",
            "[CV 3/3] END xgbclassifier__max_depth=4, xgbclassifier__min_child_weight=1, xgbclassifier__sub_sample=0.8;, score=0.599 total time=   0.1s\n",
            "[CV 1/3] END xgbclassifier__max_depth=4, xgbclassifier__min_child_weight=1, xgbclassifier__sub_sample=1;, score=0.619 total time=   0.1s\n",
            "[CV 2/3] END xgbclassifier__max_depth=4, xgbclassifier__min_child_weight=1, xgbclassifier__sub_sample=1;, score=0.621 total time=   0.1s\n",
            "[CV 3/3] END xgbclassifier__max_depth=4, xgbclassifier__min_child_weight=1, xgbclassifier__sub_sample=1;, score=0.599 total time=   0.1s\n",
            "[CV 1/3] END xgbclassifier__max_depth=4, xgbclassifier__min_child_weight=2, xgbclassifier__sub_sample=0.2;, score=0.619 total time=   0.1s\n",
            "[CV 2/3] END xgbclassifier__max_depth=4, xgbclassifier__min_child_weight=2, xgbclassifier__sub_sample=0.2;, score=0.621 total time=   0.1s\n",
            "[CV 3/3] END xgbclassifier__max_depth=4, xgbclassifier__min_child_weight=2, xgbclassifier__sub_sample=0.2;, score=0.599 total time=   0.1s\n",
            "[CV 1/3] END xgbclassifier__max_depth=4, xgbclassifier__min_child_weight=2, xgbclassifier__sub_sample=0.4;, score=0.619 total time=   0.1s\n",
            "[CV 2/3] END xgbclassifier__max_depth=4, xgbclassifier__min_child_weight=2, xgbclassifier__sub_sample=0.4;, score=0.621 total time=   0.1s\n",
            "[CV 3/3] END xgbclassifier__max_depth=4, xgbclassifier__min_child_weight=2, xgbclassifier__sub_sample=0.4;, score=0.599 total time=   0.1s\n",
            "[CV 1/3] END xgbclassifier__max_depth=4, xgbclassifier__min_child_weight=2, xgbclassifier__sub_sample=0.6;, score=0.619 total time=   0.1s\n",
            "[CV 2/3] END xgbclassifier__max_depth=4, xgbclassifier__min_child_weight=2, xgbclassifier__sub_sample=0.6;, score=0.621 total time=   0.1s\n",
            "[CV 3/3] END xgbclassifier__max_depth=4, xgbclassifier__min_child_weight=2, xgbclassifier__sub_sample=0.6;, score=0.599 total time=   0.1s\n",
            "[CV 1/3] END xgbclassifier__max_depth=4, xgbclassifier__min_child_weight=2, xgbclassifier__sub_sample=0.8;, score=0.619 total time=   0.1s\n",
            "[CV 2/3] END xgbclassifier__max_depth=4, xgbclassifier__min_child_weight=2, xgbclassifier__sub_sample=0.8;, score=0.621 total time=   0.1s\n",
            "[CV 3/3] END xgbclassifier__max_depth=4, xgbclassifier__min_child_weight=2, xgbclassifier__sub_sample=0.8;, score=0.599 total time=   0.1s\n",
            "[CV 1/3] END xgbclassifier__max_depth=4, xgbclassifier__min_child_weight=2, xgbclassifier__sub_sample=1;, score=0.619 total time=   0.1s\n",
            "[CV 2/3] END xgbclassifier__max_depth=4, xgbclassifier__min_child_weight=2, xgbclassifier__sub_sample=1;, score=0.621 total time=   0.1s\n",
            "[CV 3/3] END xgbclassifier__max_depth=4, xgbclassifier__min_child_weight=2, xgbclassifier__sub_sample=1;, score=0.599 total time=   0.1s\n",
            "[CV 1/3] END xgbclassifier__max_depth=4, xgbclassifier__min_child_weight=3, xgbclassifier__sub_sample=0.2;, score=0.619 total time=   0.1s\n",
            "[CV 2/3] END xgbclassifier__max_depth=4, xgbclassifier__min_child_weight=3, xgbclassifier__sub_sample=0.2;, score=0.621 total time=   0.1s\n",
            "[CV 3/3] END xgbclassifier__max_depth=4, xgbclassifier__min_child_weight=3, xgbclassifier__sub_sample=0.2;, score=0.599 total time=   0.1s\n",
            "[CV 1/3] END xgbclassifier__max_depth=4, xgbclassifier__min_child_weight=3, xgbclassifier__sub_sample=0.4;, score=0.619 total time=   0.1s\n",
            "[CV 2/3] END xgbclassifier__max_depth=4, xgbclassifier__min_child_weight=3, xgbclassifier__sub_sample=0.4;, score=0.621 total time=   0.1s\n",
            "[CV 3/3] END xgbclassifier__max_depth=4, xgbclassifier__min_child_weight=3, xgbclassifier__sub_sample=0.4;, score=0.599 total time=   0.1s\n",
            "[CV 1/3] END xgbclassifier__max_depth=4, xgbclassifier__min_child_weight=3, xgbclassifier__sub_sample=0.6;, score=0.619 total time=   0.1s\n",
            "[CV 2/3] END xgbclassifier__max_depth=4, xgbclassifier__min_child_weight=3, xgbclassifier__sub_sample=0.6;, score=0.621 total time=   0.1s\n",
            "[CV 3/3] END xgbclassifier__max_depth=4, xgbclassifier__min_child_weight=3, xgbclassifier__sub_sample=0.6;, score=0.599 total time=   0.1s\n",
            "[CV 1/3] END xgbclassifier__max_depth=4, xgbclassifier__min_child_weight=3, xgbclassifier__sub_sample=0.8;, score=0.619 total time=   0.1s\n",
            "[CV 2/3] END xgbclassifier__max_depth=4, xgbclassifier__min_child_weight=3, xgbclassifier__sub_sample=0.8;, score=0.621 total time=   0.1s\n",
            "[CV 3/3] END xgbclassifier__max_depth=4, xgbclassifier__min_child_weight=3, xgbclassifier__sub_sample=0.8;, score=0.599 total time=   0.1s\n",
            "[CV 1/3] END xgbclassifier__max_depth=4, xgbclassifier__min_child_weight=3, xgbclassifier__sub_sample=1;, score=0.619 total time=   0.1s\n",
            "[CV 2/3] END xgbclassifier__max_depth=4, xgbclassifier__min_child_weight=3, xgbclassifier__sub_sample=1;, score=0.621 total time=   0.1s\n",
            "[CV 3/3] END xgbclassifier__max_depth=4, xgbclassifier__min_child_weight=3, xgbclassifier__sub_sample=1;, score=0.599 total time=   0.1s\n",
            "[CV 1/3] END xgbclassifier__max_depth=4, xgbclassifier__min_child_weight=4, xgbclassifier__sub_sample=0.2;, score=0.619 total time=   0.1s\n",
            "[CV 2/3] END xgbclassifier__max_depth=4, xgbclassifier__min_child_weight=4, xgbclassifier__sub_sample=0.2;, score=0.621 total time=   0.1s\n",
            "[CV 3/3] END xgbclassifier__max_depth=4, xgbclassifier__min_child_weight=4, xgbclassifier__sub_sample=0.2;, score=0.599 total time=   0.1s\n",
            "[CV 1/3] END xgbclassifier__max_depth=4, xgbclassifier__min_child_weight=4, xgbclassifier__sub_sample=0.4;, score=0.619 total time=   0.1s\n",
            "[CV 2/3] END xgbclassifier__max_depth=4, xgbclassifier__min_child_weight=4, xgbclassifier__sub_sample=0.4;, score=0.621 total time=   0.1s\n",
            "[CV 3/3] END xgbclassifier__max_depth=4, xgbclassifier__min_child_weight=4, xgbclassifier__sub_sample=0.4;, score=0.599 total time=   0.1s\n",
            "[CV 1/3] END xgbclassifier__max_depth=4, xgbclassifier__min_child_weight=4, xgbclassifier__sub_sample=0.6;, score=0.619 total time=   0.1s\n",
            "[CV 2/3] END xgbclassifier__max_depth=4, xgbclassifier__min_child_weight=4, xgbclassifier__sub_sample=0.6;, score=0.621 total time=   0.1s\n",
            "[CV 3/3] END xgbclassifier__max_depth=4, xgbclassifier__min_child_weight=4, xgbclassifier__sub_sample=0.6;, score=0.599 total time=   0.1s\n",
            "[CV 1/3] END xgbclassifier__max_depth=4, xgbclassifier__min_child_weight=4, xgbclassifier__sub_sample=0.8;, score=0.619 total time=   0.1s\n",
            "[CV 2/3] END xgbclassifier__max_depth=4, xgbclassifier__min_child_weight=4, xgbclassifier__sub_sample=0.8;, score=0.621 total time=   0.1s\n",
            "[CV 3/3] END xgbclassifier__max_depth=4, xgbclassifier__min_child_weight=4, xgbclassifier__sub_sample=0.8;, score=0.599 total time=   0.1s\n",
            "[CV 1/3] END xgbclassifier__max_depth=4, xgbclassifier__min_child_weight=4, xgbclassifier__sub_sample=1;, score=0.619 total time=   0.1s\n",
            "[CV 2/3] END xgbclassifier__max_depth=4, xgbclassifier__min_child_weight=4, xgbclassifier__sub_sample=1;, score=0.621 total time=   0.1s\n",
            "[CV 3/3] END xgbclassifier__max_depth=4, xgbclassifier__min_child_weight=4, xgbclassifier__sub_sample=1;, score=0.599 total time=   0.1s\n",
            "[CV 1/3] END xgbclassifier__max_depth=4, xgbclassifier__min_child_weight=5, xgbclassifier__sub_sample=0.2;, score=0.619 total time=   0.1s\n",
            "[CV 2/3] END xgbclassifier__max_depth=4, xgbclassifier__min_child_weight=5, xgbclassifier__sub_sample=0.2;, score=0.621 total time=   0.1s\n",
            "[CV 3/3] END xgbclassifier__max_depth=4, xgbclassifier__min_child_weight=5, xgbclassifier__sub_sample=0.2;, score=0.599 total time=   0.1s\n",
            "[CV 1/3] END xgbclassifier__max_depth=4, xgbclassifier__min_child_weight=5, xgbclassifier__sub_sample=0.4;, score=0.619 total time=   0.1s\n",
            "[CV 2/3] END xgbclassifier__max_depth=4, xgbclassifier__min_child_weight=5, xgbclassifier__sub_sample=0.4;, score=0.621 total time=   0.1s\n",
            "[CV 3/3] END xgbclassifier__max_depth=4, xgbclassifier__min_child_weight=5, xgbclassifier__sub_sample=0.4;, score=0.599 total time=   0.1s\n",
            "[CV 1/3] END xgbclassifier__max_depth=4, xgbclassifier__min_child_weight=5, xgbclassifier__sub_sample=0.6;, score=0.619 total time=   0.1s\n",
            "[CV 2/3] END xgbclassifier__max_depth=4, xgbclassifier__min_child_weight=5, xgbclassifier__sub_sample=0.6;, score=0.621 total time=   0.1s\n",
            "[CV 3/3] END xgbclassifier__max_depth=4, xgbclassifier__min_child_weight=5, xgbclassifier__sub_sample=0.6;, score=0.599 total time=   0.1s\n",
            "[CV 1/3] END xgbclassifier__max_depth=4, xgbclassifier__min_child_weight=5, xgbclassifier__sub_sample=0.8;, score=0.619 total time=   0.1s\n",
            "[CV 2/3] END xgbclassifier__max_depth=4, xgbclassifier__min_child_weight=5, xgbclassifier__sub_sample=0.8;, score=0.621 total time=   0.1s\n",
            "[CV 3/3] END xgbclassifier__max_depth=4, xgbclassifier__min_child_weight=5, xgbclassifier__sub_sample=0.8;, score=0.599 total time=   0.1s\n",
            "[CV 1/3] END xgbclassifier__max_depth=4, xgbclassifier__min_child_weight=5, xgbclassifier__sub_sample=1;, score=0.619 total time=   0.1s\n",
            "[CV 2/3] END xgbclassifier__max_depth=4, xgbclassifier__min_child_weight=5, xgbclassifier__sub_sample=1;, score=0.621 total time=   0.1s\n",
            "[CV 3/3] END xgbclassifier__max_depth=4, xgbclassifier__min_child_weight=5, xgbclassifier__sub_sample=1;, score=0.599 total time=   0.1s\n",
            "[CV 1/3] END xgbclassifier__max_depth=4, xgbclassifier__min_child_weight=6, xgbclassifier__sub_sample=0.2;, score=0.619 total time=   0.1s\n",
            "[CV 2/3] END xgbclassifier__max_depth=4, xgbclassifier__min_child_weight=6, xgbclassifier__sub_sample=0.2;, score=0.621 total time=   0.1s\n",
            "[CV 3/3] END xgbclassifier__max_depth=4, xgbclassifier__min_child_weight=6, xgbclassifier__sub_sample=0.2;, score=0.599 total time=   0.1s\n",
            "[CV 1/3] END xgbclassifier__max_depth=4, xgbclassifier__min_child_weight=6, xgbclassifier__sub_sample=0.4;, score=0.619 total time=   0.1s\n",
            "[CV 2/3] END xgbclassifier__max_depth=4, xgbclassifier__min_child_weight=6, xgbclassifier__sub_sample=0.4;, score=0.621 total time=   0.1s\n",
            "[CV 3/3] END xgbclassifier__max_depth=4, xgbclassifier__min_child_weight=6, xgbclassifier__sub_sample=0.4;, score=0.599 total time=   0.1s\n",
            "[CV 1/3] END xgbclassifier__max_depth=4, xgbclassifier__min_child_weight=6, xgbclassifier__sub_sample=0.6;, score=0.619 total time=   0.1s\n",
            "[CV 2/3] END xgbclassifier__max_depth=4, xgbclassifier__min_child_weight=6, xgbclassifier__sub_sample=0.6;, score=0.621 total time=   0.1s\n",
            "[CV 3/3] END xgbclassifier__max_depth=4, xgbclassifier__min_child_weight=6, xgbclassifier__sub_sample=0.6;, score=0.599 total time=   0.1s\n",
            "[CV 1/3] END xgbclassifier__max_depth=4, xgbclassifier__min_child_weight=6, xgbclassifier__sub_sample=0.8;, score=0.619 total time=   0.1s\n",
            "[CV 2/3] END xgbclassifier__max_depth=4, xgbclassifier__min_child_weight=6, xgbclassifier__sub_sample=0.8;, score=0.621 total time=   0.1s\n",
            "[CV 3/3] END xgbclassifier__max_depth=4, xgbclassifier__min_child_weight=6, xgbclassifier__sub_sample=0.8;, score=0.599 total time=   0.1s\n",
            "[CV 1/3] END xgbclassifier__max_depth=4, xgbclassifier__min_child_weight=6, xgbclassifier__sub_sample=1;, score=0.619 total time=   0.1s\n",
            "[CV 2/3] END xgbclassifier__max_depth=4, xgbclassifier__min_child_weight=6, xgbclassifier__sub_sample=1;, score=0.621 total time=   0.1s\n",
            "[CV 3/3] END xgbclassifier__max_depth=4, xgbclassifier__min_child_weight=6, xgbclassifier__sub_sample=1;, score=0.599 total time=   0.1s\n",
            "[CV 1/3] END xgbclassifier__max_depth=4, xgbclassifier__min_child_weight=7, xgbclassifier__sub_sample=0.2;, score=0.619 total time=   0.1s\n",
            "[CV 2/3] END xgbclassifier__max_depth=4, xgbclassifier__min_child_weight=7, xgbclassifier__sub_sample=0.2;, score=0.621 total time=   0.1s\n",
            "[CV 3/3] END xgbclassifier__max_depth=4, xgbclassifier__min_child_weight=7, xgbclassifier__sub_sample=0.2;, score=0.599 total time=   0.1s\n",
            "[CV 1/3] END xgbclassifier__max_depth=4, xgbclassifier__min_child_weight=7, xgbclassifier__sub_sample=0.4;, score=0.619 total time=   0.1s\n",
            "[CV 2/3] END xgbclassifier__max_depth=4, xgbclassifier__min_child_weight=7, xgbclassifier__sub_sample=0.4;, score=0.621 total time=   0.1s\n",
            "[CV 3/3] END xgbclassifier__max_depth=4, xgbclassifier__min_child_weight=7, xgbclassifier__sub_sample=0.4;, score=0.599 total time=   0.1s\n",
            "[CV 1/3] END xgbclassifier__max_depth=4, xgbclassifier__min_child_weight=7, xgbclassifier__sub_sample=0.6;, score=0.619 total time=   0.1s\n",
            "[CV 2/3] END xgbclassifier__max_depth=4, xgbclassifier__min_child_weight=7, xgbclassifier__sub_sample=0.6;, score=0.621 total time=   0.1s\n",
            "[CV 3/3] END xgbclassifier__max_depth=4, xgbclassifier__min_child_weight=7, xgbclassifier__sub_sample=0.6;, score=0.599 total time=   0.1s\n",
            "[CV 1/3] END xgbclassifier__max_depth=4, xgbclassifier__min_child_weight=7, xgbclassifier__sub_sample=0.8;, score=0.619 total time=   0.1s\n",
            "[CV 2/3] END xgbclassifier__max_depth=4, xgbclassifier__min_child_weight=7, xgbclassifier__sub_sample=0.8;, score=0.621 total time=   0.1s\n",
            "[CV 3/3] END xgbclassifier__max_depth=4, xgbclassifier__min_child_weight=7, xgbclassifier__sub_sample=0.8;, score=0.599 total time=   0.1s\n",
            "[CV 1/3] END xgbclassifier__max_depth=4, xgbclassifier__min_child_weight=7, xgbclassifier__sub_sample=1;, score=0.619 total time=   0.1s\n",
            "[CV 2/3] END xgbclassifier__max_depth=4, xgbclassifier__min_child_weight=7, xgbclassifier__sub_sample=1;, score=0.621 total time=   0.1s\n",
            "[CV 3/3] END xgbclassifier__max_depth=4, xgbclassifier__min_child_weight=7, xgbclassifier__sub_sample=1;, score=0.599 total time=   0.1s\n",
            "[CV 1/3] END xgbclassifier__max_depth=4, xgbclassifier__min_child_weight=8, xgbclassifier__sub_sample=0.2;, score=0.619 total time=   0.1s\n",
            "[CV 2/3] END xgbclassifier__max_depth=4, xgbclassifier__min_child_weight=8, xgbclassifier__sub_sample=0.2;, score=0.621 total time=   0.1s\n",
            "[CV 3/3] END xgbclassifier__max_depth=4, xgbclassifier__min_child_weight=8, xgbclassifier__sub_sample=0.2;, score=0.599 total time=   0.1s\n",
            "[CV 1/3] END xgbclassifier__max_depth=4, xgbclassifier__min_child_weight=8, xgbclassifier__sub_sample=0.4;, score=0.619 total time=   0.1s\n",
            "[CV 2/3] END xgbclassifier__max_depth=4, xgbclassifier__min_child_weight=8, xgbclassifier__sub_sample=0.4;, score=0.621 total time=   0.1s\n",
            "[CV 3/3] END xgbclassifier__max_depth=4, xgbclassifier__min_child_weight=8, xgbclassifier__sub_sample=0.4;, score=0.599 total time=   0.1s\n",
            "[CV 1/3] END xgbclassifier__max_depth=4, xgbclassifier__min_child_weight=8, xgbclassifier__sub_sample=0.6;, score=0.619 total time=   0.1s\n",
            "[CV 2/3] END xgbclassifier__max_depth=4, xgbclassifier__min_child_weight=8, xgbclassifier__sub_sample=0.6;, score=0.621 total time=   0.1s\n",
            "[CV 3/3] END xgbclassifier__max_depth=4, xgbclassifier__min_child_weight=8, xgbclassifier__sub_sample=0.6;, score=0.599 total time=   0.1s\n",
            "[CV 1/3] END xgbclassifier__max_depth=4, xgbclassifier__min_child_weight=8, xgbclassifier__sub_sample=0.8;, score=0.619 total time=   0.1s\n",
            "[CV 2/3] END xgbclassifier__max_depth=4, xgbclassifier__min_child_weight=8, xgbclassifier__sub_sample=0.8;, score=0.621 total time=   0.1s\n",
            "[CV 3/3] END xgbclassifier__max_depth=4, xgbclassifier__min_child_weight=8, xgbclassifier__sub_sample=0.8;, score=0.599 total time=   0.1s\n",
            "[CV 1/3] END xgbclassifier__max_depth=4, xgbclassifier__min_child_weight=8, xgbclassifier__sub_sample=1;, score=0.619 total time=   0.1s\n",
            "[CV 2/3] END xgbclassifier__max_depth=4, xgbclassifier__min_child_weight=8, xgbclassifier__sub_sample=1;, score=0.621 total time=   0.1s\n",
            "[CV 3/3] END xgbclassifier__max_depth=4, xgbclassifier__min_child_weight=8, xgbclassifier__sub_sample=1;, score=0.599 total time=   0.1s\n",
            "[CV 1/3] END xgbclassifier__max_depth=4, xgbclassifier__min_child_weight=9, xgbclassifier__sub_sample=0.2;, score=0.619 total time=   0.1s\n",
            "[CV 2/3] END xgbclassifier__max_depth=4, xgbclassifier__min_child_weight=9, xgbclassifier__sub_sample=0.2;, score=0.621 total time=   0.1s\n",
            "[CV 3/3] END xgbclassifier__max_depth=4, xgbclassifier__min_child_weight=9, xgbclassifier__sub_sample=0.2;, score=0.599 total time=   0.1s\n",
            "[CV 1/3] END xgbclassifier__max_depth=4, xgbclassifier__min_child_weight=9, xgbclassifier__sub_sample=0.4;, score=0.619 total time=   0.1s\n",
            "[CV 2/3] END xgbclassifier__max_depth=4, xgbclassifier__min_child_weight=9, xgbclassifier__sub_sample=0.4;, score=0.621 total time=   0.1s\n",
            "[CV 3/3] END xgbclassifier__max_depth=4, xgbclassifier__min_child_weight=9, xgbclassifier__sub_sample=0.4;, score=0.599 total time=   0.1s\n",
            "[CV 1/3] END xgbclassifier__max_depth=4, xgbclassifier__min_child_weight=9, xgbclassifier__sub_sample=0.6;, score=0.619 total time=   0.1s\n",
            "[CV 2/3] END xgbclassifier__max_depth=4, xgbclassifier__min_child_weight=9, xgbclassifier__sub_sample=0.6;, score=0.621 total time=   0.1s\n",
            "[CV 3/3] END xgbclassifier__max_depth=4, xgbclassifier__min_child_weight=9, xgbclassifier__sub_sample=0.6;, score=0.599 total time=   0.1s\n",
            "[CV 1/3] END xgbclassifier__max_depth=4, xgbclassifier__min_child_weight=9, xgbclassifier__sub_sample=0.8;, score=0.619 total time=   0.1s\n",
            "[CV 2/3] END xgbclassifier__max_depth=4, xgbclassifier__min_child_weight=9, xgbclassifier__sub_sample=0.8;, score=0.621 total time=   0.1s\n",
            "[CV 3/3] END xgbclassifier__max_depth=4, xgbclassifier__min_child_weight=9, xgbclassifier__sub_sample=0.8;, score=0.599 total time=   0.1s\n",
            "[CV 1/3] END xgbclassifier__max_depth=4, xgbclassifier__min_child_weight=9, xgbclassifier__sub_sample=1;, score=0.619 total time=   0.1s\n",
            "[CV 2/3] END xgbclassifier__max_depth=4, xgbclassifier__min_child_weight=9, xgbclassifier__sub_sample=1;, score=0.621 total time=   0.1s\n",
            "[CV 3/3] END xgbclassifier__max_depth=4, xgbclassifier__min_child_weight=9, xgbclassifier__sub_sample=1;, score=0.599 total time=   0.1s\n",
            "[CV 1/3] END xgbclassifier__max_depth=4, xgbclassifier__min_child_weight=10, xgbclassifier__sub_sample=0.2;, score=0.619 total time=   0.1s\n",
            "[CV 2/3] END xgbclassifier__max_depth=4, xgbclassifier__min_child_weight=10, xgbclassifier__sub_sample=0.2;, score=0.621 total time=   0.1s\n",
            "[CV 3/3] END xgbclassifier__max_depth=4, xgbclassifier__min_child_weight=10, xgbclassifier__sub_sample=0.2;, score=0.599 total time=   0.1s\n",
            "[CV 1/3] END xgbclassifier__max_depth=4, xgbclassifier__min_child_weight=10, xgbclassifier__sub_sample=0.4;, score=0.619 total time=   0.1s\n",
            "[CV 2/3] END xgbclassifier__max_depth=4, xgbclassifier__min_child_weight=10, xgbclassifier__sub_sample=0.4;, score=0.621 total time=   0.1s\n",
            "[CV 3/3] END xgbclassifier__max_depth=4, xgbclassifier__min_child_weight=10, xgbclassifier__sub_sample=0.4;, score=0.599 total time=   0.1s\n",
            "[CV 1/3] END xgbclassifier__max_depth=4, xgbclassifier__min_child_weight=10, xgbclassifier__sub_sample=0.6;, score=0.619 total time=   0.1s\n",
            "[CV 2/3] END xgbclassifier__max_depth=4, xgbclassifier__min_child_weight=10, xgbclassifier__sub_sample=0.6;, score=0.621 total time=   0.1s\n",
            "[CV 3/3] END xgbclassifier__max_depth=4, xgbclassifier__min_child_weight=10, xgbclassifier__sub_sample=0.6;, score=0.599 total time=   0.1s\n",
            "[CV 1/3] END xgbclassifier__max_depth=4, xgbclassifier__min_child_weight=10, xgbclassifier__sub_sample=0.8;, score=0.619 total time=   0.1s\n",
            "[CV 2/3] END xgbclassifier__max_depth=4, xgbclassifier__min_child_weight=10, xgbclassifier__sub_sample=0.8;, score=0.621 total time=   0.1s\n",
            "[CV 3/3] END xgbclassifier__max_depth=4, xgbclassifier__min_child_weight=10, xgbclassifier__sub_sample=0.8;, score=0.599 total time=   0.1s\n",
            "[CV 1/3] END xgbclassifier__max_depth=4, xgbclassifier__min_child_weight=10, xgbclassifier__sub_sample=1;, score=0.619 total time=   0.1s\n",
            "[CV 2/3] END xgbclassifier__max_depth=4, xgbclassifier__min_child_weight=10, xgbclassifier__sub_sample=1;, score=0.621 total time=   0.1s\n",
            "[CV 3/3] END xgbclassifier__max_depth=4, xgbclassifier__min_child_weight=10, xgbclassifier__sub_sample=1;, score=0.599 total time=   0.1s\n",
            "[CV 1/3] END xgbclassifier__max_depth=5, xgbclassifier__min_child_weight=1, xgbclassifier__sub_sample=0.2;, score=0.619 total time=   0.1s\n",
            "[CV 2/3] END xgbclassifier__max_depth=5, xgbclassifier__min_child_weight=1, xgbclassifier__sub_sample=0.2;, score=0.621 total time=   0.1s\n",
            "[CV 3/3] END xgbclassifier__max_depth=5, xgbclassifier__min_child_weight=1, xgbclassifier__sub_sample=0.2;, score=0.599 total time=   0.1s\n",
            "[CV 1/3] END xgbclassifier__max_depth=5, xgbclassifier__min_child_weight=1, xgbclassifier__sub_sample=0.4;, score=0.619 total time=   0.1s\n",
            "[CV 2/3] END xgbclassifier__max_depth=5, xgbclassifier__min_child_weight=1, xgbclassifier__sub_sample=0.4;, score=0.621 total time=   0.1s\n",
            "[CV 3/3] END xgbclassifier__max_depth=5, xgbclassifier__min_child_weight=1, xgbclassifier__sub_sample=0.4;, score=0.599 total time=   0.1s\n",
            "[CV 1/3] END xgbclassifier__max_depth=5, xgbclassifier__min_child_weight=1, xgbclassifier__sub_sample=0.6;, score=0.619 total time=   0.1s\n",
            "[CV 2/3] END xgbclassifier__max_depth=5, xgbclassifier__min_child_weight=1, xgbclassifier__sub_sample=0.6;, score=0.621 total time=   0.1s\n",
            "[CV 3/3] END xgbclassifier__max_depth=5, xgbclassifier__min_child_weight=1, xgbclassifier__sub_sample=0.6;, score=0.599 total time=   0.1s\n",
            "[CV 1/3] END xgbclassifier__max_depth=5, xgbclassifier__min_child_weight=1, xgbclassifier__sub_sample=0.8;, score=0.619 total time=   0.1s\n",
            "[CV 2/3] END xgbclassifier__max_depth=5, xgbclassifier__min_child_weight=1, xgbclassifier__sub_sample=0.8;, score=0.621 total time=   0.1s\n",
            "[CV 3/3] END xgbclassifier__max_depth=5, xgbclassifier__min_child_weight=1, xgbclassifier__sub_sample=0.8;, score=0.599 total time=   0.1s\n",
            "[CV 1/3] END xgbclassifier__max_depth=5, xgbclassifier__min_child_weight=1, xgbclassifier__sub_sample=1;, score=0.619 total time=   0.1s\n",
            "[CV 2/3] END xgbclassifier__max_depth=5, xgbclassifier__min_child_weight=1, xgbclassifier__sub_sample=1;, score=0.621 total time=   0.1s\n",
            "[CV 3/3] END xgbclassifier__max_depth=5, xgbclassifier__min_child_weight=1, xgbclassifier__sub_sample=1;, score=0.599 total time=   0.1s\n",
            "[CV 1/3] END xgbclassifier__max_depth=5, xgbclassifier__min_child_weight=2, xgbclassifier__sub_sample=0.2;, score=0.619 total time=   0.1s\n",
            "[CV 2/3] END xgbclassifier__max_depth=5, xgbclassifier__min_child_weight=2, xgbclassifier__sub_sample=0.2;, score=0.621 total time=   0.1s\n",
            "[CV 3/3] END xgbclassifier__max_depth=5, xgbclassifier__min_child_weight=2, xgbclassifier__sub_sample=0.2;, score=0.599 total time=   0.1s\n",
            "[CV 1/3] END xgbclassifier__max_depth=5, xgbclassifier__min_child_weight=2, xgbclassifier__sub_sample=0.4;, score=0.619 total time=   0.1s\n",
            "[CV 2/3] END xgbclassifier__max_depth=5, xgbclassifier__min_child_weight=2, xgbclassifier__sub_sample=0.4;, score=0.621 total time=   0.1s\n",
            "[CV 3/3] END xgbclassifier__max_depth=5, xgbclassifier__min_child_weight=2, xgbclassifier__sub_sample=0.4;, score=0.599 total time=   0.1s\n",
            "[CV 1/3] END xgbclassifier__max_depth=5, xgbclassifier__min_child_weight=2, xgbclassifier__sub_sample=0.6;, score=0.619 total time=   0.1s\n",
            "[CV 2/3] END xgbclassifier__max_depth=5, xgbclassifier__min_child_weight=2, xgbclassifier__sub_sample=0.6;, score=0.621 total time=   0.1s\n",
            "[CV 3/3] END xgbclassifier__max_depth=5, xgbclassifier__min_child_weight=2, xgbclassifier__sub_sample=0.6;, score=0.599 total time=   0.1s\n",
            "[CV 1/3] END xgbclassifier__max_depth=5, xgbclassifier__min_child_weight=2, xgbclassifier__sub_sample=0.8;, score=0.619 total time=   0.1s\n",
            "[CV 2/3] END xgbclassifier__max_depth=5, xgbclassifier__min_child_weight=2, xgbclassifier__sub_sample=0.8;, score=0.621 total time=   0.1s\n",
            "[CV 3/3] END xgbclassifier__max_depth=5, xgbclassifier__min_child_weight=2, xgbclassifier__sub_sample=0.8;, score=0.599 total time=   0.1s\n",
            "[CV 1/3] END xgbclassifier__max_depth=5, xgbclassifier__min_child_weight=2, xgbclassifier__sub_sample=1;, score=0.619 total time=   0.1s\n",
            "[CV 2/3] END xgbclassifier__max_depth=5, xgbclassifier__min_child_weight=2, xgbclassifier__sub_sample=1;, score=0.621 total time=   0.1s\n",
            "[CV 3/3] END xgbclassifier__max_depth=5, xgbclassifier__min_child_weight=2, xgbclassifier__sub_sample=1;, score=0.599 total time=   0.1s\n",
            "[CV 1/3] END xgbclassifier__max_depth=5, xgbclassifier__min_child_weight=3, xgbclassifier__sub_sample=0.2;, score=0.619 total time=   0.1s\n",
            "[CV 2/3] END xgbclassifier__max_depth=5, xgbclassifier__min_child_weight=3, xgbclassifier__sub_sample=0.2;, score=0.621 total time=   0.1s\n",
            "[CV 3/3] END xgbclassifier__max_depth=5, xgbclassifier__min_child_weight=3, xgbclassifier__sub_sample=0.2;, score=0.599 total time=   0.1s\n",
            "[CV 1/3] END xgbclassifier__max_depth=5, xgbclassifier__min_child_weight=3, xgbclassifier__sub_sample=0.4;, score=0.619 total time=   0.1s\n",
            "[CV 2/3] END xgbclassifier__max_depth=5, xgbclassifier__min_child_weight=3, xgbclassifier__sub_sample=0.4;, score=0.621 total time=   0.1s\n",
            "[CV 3/3] END xgbclassifier__max_depth=5, xgbclassifier__min_child_weight=3, xgbclassifier__sub_sample=0.4;, score=0.599 total time=   0.1s\n",
            "[CV 1/3] END xgbclassifier__max_depth=5, xgbclassifier__min_child_weight=3, xgbclassifier__sub_sample=0.6;, score=0.619 total time=   0.1s\n",
            "[CV 2/3] END xgbclassifier__max_depth=5, xgbclassifier__min_child_weight=3, xgbclassifier__sub_sample=0.6;, score=0.621 total time=   0.1s\n",
            "[CV 3/3] END xgbclassifier__max_depth=5, xgbclassifier__min_child_weight=3, xgbclassifier__sub_sample=0.6;, score=0.599 total time=   0.1s\n",
            "[CV 1/3] END xgbclassifier__max_depth=5, xgbclassifier__min_child_weight=3, xgbclassifier__sub_sample=0.8;, score=0.619 total time=   0.1s\n",
            "[CV 2/3] END xgbclassifier__max_depth=5, xgbclassifier__min_child_weight=3, xgbclassifier__sub_sample=0.8;, score=0.621 total time=   0.1s\n",
            "[CV 3/3] END xgbclassifier__max_depth=5, xgbclassifier__min_child_weight=3, xgbclassifier__sub_sample=0.8;, score=0.599 total time=   0.1s\n",
            "[CV 1/3] END xgbclassifier__max_depth=5, xgbclassifier__min_child_weight=3, xgbclassifier__sub_sample=1;, score=0.619 total time=   0.1s\n",
            "[CV 2/3] END xgbclassifier__max_depth=5, xgbclassifier__min_child_weight=3, xgbclassifier__sub_sample=1;, score=0.621 total time=   0.1s\n",
            "[CV 3/3] END xgbclassifier__max_depth=5, xgbclassifier__min_child_weight=3, xgbclassifier__sub_sample=1;, score=0.599 total time=   0.1s\n",
            "[CV 1/3] END xgbclassifier__max_depth=5, xgbclassifier__min_child_weight=4, xgbclassifier__sub_sample=0.2;, score=0.619 total time=   0.1s\n",
            "[CV 2/3] END xgbclassifier__max_depth=5, xgbclassifier__min_child_weight=4, xgbclassifier__sub_sample=0.2;, score=0.621 total time=   0.1s\n",
            "[CV 3/3] END xgbclassifier__max_depth=5, xgbclassifier__min_child_weight=4, xgbclassifier__sub_sample=0.2;, score=0.599 total time=   0.1s\n",
            "[CV 1/3] END xgbclassifier__max_depth=5, xgbclassifier__min_child_weight=4, xgbclassifier__sub_sample=0.4;, score=0.619 total time=   0.1s\n",
            "[CV 2/3] END xgbclassifier__max_depth=5, xgbclassifier__min_child_weight=4, xgbclassifier__sub_sample=0.4;, score=0.621 total time=   0.1s\n",
            "[CV 3/3] END xgbclassifier__max_depth=5, xgbclassifier__min_child_weight=4, xgbclassifier__sub_sample=0.4;, score=0.599 total time=   0.1s\n",
            "[CV 1/3] END xgbclassifier__max_depth=5, xgbclassifier__min_child_weight=4, xgbclassifier__sub_sample=0.6;, score=0.619 total time=   0.1s\n",
            "[CV 2/3] END xgbclassifier__max_depth=5, xgbclassifier__min_child_weight=4, xgbclassifier__sub_sample=0.6;, score=0.621 total time=   0.1s\n",
            "[CV 3/3] END xgbclassifier__max_depth=5, xgbclassifier__min_child_weight=4, xgbclassifier__sub_sample=0.6;, score=0.599 total time=   0.1s\n",
            "[CV 1/3] END xgbclassifier__max_depth=5, xgbclassifier__min_child_weight=4, xgbclassifier__sub_sample=0.8;, score=0.619 total time=   0.1s\n",
            "[CV 2/3] END xgbclassifier__max_depth=5, xgbclassifier__min_child_weight=4, xgbclassifier__sub_sample=0.8;, score=0.621 total time=   0.1s\n",
            "[CV 3/3] END xgbclassifier__max_depth=5, xgbclassifier__min_child_weight=4, xgbclassifier__sub_sample=0.8;, score=0.599 total time=   0.1s\n",
            "[CV 1/3] END xgbclassifier__max_depth=5, xgbclassifier__min_child_weight=4, xgbclassifier__sub_sample=1;, score=0.619 total time=   0.1s\n",
            "[CV 2/3] END xgbclassifier__max_depth=5, xgbclassifier__min_child_weight=4, xgbclassifier__sub_sample=1;, score=0.621 total time=   0.1s\n",
            "[CV 3/3] END xgbclassifier__max_depth=5, xgbclassifier__min_child_weight=4, xgbclassifier__sub_sample=1;, score=0.599 total time=   0.1s\n",
            "[CV 1/3] END xgbclassifier__max_depth=5, xgbclassifier__min_child_weight=5, xgbclassifier__sub_sample=0.2;, score=0.619 total time=   0.1s\n",
            "[CV 2/3] END xgbclassifier__max_depth=5, xgbclassifier__min_child_weight=5, xgbclassifier__sub_sample=0.2;, score=0.621 total time=   0.1s\n",
            "[CV 3/3] END xgbclassifier__max_depth=5, xgbclassifier__min_child_weight=5, xgbclassifier__sub_sample=0.2;, score=0.599 total time=   0.1s\n",
            "[CV 1/3] END xgbclassifier__max_depth=5, xgbclassifier__min_child_weight=5, xgbclassifier__sub_sample=0.4;, score=0.619 total time=   0.1s\n",
            "[CV 2/3] END xgbclassifier__max_depth=5, xgbclassifier__min_child_weight=5, xgbclassifier__sub_sample=0.4;, score=0.621 total time=   0.1s\n",
            "[CV 3/3] END xgbclassifier__max_depth=5, xgbclassifier__min_child_weight=5, xgbclassifier__sub_sample=0.4;, score=0.599 total time=   0.1s\n",
            "[CV 1/3] END xgbclassifier__max_depth=5, xgbclassifier__min_child_weight=5, xgbclassifier__sub_sample=0.6;, score=0.619 total time=   0.1s\n",
            "[CV 2/3] END xgbclassifier__max_depth=5, xgbclassifier__min_child_weight=5, xgbclassifier__sub_sample=0.6;, score=0.621 total time=   0.1s\n",
            "[CV 3/3] END xgbclassifier__max_depth=5, xgbclassifier__min_child_weight=5, xgbclassifier__sub_sample=0.6;, score=0.599 total time=   0.1s\n",
            "[CV 1/3] END xgbclassifier__max_depth=5, xgbclassifier__min_child_weight=5, xgbclassifier__sub_sample=0.8;, score=0.619 total time=   0.2s\n",
            "[CV 2/3] END xgbclassifier__max_depth=5, xgbclassifier__min_child_weight=5, xgbclassifier__sub_sample=0.8;, score=0.621 total time=   0.2s\n",
            "[CV 3/3] END xgbclassifier__max_depth=5, xgbclassifier__min_child_weight=5, xgbclassifier__sub_sample=0.8;, score=0.599 total time=   0.6s\n",
            "[CV 1/3] END xgbclassifier__max_depth=5, xgbclassifier__min_child_weight=5, xgbclassifier__sub_sample=1;, score=0.619 total time=   1.9s\n",
            "[CV 2/3] END xgbclassifier__max_depth=5, xgbclassifier__min_child_weight=5, xgbclassifier__sub_sample=1;, score=0.621 total time=   0.5s\n",
            "[CV 3/3] END xgbclassifier__max_depth=5, xgbclassifier__min_child_weight=5, xgbclassifier__sub_sample=1;, score=0.599 total time=   0.1s\n",
            "[CV 1/3] END xgbclassifier__max_depth=5, xgbclassifier__min_child_weight=6, xgbclassifier__sub_sample=0.2;, score=0.619 total time=   0.1s\n",
            "[CV 2/3] END xgbclassifier__max_depth=5, xgbclassifier__min_child_weight=6, xgbclassifier__sub_sample=0.2;, score=0.621 total time=   0.1s\n",
            "[CV 3/3] END xgbclassifier__max_depth=5, xgbclassifier__min_child_weight=6, xgbclassifier__sub_sample=0.2;, score=0.599 total time=   0.1s\n",
            "[CV 1/3] END xgbclassifier__max_depth=5, xgbclassifier__min_child_weight=6, xgbclassifier__sub_sample=0.4;, score=0.619 total time=   0.1s\n",
            "[CV 2/3] END xgbclassifier__max_depth=5, xgbclassifier__min_child_weight=6, xgbclassifier__sub_sample=0.4;, score=0.621 total time=   0.1s\n",
            "[CV 3/3] END xgbclassifier__max_depth=5, xgbclassifier__min_child_weight=6, xgbclassifier__sub_sample=0.4;, score=0.599 total time=   0.1s\n",
            "[CV 1/3] END xgbclassifier__max_depth=5, xgbclassifier__min_child_weight=6, xgbclassifier__sub_sample=0.6;, score=0.619 total time=   0.1s\n",
            "[CV 2/3] END xgbclassifier__max_depth=5, xgbclassifier__min_child_weight=6, xgbclassifier__sub_sample=0.6;, score=0.621 total time=   0.1s\n",
            "[CV 3/3] END xgbclassifier__max_depth=5, xgbclassifier__min_child_weight=6, xgbclassifier__sub_sample=0.6;, score=0.599 total time=   0.1s\n",
            "[CV 1/3] END xgbclassifier__max_depth=5, xgbclassifier__min_child_weight=6, xgbclassifier__sub_sample=0.8;, score=0.619 total time=   0.1s\n",
            "[CV 2/3] END xgbclassifier__max_depth=5, xgbclassifier__min_child_weight=6, xgbclassifier__sub_sample=0.8;, score=0.621 total time=   0.1s\n",
            "[CV 3/3] END xgbclassifier__max_depth=5, xgbclassifier__min_child_weight=6, xgbclassifier__sub_sample=0.8;, score=0.599 total time=   0.1s\n",
            "[CV 1/3] END xgbclassifier__max_depth=5, xgbclassifier__min_child_weight=6, xgbclassifier__sub_sample=1;, score=0.619 total time=   0.1s\n",
            "[CV 2/3] END xgbclassifier__max_depth=5, xgbclassifier__min_child_weight=6, xgbclassifier__sub_sample=1;, score=0.621 total time=   0.1s\n",
            "[CV 3/3] END xgbclassifier__max_depth=5, xgbclassifier__min_child_weight=6, xgbclassifier__sub_sample=1;, score=0.599 total time=   0.1s\n",
            "[CV 1/3] END xgbclassifier__max_depth=5, xgbclassifier__min_child_weight=7, xgbclassifier__sub_sample=0.2;, score=0.619 total time=   0.1s\n",
            "[CV 2/3] END xgbclassifier__max_depth=5, xgbclassifier__min_child_weight=7, xgbclassifier__sub_sample=0.2;, score=0.621 total time=   0.1s\n",
            "[CV 3/3] END xgbclassifier__max_depth=5, xgbclassifier__min_child_weight=7, xgbclassifier__sub_sample=0.2;, score=0.599 total time=   0.1s\n",
            "[CV 1/3] END xgbclassifier__max_depth=5, xgbclassifier__min_child_weight=7, xgbclassifier__sub_sample=0.4;, score=0.619 total time=   0.1s\n",
            "[CV 2/3] END xgbclassifier__max_depth=5, xgbclassifier__min_child_weight=7, xgbclassifier__sub_sample=0.4;, score=0.621 total time=   0.1s\n",
            "[CV 3/3] END xgbclassifier__max_depth=5, xgbclassifier__min_child_weight=7, xgbclassifier__sub_sample=0.4;, score=0.599 total time=   0.1s\n",
            "[CV 1/3] END xgbclassifier__max_depth=5, xgbclassifier__min_child_weight=7, xgbclassifier__sub_sample=0.6;, score=0.619 total time=   0.1s\n",
            "[CV 2/3] END xgbclassifier__max_depth=5, xgbclassifier__min_child_weight=7, xgbclassifier__sub_sample=0.6;, score=0.621 total time=   0.1s\n",
            "[CV 3/3] END xgbclassifier__max_depth=5, xgbclassifier__min_child_weight=7, xgbclassifier__sub_sample=0.6;, score=0.599 total time=   0.1s\n",
            "[CV 1/3] END xgbclassifier__max_depth=5, xgbclassifier__min_child_weight=7, xgbclassifier__sub_sample=0.8;, score=0.619 total time=   0.1s\n",
            "[CV 2/3] END xgbclassifier__max_depth=5, xgbclassifier__min_child_weight=7, xgbclassifier__sub_sample=0.8;, score=0.621 total time=   0.1s\n",
            "[CV 3/3] END xgbclassifier__max_depth=5, xgbclassifier__min_child_weight=7, xgbclassifier__sub_sample=0.8;, score=0.599 total time=   0.1s\n",
            "[CV 1/3] END xgbclassifier__max_depth=5, xgbclassifier__min_child_weight=7, xgbclassifier__sub_sample=1;, score=0.619 total time=   0.1s\n",
            "[CV 2/3] END xgbclassifier__max_depth=5, xgbclassifier__min_child_weight=7, xgbclassifier__sub_sample=1;, score=0.621 total time=   0.1s\n",
            "[CV 3/3] END xgbclassifier__max_depth=5, xgbclassifier__min_child_weight=7, xgbclassifier__sub_sample=1;, score=0.599 total time=   0.1s\n",
            "[CV 1/3] END xgbclassifier__max_depth=5, xgbclassifier__min_child_weight=8, xgbclassifier__sub_sample=0.2;, score=0.619 total time=   0.1s\n",
            "[CV 2/3] END xgbclassifier__max_depth=5, xgbclassifier__min_child_weight=8, xgbclassifier__sub_sample=0.2;, score=0.621 total time=   0.1s\n",
            "[CV 3/3] END xgbclassifier__max_depth=5, xgbclassifier__min_child_weight=8, xgbclassifier__sub_sample=0.2;, score=0.599 total time=   0.1s\n",
            "[CV 1/3] END xgbclassifier__max_depth=5, xgbclassifier__min_child_weight=8, xgbclassifier__sub_sample=0.4;, score=0.619 total time=   0.1s\n",
            "[CV 2/3] END xgbclassifier__max_depth=5, xgbclassifier__min_child_weight=8, xgbclassifier__sub_sample=0.4;, score=0.621 total time=   0.1s\n",
            "[CV 3/3] END xgbclassifier__max_depth=5, xgbclassifier__min_child_weight=8, xgbclassifier__sub_sample=0.4;, score=0.599 total time=   0.1s\n",
            "[CV 1/3] END xgbclassifier__max_depth=5, xgbclassifier__min_child_weight=8, xgbclassifier__sub_sample=0.6;, score=0.619 total time=   0.1s\n",
            "[CV 2/3] END xgbclassifier__max_depth=5, xgbclassifier__min_child_weight=8, xgbclassifier__sub_sample=0.6;, score=0.621 total time=   0.1s\n",
            "[CV 3/3] END xgbclassifier__max_depth=5, xgbclassifier__min_child_weight=8, xgbclassifier__sub_sample=0.6;, score=0.599 total time=   0.1s\n",
            "[CV 1/3] END xgbclassifier__max_depth=5, xgbclassifier__min_child_weight=8, xgbclassifier__sub_sample=0.8;, score=0.619 total time=   0.1s\n",
            "[CV 2/3] END xgbclassifier__max_depth=5, xgbclassifier__min_child_weight=8, xgbclassifier__sub_sample=0.8;, score=0.621 total time=   0.1s\n",
            "[CV 3/3] END xgbclassifier__max_depth=5, xgbclassifier__min_child_weight=8, xgbclassifier__sub_sample=0.8;, score=0.599 total time=   0.1s\n",
            "[CV 1/3] END xgbclassifier__max_depth=5, xgbclassifier__min_child_weight=8, xgbclassifier__sub_sample=1;, score=0.619 total time=   0.1s\n",
            "[CV 2/3] END xgbclassifier__max_depth=5, xgbclassifier__min_child_weight=8, xgbclassifier__sub_sample=1;, score=0.621 total time=   0.1s\n",
            "[CV 3/3] END xgbclassifier__max_depth=5, xgbclassifier__min_child_weight=8, xgbclassifier__sub_sample=1;, score=0.599 total time=   0.1s\n",
            "[CV 1/3] END xgbclassifier__max_depth=5, xgbclassifier__min_child_weight=9, xgbclassifier__sub_sample=0.2;, score=0.619 total time=   0.1s\n",
            "[CV 2/3] END xgbclassifier__max_depth=5, xgbclassifier__min_child_weight=9, xgbclassifier__sub_sample=0.2;, score=0.621 total time=   0.1s\n",
            "[CV 3/3] END xgbclassifier__max_depth=5, xgbclassifier__min_child_weight=9, xgbclassifier__sub_sample=0.2;, score=0.599 total time=   0.1s\n",
            "[CV 1/3] END xgbclassifier__max_depth=5, xgbclassifier__min_child_weight=9, xgbclassifier__sub_sample=0.4;, score=0.619 total time=   0.1s\n",
            "[CV 2/3] END xgbclassifier__max_depth=5, xgbclassifier__min_child_weight=9, xgbclassifier__sub_sample=0.4;, score=0.621 total time=   0.1s\n",
            "[CV 3/3] END xgbclassifier__max_depth=5, xgbclassifier__min_child_weight=9, xgbclassifier__sub_sample=0.4;, score=0.599 total time=   0.1s\n",
            "[CV 1/3] END xgbclassifier__max_depth=5, xgbclassifier__min_child_weight=9, xgbclassifier__sub_sample=0.6;, score=0.619 total time=   0.1s\n",
            "[CV 2/3] END xgbclassifier__max_depth=5, xgbclassifier__min_child_weight=9, xgbclassifier__sub_sample=0.6;, score=0.621 total time=   0.1s\n",
            "[CV 3/3] END xgbclassifier__max_depth=5, xgbclassifier__min_child_weight=9, xgbclassifier__sub_sample=0.6;, score=0.599 total time=   0.1s\n",
            "[CV 1/3] END xgbclassifier__max_depth=5, xgbclassifier__min_child_weight=9, xgbclassifier__sub_sample=0.8;, score=0.619 total time=   0.1s\n",
            "[CV 2/3] END xgbclassifier__max_depth=5, xgbclassifier__min_child_weight=9, xgbclassifier__sub_sample=0.8;, score=0.621 total time=   0.1s\n",
            "[CV 3/3] END xgbclassifier__max_depth=5, xgbclassifier__min_child_weight=9, xgbclassifier__sub_sample=0.8;, score=0.599 total time=   0.1s\n",
            "[CV 1/3] END xgbclassifier__max_depth=5, xgbclassifier__min_child_weight=9, xgbclassifier__sub_sample=1;, score=0.619 total time=   0.1s\n",
            "[CV 2/3] END xgbclassifier__max_depth=5, xgbclassifier__min_child_weight=9, xgbclassifier__sub_sample=1;, score=0.621 total time=   0.1s\n",
            "[CV 3/3] END xgbclassifier__max_depth=5, xgbclassifier__min_child_weight=9, xgbclassifier__sub_sample=1;, score=0.599 total time=   0.1s\n",
            "[CV 1/3] END xgbclassifier__max_depth=5, xgbclassifier__min_child_weight=10, xgbclassifier__sub_sample=0.2;, score=0.619 total time=   0.1s\n",
            "[CV 2/3] END xgbclassifier__max_depth=5, xgbclassifier__min_child_weight=10, xgbclassifier__sub_sample=0.2;, score=0.621 total time=   0.1s\n",
            "[CV 3/3] END xgbclassifier__max_depth=5, xgbclassifier__min_child_weight=10, xgbclassifier__sub_sample=0.2;, score=0.599 total time=   0.1s\n",
            "[CV 1/3] END xgbclassifier__max_depth=5, xgbclassifier__min_child_weight=10, xgbclassifier__sub_sample=0.4;, score=0.619 total time=   0.1s\n",
            "[CV 2/3] END xgbclassifier__max_depth=5, xgbclassifier__min_child_weight=10, xgbclassifier__sub_sample=0.4;, score=0.621 total time=   0.1s\n",
            "[CV 3/3] END xgbclassifier__max_depth=5, xgbclassifier__min_child_weight=10, xgbclassifier__sub_sample=0.4;, score=0.599 total time=   0.1s\n",
            "[CV 1/3] END xgbclassifier__max_depth=5, xgbclassifier__min_child_weight=10, xgbclassifier__sub_sample=0.6;, score=0.619 total time=   0.1s\n",
            "[CV 2/3] END xgbclassifier__max_depth=5, xgbclassifier__min_child_weight=10, xgbclassifier__sub_sample=0.6;, score=0.621 total time=   0.1s\n",
            "[CV 3/3] END xgbclassifier__max_depth=5, xgbclassifier__min_child_weight=10, xgbclassifier__sub_sample=0.6;, score=0.599 total time=   0.1s\n",
            "[CV 1/3] END xgbclassifier__max_depth=5, xgbclassifier__min_child_weight=10, xgbclassifier__sub_sample=0.8;, score=0.619 total time=   0.1s\n",
            "[CV 2/3] END xgbclassifier__max_depth=5, xgbclassifier__min_child_weight=10, xgbclassifier__sub_sample=0.8;, score=0.621 total time=   0.1s\n",
            "[CV 3/3] END xgbclassifier__max_depth=5, xgbclassifier__min_child_weight=10, xgbclassifier__sub_sample=0.8;, score=0.599 total time=   0.1s\n",
            "[CV 1/3] END xgbclassifier__max_depth=5, xgbclassifier__min_child_weight=10, xgbclassifier__sub_sample=1;, score=0.619 total time=   0.1s\n",
            "[CV 2/3] END xgbclassifier__max_depth=5, xgbclassifier__min_child_weight=10, xgbclassifier__sub_sample=1;, score=0.621 total time=   0.1s\n",
            "[CV 3/3] END xgbclassifier__max_depth=5, xgbclassifier__min_child_weight=10, xgbclassifier__sub_sample=1;, score=0.599 total time=   0.1s\n",
            "[CV 1/3] END xgbclassifier__max_depth=6, xgbclassifier__min_child_weight=1, xgbclassifier__sub_sample=0.2;, score=0.619 total time=   0.1s\n",
            "[CV 2/3] END xgbclassifier__max_depth=6, xgbclassifier__min_child_weight=1, xgbclassifier__sub_sample=0.2;, score=0.621 total time=   0.1s\n",
            "[CV 3/3] END xgbclassifier__max_depth=6, xgbclassifier__min_child_weight=1, xgbclassifier__sub_sample=0.2;, score=0.599 total time=   0.1s\n",
            "[CV 1/3] END xgbclassifier__max_depth=6, xgbclassifier__min_child_weight=1, xgbclassifier__sub_sample=0.4;, score=0.619 total time=   0.1s\n",
            "[CV 2/3] END xgbclassifier__max_depth=6, xgbclassifier__min_child_weight=1, xgbclassifier__sub_sample=0.4;, score=0.621 total time=   0.1s\n",
            "[CV 3/3] END xgbclassifier__max_depth=6, xgbclassifier__min_child_weight=1, xgbclassifier__sub_sample=0.4;, score=0.599 total time=   0.1s\n",
            "[CV 1/3] END xgbclassifier__max_depth=6, xgbclassifier__min_child_weight=1, xgbclassifier__sub_sample=0.6;, score=0.619 total time=   0.1s\n",
            "[CV 2/3] END xgbclassifier__max_depth=6, xgbclassifier__min_child_weight=1, xgbclassifier__sub_sample=0.6;, score=0.621 total time=   0.1s\n",
            "[CV 3/3] END xgbclassifier__max_depth=6, xgbclassifier__min_child_weight=1, xgbclassifier__sub_sample=0.6;, score=0.599 total time=   0.1s\n",
            "[CV 1/3] END xgbclassifier__max_depth=6, xgbclassifier__min_child_weight=1, xgbclassifier__sub_sample=0.8;, score=0.619 total time=   0.1s\n",
            "[CV 2/3] END xgbclassifier__max_depth=6, xgbclassifier__min_child_weight=1, xgbclassifier__sub_sample=0.8;, score=0.621 total time=   0.1s\n",
            "[CV 3/3] END xgbclassifier__max_depth=6, xgbclassifier__min_child_weight=1, xgbclassifier__sub_sample=0.8;, score=0.599 total time=   0.1s\n",
            "[CV 1/3] END xgbclassifier__max_depth=6, xgbclassifier__min_child_weight=1, xgbclassifier__sub_sample=1;, score=0.619 total time=   0.1s\n",
            "[CV 2/3] END xgbclassifier__max_depth=6, xgbclassifier__min_child_weight=1, xgbclassifier__sub_sample=1;, score=0.621 total time=   0.1s\n",
            "[CV 3/3] END xgbclassifier__max_depth=6, xgbclassifier__min_child_weight=1, xgbclassifier__sub_sample=1;, score=0.599 total time=   0.1s\n",
            "[CV 1/3] END xgbclassifier__max_depth=6, xgbclassifier__min_child_weight=2, xgbclassifier__sub_sample=0.2;, score=0.619 total time=   0.1s\n",
            "[CV 2/3] END xgbclassifier__max_depth=6, xgbclassifier__min_child_weight=2, xgbclassifier__sub_sample=0.2;, score=0.621 total time=   0.1s\n",
            "[CV 3/3] END xgbclassifier__max_depth=6, xgbclassifier__min_child_weight=2, xgbclassifier__sub_sample=0.2;, score=0.599 total time=   0.1s\n",
            "[CV 1/3] END xgbclassifier__max_depth=6, xgbclassifier__min_child_weight=2, xgbclassifier__sub_sample=0.4;, score=0.619 total time=   0.1s\n",
            "[CV 2/3] END xgbclassifier__max_depth=6, xgbclassifier__min_child_weight=2, xgbclassifier__sub_sample=0.4;, score=0.621 total time=   0.1s\n",
            "[CV 3/3] END xgbclassifier__max_depth=6, xgbclassifier__min_child_weight=2, xgbclassifier__sub_sample=0.4;, score=0.599 total time=   0.1s\n",
            "[CV 1/3] END xgbclassifier__max_depth=6, xgbclassifier__min_child_weight=2, xgbclassifier__sub_sample=0.6;, score=0.619 total time=   0.1s\n",
            "[CV 2/3] END xgbclassifier__max_depth=6, xgbclassifier__min_child_weight=2, xgbclassifier__sub_sample=0.6;, score=0.621 total time=   0.1s\n",
            "[CV 3/3] END xgbclassifier__max_depth=6, xgbclassifier__min_child_weight=2, xgbclassifier__sub_sample=0.6;, score=0.599 total time=   0.1s\n",
            "[CV 1/3] END xgbclassifier__max_depth=6, xgbclassifier__min_child_weight=2, xgbclassifier__sub_sample=0.8;, score=0.619 total time=   0.1s\n",
            "[CV 2/3] END xgbclassifier__max_depth=6, xgbclassifier__min_child_weight=2, xgbclassifier__sub_sample=0.8;, score=0.621 total time=   0.1s\n",
            "[CV 3/3] END xgbclassifier__max_depth=6, xgbclassifier__min_child_weight=2, xgbclassifier__sub_sample=0.8;, score=0.599 total time=   0.1s\n",
            "[CV 1/3] END xgbclassifier__max_depth=6, xgbclassifier__min_child_weight=2, xgbclassifier__sub_sample=1;, score=0.619 total time=   0.1s\n",
            "[CV 2/3] END xgbclassifier__max_depth=6, xgbclassifier__min_child_weight=2, xgbclassifier__sub_sample=1;, score=0.621 total time=   0.1s\n",
            "[CV 3/3] END xgbclassifier__max_depth=6, xgbclassifier__min_child_weight=2, xgbclassifier__sub_sample=1;, score=0.599 total time=   0.1s\n",
            "[CV 1/3] END xgbclassifier__max_depth=6, xgbclassifier__min_child_weight=3, xgbclassifier__sub_sample=0.2;, score=0.619 total time=   0.1s\n",
            "[CV 2/3] END xgbclassifier__max_depth=6, xgbclassifier__min_child_weight=3, xgbclassifier__sub_sample=0.2;, score=0.621 total time=   0.1s\n",
            "[CV 3/3] END xgbclassifier__max_depth=6, xgbclassifier__min_child_weight=3, xgbclassifier__sub_sample=0.2;, score=0.599 total time=   0.1s\n",
            "[CV 1/3] END xgbclassifier__max_depth=6, xgbclassifier__min_child_weight=3, xgbclassifier__sub_sample=0.4;, score=0.619 total time=   0.1s\n",
            "[CV 2/3] END xgbclassifier__max_depth=6, xgbclassifier__min_child_weight=3, xgbclassifier__sub_sample=0.4;, score=0.621 total time=   0.1s\n",
            "[CV 3/3] END xgbclassifier__max_depth=6, xgbclassifier__min_child_weight=3, xgbclassifier__sub_sample=0.4;, score=0.599 total time=   0.1s\n",
            "[CV 1/3] END xgbclassifier__max_depth=6, xgbclassifier__min_child_weight=3, xgbclassifier__sub_sample=0.6;, score=0.619 total time=   0.1s\n",
            "[CV 2/3] END xgbclassifier__max_depth=6, xgbclassifier__min_child_weight=3, xgbclassifier__sub_sample=0.6;, score=0.621 total time=   0.1s\n",
            "[CV 3/3] END xgbclassifier__max_depth=6, xgbclassifier__min_child_weight=3, xgbclassifier__sub_sample=0.6;, score=0.599 total time=   0.1s\n",
            "[CV 1/3] END xgbclassifier__max_depth=6, xgbclassifier__min_child_weight=3, xgbclassifier__sub_sample=0.8;, score=0.619 total time=   0.1s\n",
            "[CV 2/3] END xgbclassifier__max_depth=6, xgbclassifier__min_child_weight=3, xgbclassifier__sub_sample=0.8;, score=0.621 total time=   0.1s\n",
            "[CV 3/3] END xgbclassifier__max_depth=6, xgbclassifier__min_child_weight=3, xgbclassifier__sub_sample=0.8;, score=0.599 total time=   0.1s\n",
            "[CV 1/3] END xgbclassifier__max_depth=6, xgbclassifier__min_child_weight=3, xgbclassifier__sub_sample=1;, score=0.619 total time=   0.1s\n",
            "[CV 2/3] END xgbclassifier__max_depth=6, xgbclassifier__min_child_weight=3, xgbclassifier__sub_sample=1;, score=0.621 total time=   0.1s\n",
            "[CV 3/3] END xgbclassifier__max_depth=6, xgbclassifier__min_child_weight=3, xgbclassifier__sub_sample=1;, score=0.599 total time=   0.1s\n",
            "[CV 1/3] END xgbclassifier__max_depth=6, xgbclassifier__min_child_weight=4, xgbclassifier__sub_sample=0.2;, score=0.619 total time=   0.1s\n",
            "[CV 2/3] END xgbclassifier__max_depth=6, xgbclassifier__min_child_weight=4, xgbclassifier__sub_sample=0.2;, score=0.621 total time=   0.1s\n",
            "[CV 3/3] END xgbclassifier__max_depth=6, xgbclassifier__min_child_weight=4, xgbclassifier__sub_sample=0.2;, score=0.599 total time=   0.1s\n",
            "[CV 1/3] END xgbclassifier__max_depth=6, xgbclassifier__min_child_weight=4, xgbclassifier__sub_sample=0.4;, score=0.619 total time=   0.1s\n",
            "[CV 2/3] END xgbclassifier__max_depth=6, xgbclassifier__min_child_weight=4, xgbclassifier__sub_sample=0.4;, score=0.621 total time=   0.1s\n",
            "[CV 3/3] END xgbclassifier__max_depth=6, xgbclassifier__min_child_weight=4, xgbclassifier__sub_sample=0.4;, score=0.599 total time=   0.1s\n",
            "[CV 1/3] END xgbclassifier__max_depth=6, xgbclassifier__min_child_weight=4, xgbclassifier__sub_sample=0.6;, score=0.619 total time=   0.1s\n",
            "[CV 2/3] END xgbclassifier__max_depth=6, xgbclassifier__min_child_weight=4, xgbclassifier__sub_sample=0.6;, score=0.621 total time=   0.1s\n",
            "[CV 3/3] END xgbclassifier__max_depth=6, xgbclassifier__min_child_weight=4, xgbclassifier__sub_sample=0.6;, score=0.599 total time=   0.1s\n",
            "[CV 1/3] END xgbclassifier__max_depth=6, xgbclassifier__min_child_weight=4, xgbclassifier__sub_sample=0.8;, score=0.619 total time=   0.1s\n",
            "[CV 2/3] END xgbclassifier__max_depth=6, xgbclassifier__min_child_weight=4, xgbclassifier__sub_sample=0.8;, score=0.621 total time=   0.1s\n",
            "[CV 3/3] END xgbclassifier__max_depth=6, xgbclassifier__min_child_weight=4, xgbclassifier__sub_sample=0.8;, score=0.599 total time=   0.1s\n",
            "[CV 1/3] END xgbclassifier__max_depth=6, xgbclassifier__min_child_weight=4, xgbclassifier__sub_sample=1;, score=0.619 total time=   0.1s\n",
            "[CV 2/3] END xgbclassifier__max_depth=6, xgbclassifier__min_child_weight=4, xgbclassifier__sub_sample=1;, score=0.621 total time=   0.1s\n",
            "[CV 3/3] END xgbclassifier__max_depth=6, xgbclassifier__min_child_weight=4, xgbclassifier__sub_sample=1;, score=0.599 total time=   0.1s\n",
            "[CV 1/3] END xgbclassifier__max_depth=6, xgbclassifier__min_child_weight=5, xgbclassifier__sub_sample=0.2;, score=0.619 total time=   0.1s\n",
            "[CV 2/3] END xgbclassifier__max_depth=6, xgbclassifier__min_child_weight=5, xgbclassifier__sub_sample=0.2;, score=0.621 total time=   0.1s\n",
            "[CV 3/3] END xgbclassifier__max_depth=6, xgbclassifier__min_child_weight=5, xgbclassifier__sub_sample=0.2;, score=0.599 total time=   0.1s\n",
            "[CV 1/3] END xgbclassifier__max_depth=6, xgbclassifier__min_child_weight=5, xgbclassifier__sub_sample=0.4;, score=0.619 total time=   0.1s\n",
            "[CV 2/3] END xgbclassifier__max_depth=6, xgbclassifier__min_child_weight=5, xgbclassifier__sub_sample=0.4;, score=0.621 total time=   0.1s\n",
            "[CV 3/3] END xgbclassifier__max_depth=6, xgbclassifier__min_child_weight=5, xgbclassifier__sub_sample=0.4;, score=0.599 total time=   0.1s\n",
            "[CV 1/3] END xgbclassifier__max_depth=6, xgbclassifier__min_child_weight=5, xgbclassifier__sub_sample=0.6;, score=0.619 total time=   0.1s\n",
            "[CV 2/3] END xgbclassifier__max_depth=6, xgbclassifier__min_child_weight=5, xgbclassifier__sub_sample=0.6;, score=0.621 total time=   0.1s\n",
            "[CV 3/3] END xgbclassifier__max_depth=6, xgbclassifier__min_child_weight=5, xgbclassifier__sub_sample=0.6;, score=0.599 total time=   0.1s\n",
            "[CV 1/3] END xgbclassifier__max_depth=6, xgbclassifier__min_child_weight=5, xgbclassifier__sub_sample=0.8;, score=0.619 total time=   0.1s\n",
            "[CV 2/3] END xgbclassifier__max_depth=6, xgbclassifier__min_child_weight=5, xgbclassifier__sub_sample=0.8;, score=0.621 total time=   0.1s\n",
            "[CV 3/3] END xgbclassifier__max_depth=6, xgbclassifier__min_child_weight=5, xgbclassifier__sub_sample=0.8;, score=0.599 total time=   0.1s\n",
            "[CV 1/3] END xgbclassifier__max_depth=6, xgbclassifier__min_child_weight=5, xgbclassifier__sub_sample=1;, score=0.619 total time=   0.1s\n",
            "[CV 2/3] END xgbclassifier__max_depth=6, xgbclassifier__min_child_weight=5, xgbclassifier__sub_sample=1;, score=0.621 total time=   0.1s\n",
            "[CV 3/3] END xgbclassifier__max_depth=6, xgbclassifier__min_child_weight=5, xgbclassifier__sub_sample=1;, score=0.599 total time=   0.1s\n",
            "[CV 1/3] END xgbclassifier__max_depth=6, xgbclassifier__min_child_weight=6, xgbclassifier__sub_sample=0.2;, score=0.619 total time=   0.1s\n",
            "[CV 2/3] END xgbclassifier__max_depth=6, xgbclassifier__min_child_weight=6, xgbclassifier__sub_sample=0.2;, score=0.621 total time=   0.1s\n",
            "[CV 3/3] END xgbclassifier__max_depth=6, xgbclassifier__min_child_weight=6, xgbclassifier__sub_sample=0.2;, score=0.599 total time=   0.1s\n",
            "[CV 1/3] END xgbclassifier__max_depth=6, xgbclassifier__min_child_weight=6, xgbclassifier__sub_sample=0.4;, score=0.619 total time=   0.1s\n",
            "[CV 2/3] END xgbclassifier__max_depth=6, xgbclassifier__min_child_weight=6, xgbclassifier__sub_sample=0.4;, score=0.621 total time=   0.1s\n",
            "[CV 3/3] END xgbclassifier__max_depth=6, xgbclassifier__min_child_weight=6, xgbclassifier__sub_sample=0.4;, score=0.599 total time=   0.1s\n",
            "[CV 1/3] END xgbclassifier__max_depth=6, xgbclassifier__min_child_weight=6, xgbclassifier__sub_sample=0.6;, score=0.619 total time=   0.1s\n",
            "[CV 2/3] END xgbclassifier__max_depth=6, xgbclassifier__min_child_weight=6, xgbclassifier__sub_sample=0.6;, score=0.621 total time=   0.1s\n",
            "[CV 3/3] END xgbclassifier__max_depth=6, xgbclassifier__min_child_weight=6, xgbclassifier__sub_sample=0.6;, score=0.599 total time=   0.1s\n",
            "[CV 1/3] END xgbclassifier__max_depth=6, xgbclassifier__min_child_weight=6, xgbclassifier__sub_sample=0.8;, score=0.619 total time=   0.1s\n",
            "[CV 2/3] END xgbclassifier__max_depth=6, xgbclassifier__min_child_weight=6, xgbclassifier__sub_sample=0.8;, score=0.621 total time=   0.1s\n",
            "[CV 3/3] END xgbclassifier__max_depth=6, xgbclassifier__min_child_weight=6, xgbclassifier__sub_sample=0.8;, score=0.599 total time=   0.1s\n",
            "[CV 1/3] END xgbclassifier__max_depth=6, xgbclassifier__min_child_weight=6, xgbclassifier__sub_sample=1;, score=0.619 total time=   0.1s\n",
            "[CV 2/3] END xgbclassifier__max_depth=6, xgbclassifier__min_child_weight=6, xgbclassifier__sub_sample=1;, score=0.621 total time=   0.1s\n",
            "[CV 3/3] END xgbclassifier__max_depth=6, xgbclassifier__min_child_weight=6, xgbclassifier__sub_sample=1;, score=0.599 total time=   0.1s\n",
            "[CV 1/3] END xgbclassifier__max_depth=6, xgbclassifier__min_child_weight=7, xgbclassifier__sub_sample=0.2;, score=0.619 total time=   0.1s\n",
            "[CV 2/3] END xgbclassifier__max_depth=6, xgbclassifier__min_child_weight=7, xgbclassifier__sub_sample=0.2;, score=0.621 total time=   0.1s\n",
            "[CV 3/3] END xgbclassifier__max_depth=6, xgbclassifier__min_child_weight=7, xgbclassifier__sub_sample=0.2;, score=0.599 total time=   0.1s\n",
            "[CV 1/3] END xgbclassifier__max_depth=6, xgbclassifier__min_child_weight=7, xgbclassifier__sub_sample=0.4;, score=0.619 total time=   0.1s\n",
            "[CV 2/3] END xgbclassifier__max_depth=6, xgbclassifier__min_child_weight=7, xgbclassifier__sub_sample=0.4;, score=0.621 total time=   0.1s\n",
            "[CV 3/3] END xgbclassifier__max_depth=6, xgbclassifier__min_child_weight=7, xgbclassifier__sub_sample=0.4;, score=0.599 total time=   0.1s\n",
            "[CV 1/3] END xgbclassifier__max_depth=6, xgbclassifier__min_child_weight=7, xgbclassifier__sub_sample=0.6;, score=0.619 total time=   0.1s\n",
            "[CV 2/3] END xgbclassifier__max_depth=6, xgbclassifier__min_child_weight=7, xgbclassifier__sub_sample=0.6;, score=0.621 total time=   0.1s\n",
            "[CV 3/3] END xgbclassifier__max_depth=6, xgbclassifier__min_child_weight=7, xgbclassifier__sub_sample=0.6;, score=0.599 total time=   0.1s\n",
            "[CV 1/3] END xgbclassifier__max_depth=6, xgbclassifier__min_child_weight=7, xgbclassifier__sub_sample=0.8;, score=0.619 total time=   0.1s\n",
            "[CV 2/3] END xgbclassifier__max_depth=6, xgbclassifier__min_child_weight=7, xgbclassifier__sub_sample=0.8;, score=0.621 total time=   0.1s\n",
            "[CV 3/3] END xgbclassifier__max_depth=6, xgbclassifier__min_child_weight=7, xgbclassifier__sub_sample=0.8;, score=0.599 total time=   0.1s\n",
            "[CV 1/3] END xgbclassifier__max_depth=6, xgbclassifier__min_child_weight=7, xgbclassifier__sub_sample=1;, score=0.619 total time=   0.1s\n",
            "[CV 2/3] END xgbclassifier__max_depth=6, xgbclassifier__min_child_weight=7, xgbclassifier__sub_sample=1;, score=0.621 total time=   0.1s\n",
            "[CV 3/3] END xgbclassifier__max_depth=6, xgbclassifier__min_child_weight=7, xgbclassifier__sub_sample=1;, score=0.599 total time=   0.1s\n",
            "[CV 1/3] END xgbclassifier__max_depth=6, xgbclassifier__min_child_weight=8, xgbclassifier__sub_sample=0.2;, score=0.619 total time=   0.1s\n",
            "[CV 2/3] END xgbclassifier__max_depth=6, xgbclassifier__min_child_weight=8, xgbclassifier__sub_sample=0.2;, score=0.621 total time=   0.1s\n",
            "[CV 3/3] END xgbclassifier__max_depth=6, xgbclassifier__min_child_weight=8, xgbclassifier__sub_sample=0.2;, score=0.599 total time=   0.1s\n",
            "[CV 1/3] END xgbclassifier__max_depth=6, xgbclassifier__min_child_weight=8, xgbclassifier__sub_sample=0.4;, score=0.619 total time=   0.1s\n",
            "[CV 2/3] END xgbclassifier__max_depth=6, xgbclassifier__min_child_weight=8, xgbclassifier__sub_sample=0.4;, score=0.621 total time=   0.1s\n",
            "[CV 3/3] END xgbclassifier__max_depth=6, xgbclassifier__min_child_weight=8, xgbclassifier__sub_sample=0.4;, score=0.599 total time=   0.1s\n",
            "[CV 1/3] END xgbclassifier__max_depth=6, xgbclassifier__min_child_weight=8, xgbclassifier__sub_sample=0.6;, score=0.619 total time=   0.1s\n",
            "[CV 2/3] END xgbclassifier__max_depth=6, xgbclassifier__min_child_weight=8, xgbclassifier__sub_sample=0.6;, score=0.621 total time=   0.1s\n",
            "[CV 3/3] END xgbclassifier__max_depth=6, xgbclassifier__min_child_weight=8, xgbclassifier__sub_sample=0.6;, score=0.599 total time=   0.1s\n",
            "[CV 1/3] END xgbclassifier__max_depth=6, xgbclassifier__min_child_weight=8, xgbclassifier__sub_sample=0.8;, score=0.619 total time=   0.1s\n",
            "[CV 2/3] END xgbclassifier__max_depth=6, xgbclassifier__min_child_weight=8, xgbclassifier__sub_sample=0.8;, score=0.621 total time=   0.1s\n",
            "[CV 3/3] END xgbclassifier__max_depth=6, xgbclassifier__min_child_weight=8, xgbclassifier__sub_sample=0.8;, score=0.599 total time=   0.1s\n",
            "[CV 1/3] END xgbclassifier__max_depth=6, xgbclassifier__min_child_weight=8, xgbclassifier__sub_sample=1;, score=0.619 total time=   0.1s\n",
            "[CV 2/3] END xgbclassifier__max_depth=6, xgbclassifier__min_child_weight=8, xgbclassifier__sub_sample=1;, score=0.621 total time=   0.1s\n",
            "[CV 3/3] END xgbclassifier__max_depth=6, xgbclassifier__min_child_weight=8, xgbclassifier__sub_sample=1;, score=0.599 total time=   0.1s\n",
            "[CV 1/3] END xgbclassifier__max_depth=6, xgbclassifier__min_child_weight=9, xgbclassifier__sub_sample=0.2;, score=0.619 total time=   0.1s\n",
            "[CV 2/3] END xgbclassifier__max_depth=6, xgbclassifier__min_child_weight=9, xgbclassifier__sub_sample=0.2;, score=0.621 total time=   0.1s\n",
            "[CV 3/3] END xgbclassifier__max_depth=6, xgbclassifier__min_child_weight=9, xgbclassifier__sub_sample=0.2;, score=0.599 total time=   0.1s\n",
            "[CV 1/3] END xgbclassifier__max_depth=6, xgbclassifier__min_child_weight=9, xgbclassifier__sub_sample=0.4;, score=0.619 total time=   0.1s\n",
            "[CV 2/3] END xgbclassifier__max_depth=6, xgbclassifier__min_child_weight=9, xgbclassifier__sub_sample=0.4;, score=0.621 total time=   0.1s\n",
            "[CV 3/3] END xgbclassifier__max_depth=6, xgbclassifier__min_child_weight=9, xgbclassifier__sub_sample=0.4;, score=0.599 total time=   0.1s\n",
            "[CV 1/3] END xgbclassifier__max_depth=6, xgbclassifier__min_child_weight=9, xgbclassifier__sub_sample=0.6;, score=0.619 total time=   0.1s\n",
            "[CV 2/3] END xgbclassifier__max_depth=6, xgbclassifier__min_child_weight=9, xgbclassifier__sub_sample=0.6;, score=0.621 total time=   0.1s\n",
            "[CV 3/3] END xgbclassifier__max_depth=6, xgbclassifier__min_child_weight=9, xgbclassifier__sub_sample=0.6;, score=0.599 total time=   0.1s\n",
            "[CV 1/3] END xgbclassifier__max_depth=6, xgbclassifier__min_child_weight=9, xgbclassifier__sub_sample=0.8;, score=0.619 total time=   0.1s\n",
            "[CV 2/3] END xgbclassifier__max_depth=6, xgbclassifier__min_child_weight=9, xgbclassifier__sub_sample=0.8;, score=0.621 total time=   0.1s\n",
            "[CV 3/3] END xgbclassifier__max_depth=6, xgbclassifier__min_child_weight=9, xgbclassifier__sub_sample=0.8;, score=0.599 total time=   0.1s\n",
            "[CV 1/3] END xgbclassifier__max_depth=6, xgbclassifier__min_child_weight=9, xgbclassifier__sub_sample=1;, score=0.619 total time=   0.1s\n",
            "[CV 2/3] END xgbclassifier__max_depth=6, xgbclassifier__min_child_weight=9, xgbclassifier__sub_sample=1;, score=0.621 total time=   0.1s\n",
            "[CV 3/3] END xgbclassifier__max_depth=6, xgbclassifier__min_child_weight=9, xgbclassifier__sub_sample=1;, score=0.599 total time=   0.1s\n",
            "[CV 1/3] END xgbclassifier__max_depth=6, xgbclassifier__min_child_weight=10, xgbclassifier__sub_sample=0.2;, score=0.619 total time=   0.1s\n",
            "[CV 2/3] END xgbclassifier__max_depth=6, xgbclassifier__min_child_weight=10, xgbclassifier__sub_sample=0.2;, score=0.621 total time=   0.1s\n",
            "[CV 3/3] END xgbclassifier__max_depth=6, xgbclassifier__min_child_weight=10, xgbclassifier__sub_sample=0.2;, score=0.599 total time=   0.1s\n",
            "[CV 1/3] END xgbclassifier__max_depth=6, xgbclassifier__min_child_weight=10, xgbclassifier__sub_sample=0.4;, score=0.619 total time=   0.1s\n",
            "[CV 2/3] END xgbclassifier__max_depth=6, xgbclassifier__min_child_weight=10, xgbclassifier__sub_sample=0.4;, score=0.621 total time=   0.1s\n",
            "[CV 3/3] END xgbclassifier__max_depth=6, xgbclassifier__min_child_weight=10, xgbclassifier__sub_sample=0.4;, score=0.599 total time=   0.1s\n",
            "[CV 1/3] END xgbclassifier__max_depth=6, xgbclassifier__min_child_weight=10, xgbclassifier__sub_sample=0.6;, score=0.619 total time=   0.1s\n",
            "[CV 2/3] END xgbclassifier__max_depth=6, xgbclassifier__min_child_weight=10, xgbclassifier__sub_sample=0.6;, score=0.621 total time=   0.1s\n",
            "[CV 3/3] END xgbclassifier__max_depth=6, xgbclassifier__min_child_weight=10, xgbclassifier__sub_sample=0.6;, score=0.599 total time=   0.1s\n",
            "[CV 1/3] END xgbclassifier__max_depth=6, xgbclassifier__min_child_weight=10, xgbclassifier__sub_sample=0.8;, score=0.619 total time=   0.1s\n",
            "[CV 2/3] END xgbclassifier__max_depth=6, xgbclassifier__min_child_weight=10, xgbclassifier__sub_sample=0.8;, score=0.621 total time=   0.1s\n",
            "[CV 3/3] END xgbclassifier__max_depth=6, xgbclassifier__min_child_weight=10, xgbclassifier__sub_sample=0.8;, score=0.599 total time=   0.1s\n",
            "[CV 1/3] END xgbclassifier__max_depth=6, xgbclassifier__min_child_weight=10, xgbclassifier__sub_sample=1;, score=0.619 total time=   0.1s\n",
            "[CV 2/3] END xgbclassifier__max_depth=6, xgbclassifier__min_child_weight=10, xgbclassifier__sub_sample=1;, score=0.621 total time=   0.1s\n",
            "[CV 3/3] END xgbclassifier__max_depth=6, xgbclassifier__min_child_weight=10, xgbclassifier__sub_sample=1;, score=0.599 total time=   0.1s\n",
            "최적 하이퍼파라미터:  {'xgbclassifier__max_depth': 2, 'xgbclassifier__min_child_weight': 1, 'xgbclassifier__sub_sample': 0.2}\n",
            "최적 정확도:  0.6129943502824858\n"
          ]
        }
      ]
    },
    {
      "cell_type": "code",
      "source": [
        "# 최적의 하이퍼 파라미터로 학습 진행\n",
        "model_best = grid_search.best_estimator_\n",
        "model_best.fit(X_train_encoded, y_train)\n",
        "\n",
        "# 훈련데이터와 검증 데이터의 정확도 비교\n",
        "y_pred = model_best.predict(X_train_encoded)\n",
        "print('훈련데이터 기준 모델 정확도 : ', accuracy_score(y_train, y_pred).round(3))\n",
        "\n",
        "y_pred = model_best.predict(X_val_encoded)\n",
        "print('검증데이터 기준 모델 정확도 : ', accuracy_score(y_val, y_pred).round(3))"
      ],
      "metadata": {
        "colab": {
          "base_uri": "https://localhost:8080/"
        },
        "id": "PJmZuO_oG6va",
        "outputId": "253b17b6-f538-4995-8d9d-1965b9ff1a48"
      },
      "execution_count": null,
      "outputs": [
        {
          "output_type": "stream",
          "name": "stdout",
          "text": [
            "훈련데이터 기준 모델 정확도 :  0.675\n",
            "검증데이터 기준 모델 정확도 :  0.605\n"
          ]
        }
      ]
    },
    {
      "cell_type": "code",
      "source": [
        "# 테스트 데이터를 사용하여 모델의 일반화 성능 확인\n",
        "y_pred = model_best.predict(X_test_encoded)\n",
        "print('테스트데이터 기준 모델 정확도 : ', accuracy_score(y_test, y_pred).round(3))\n",
        "print()\n",
        "\n",
        "# Classification Report를 통해 각 class에 대한 성능 평가 결과를 확인\n",
        "print('     Classification Report를 사용하여 성능 확인')\n",
        "print(classification_report(y_test, y_pred))"
      ],
      "metadata": {
        "colab": {
          "base_uri": "https://localhost:8080/"
        },
        "id": "wD1PtVyk6JdD",
        "outputId": "fa3c3a4c-41c9-4464-919a-17e80442a6d7"
      },
      "execution_count": null,
      "outputs": [
        {
          "output_type": "stream",
          "name": "stdout",
          "text": [
            "테스트데이터 기준 모델 정확도 :  0.636\n",
            "\n",
            "     Classification Report를 사용하여 성능 확인\n",
            "              precision    recall  f1-score   support\n",
            "\n",
            "        Loss       0.61      0.48      0.54       146\n",
            "         Win       0.65      0.76      0.70       186\n",
            "\n",
            "    accuracy                           0.64       332\n",
            "   macro avg       0.63      0.62      0.62       332\n",
            "weighted avg       0.63      0.64      0.63       332\n",
            "\n"
          ]
        }
      ]
    },
    {
      "cell_type": "code",
      "source": [
        "# Confusion Matrix를 계산하여 직관적으로 모델의 예측 결과를 확인\n",
        "plot_confusion_matrix(model_best, X_test_encoded, y_test, cmap = plt.cm.Reds)\n",
        "plt.title(f\"Confusion Matrix (n = {len(y_test)})\", fontsize=15)"
      ],
      "metadata": {
        "colab": {
          "base_uri": "https://localhost:8080/",
          "height": 315
        },
        "id": "BHTIcLqB5iO9",
        "outputId": "488a10a5-1282-4f14-febc-148b4192d48e"
      },
      "execution_count": null,
      "outputs": [
        {
          "output_type": "execute_result",
          "data": {
            "text/plain": [
              "Text(0.5, 1.0, 'Confusion Matrix (n = 332)')"
            ]
          },
          "metadata": {},
          "execution_count": 27
        },
        {
          "output_type": "display_data",
          "data": {
            "text/plain": [
              "<Figure size 432x288 with 2 Axes>"
            ],
            "image/png": "[encoded data removed]"
          },
          "metadata": {
            "needs_background": "light"
          }
        }
      ]
    },
    {
      "cell_type": "markdown",
      "source": [
        "# **Part 4. ML모델 해석**"
      ],
      "metadata": {
        "id": "fD2c6ZoWc-EM"
      }
    },
    {
      "cell_type": "markdown",
      "source": [
        "## **Part 4-1. Feature Importance(특성 중요도)**"
      ],
      "metadata": {
        "id": "hLhSX04nF2rY"
      }
    },
    {
      "cell_type": "code",
      "source": [
        "# Drop-Column Importance를 사용하여 특성 중요도 확인\n",
        "score = model_best.score(X_test_encoded, y_test)\n",
        "print(f'Before Drop :: 정확도 {score:.3f}')\n",
        "\n",
        "dci = pd.Series(dtype = float)\n",
        "\n",
        "for feature in features:\n",
        "    p = model_best\n",
        "    p.fit(X_train_encoded.drop(columns=[feature], axis=1), y_train)\n",
        "    score_dropped = p.score(X_test_encoded.drop(columns=[feature], axis=1), y_test)\n",
        "    print(f\"Drop {feature} :: 정확도 {score_dropped:.3f}\")\n",
        "\n",
        "    dci[feature] =  score - score_dropped"
      ],
      "metadata": {
        "colab": {
          "base_uri": "https://localhost:8080/"
        },
        "id": "y69aH7Gz8AXs",
        "outputId": "180e0eb0-f81b-4298-8866-f688b26a7f44"
      },
      "execution_count": null,
      "outputs": [
        {
          "output_type": "stream",
          "name": "stdout",
          "text": [
            "Before Drop :: 정확도 0.636\n",
            "Drop Task Completed :: 정확도 0.639\n",
            "Drop All Tasks Completed :: 정확도 0.636\n",
            "Drop Murdered :: 정확도 0.554\n",
            "Drop Game Length :: 정확도 0.645\n",
            "Drop Ejected :: 정확도 0.614\n",
            "Drop Sabotages Fixed :: 정확도 0.623\n",
            "Drop Time to complete all tasks :: 정확도 0.639\n"
          ]
        }
      ]
    },
    {
      "cell_type": "code",
      "source": [
        "dci.sort_values().plot.barh()\n",
        "plt.title(\"Drop-Column Importance\")"
      ],
      "metadata": {
        "colab": {
          "base_uri": "https://localhost:8080/",
          "height": 298
        },
        "id": "y87u64gwDUhW",
        "outputId": "847bae5e-66bb-48ab-ad2f-b8b5a9f4fbba"
      },
      "execution_count": null,
      "outputs": [
        {
          "output_type": "execute_result",
          "data": {
            "text/plain": [
              "Text(0.5, 1.0, 'Drop-Column Importance')"
            ]
          },
          "metadata": {},
          "execution_count": 29
        },
        {
          "output_type": "display_data",
          "data": {
            "text/plain": [
              "<Figure size 432x288 with 1 Axes>"
            ],
            "image/png": "[encoded data removed]"
          },
          "metadata": {
            "needs_background": "light"
          }
        }
      ]
    },
    {
      "cell_type": "markdown",
      "source": [
        "### **결과 요약** <br>\n",
        "해당 예측 모델에서 중요한 특성 순위 <br>\n",
        "1. Murdered - 임포스터에게 살해당했는지 여부\n",
        "2. Time to complete all tasks - 모든 업무 완료까지 걸린 시간\n",
        "3. Ejected - 투표로 퇴출되었는지 여부\n",
        "4. All Tasks Completed - 모든 업무를 완료했는지 여부\n",
        "5. Sabotages Fixed - 사보타지 고친 횟수\n",
        "6. Task Completed - 완료한 업무 수\n",
        "7. Game Length - 게임 시간"
      ],
      "metadata": {
        "id": "EdWySAWtGP__"
      }
    },
    {
      "cell_type": "markdown",
      "source": [
        "## **Part 4-2. PDP**"
      ],
      "metadata": {
        "id": "Luil1q_UFuOg"
      }
    },
    {
      "cell_type": "markdown",
      "source": [
        "특성 중요도에서 해당 특성을 drop했을 때, 성능이 감소하는 특성에 대해 진행 <br>\n",
        "해당 특성 : Murdered, Time to complete all tasks, Ejected"
      ],
      "metadata": {
        "id": "vBbMr6pnI3E5"
      }
    },
    {
      "cell_type": "code",
      "source": [
        "# Part 4-1에서 특성을 드랍하고 학습을 진행했기 때문에 다시 원래 데이터로 학습 진행\n",
        "model_best.fit(X_train_encoded, y_train)"
      ],
      "metadata": {
        "colab": {
          "base_uri": "https://localhost:8080/"
        },
        "id": "N4AReFNaPJjc",
        "outputId": "2a7ba118-de73-4c39-aa16-a4ead3a03c7a"
      },
      "execution_count": null,
      "outputs": [
        {
          "output_type": "execute_result",
          "data": {
            "text/plain": [
              "XGBClassifier(eval_metric='error', gamma=2, n_estimators=200, n_jobs=-1,\n",
              "              random_state=42, xgbclassifier__max_depth=2,\n",
              "              xgbclassifier__min_child_weight=1, xgbclassifier__sub_sample=0.2)"
            ]
          },
          "metadata": {},
          "execution_count": 30
        }
      ]
    },
    {
      "cell_type": "code",
      "source": [
        "# 매핑한 정보 확인\n",
        "mappings = enc.mapping \n",
        "mappings"
      ],
      "metadata": {
        "colab": {
          "base_uri": "https://localhost:8080/"
        },
        "id": "qF-9FYGSU17B",
        "outputId": "0d2da8d1-b79a-4fae-e4bb-11fafdc99cb9"
      },
      "execution_count": null,
      "outputs": [
        {
          "output_type": "execute_result",
          "data": {
            "text/plain": [
              "[{'col': 'All Tasks Completed', 'mapping': No     1\n",
              "  Yes    2\n",
              "  NaN   -2\n",
              "  dtype: int64, 'data_type': dtype('O')},\n",
              " {'col': 'Murdered', 'mapping': No     1\n",
              "  Yes    2\n",
              "  NaN   -2\n",
              "  dtype: int64, 'data_type': dtype('O')},\n",
              " {'col': 'Ejected', 'mapping': No     1\n",
              "  Yes    2\n",
              "  NaN   -2\n",
              "  dtype: int64, 'data_type': dtype('O')}]"
            ]
          },
          "metadata": {},
          "execution_count": 31
        }
      ]
    },
    {
      "cell_type": "code",
      "source": [
        "# PDP를 그려주는 함수 작성\n",
        "def draw_pdp(feature, remove_nan = False, do_mapping = False) : \n",
        "    target_feature = feature\n",
        "    dataset = X_test_encoded\n",
        "\n",
        "    # 결측치를 제거여부\n",
        "    if remove_nan == True :\n",
        "        dataset = X_test_encoded.dropna()\n",
        "\n",
        "    # PDP 작성\n",
        "    isolated = pdp_isolate(\n",
        "        model = model_best,\n",
        "        dataset = dataset,\n",
        "        model_features = X_test.columns,\n",
        "        feature = target_feature,\n",
        "        grid_type=\"percentile\"\n",
        "        )\n",
        "    \n",
        "    pdp_plot(isolated, feature_name = target_feature)\n",
        "\n",
        "    # 인코딩하기 전 특성값 가져오기\n",
        "    if do_mapping == True :\n",
        "        mappings = enc.mapping\n",
        "        mapping_data = list(filter(lambda x: x[\"col\"] == target_feature, mappings))\n",
        "        maps = mapping_data[0][\"mapping\"]\n",
        "        encoded_features = maps.values.tolist()[:2]\n",
        "        original_features = maps.index.tolist()[:2]\n",
        "        plt.xticks(encoded_features, original_features)"
      ],
      "metadata": {
        "id": "VVhJ8u7LIw6Y"
      },
      "execution_count": null,
      "outputs": []
    },
    {
      "cell_type": "code",
      "source": [
        "draw_pdp('Ejected', do_mapping = True)"
      ],
      "metadata": {
        "colab": {
          "base_uri": "https://localhost:8080/",
          "height": 578
        },
        "id": "8ZRXEV7OLYkF",
        "outputId": "c4f7a403-ec73-4a22-9d54-3e37f488b917"
      },
      "execution_count": null,
      "outputs": [
        {
          "output_type": "display_data",
          "data": {
            "text/plain": [
              "<Figure size 1080x684 with 2 Axes>"
            ],
            "image/png": "[encoded data removed]"
          },
          "metadata": {
            "needs_background": "light"
          }
        }
      ]
    },
    {
      "cell_type": "markdown",
      "source": [
        "**PDP 해석** : 퇴출되면 승리할 확률이 약 15% 감소한다."
      ],
      "metadata": {
        "id": "YTNEO2mXh0gH"
      }
    },
    {
      "cell_type": "code",
      "source": [
        "draw_pdp('Murdered', do_mapping = True)"
      ],
      "metadata": {
        "colab": {
          "base_uri": "https://localhost:8080/",
          "height": 578
        },
        "id": "W7wg1b61YwE_",
        "outputId": "279f021a-5d3c-4ea9-ea90-5abf6050a446"
      },
      "execution_count": null,
      "outputs": [
        {
          "output_type": "display_data",
          "data": {
            "text/plain": [
              "<Figure size 1080x684 with 2 Axes>"
            ],
            "image/png": "[encoded data removed]"
          },
          "metadata": {
            "needs_background": "light"
          }
        }
      ]
    },
    {
      "cell_type": "markdown",
      "source": [
        "**PDP 해석** : 임포스터에게 살해당하면 승리할 확률이 약 18% 감소한다."
      ],
      "metadata": {
        "id": "bz1q50RRiKTa"
      }
    },
    {
      "cell_type": "code",
      "source": [
        "draw_pdp('Time to complete all tasks', remove_nan = True)"
      ],
      "metadata": {
        "colab": {
          "base_uri": "https://localhost:8080/",
          "height": 578
        },
        "id": "xP887_4QYnVh",
        "outputId": "414f2b95-80e2-44db-f055-29c2205b19bf"
      },
      "execution_count": null,
      "outputs": [
        {
          "output_type": "display_data",
          "data": {
            "text/plain": [
              "<Figure size 1080x684 with 2 Axes>"
            ],
            "image/png": "[encoded data removed]"
          },
          "metadata": {
            "needs_background": "light"
          }
        }
      ]
    },
    {
      "cell_type": "markdown",
      "source": [
        "**PDP 해석** : 모든 업무 완료까지 걸린 시간이 약 700초 이내에서는 승리할 확률이 올라가지만 그 이상 시간이 걸리면 승리할 확률이 낮아진다."
      ],
      "metadata": {
        "id": "1aPw_4_1iqgA"
      }
    }
  ]
}