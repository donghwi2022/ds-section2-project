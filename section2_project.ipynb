{
  "nbformat": 4,
  "nbformat_minor": 0,
  "metadata": {
    "colab": {
      "provenance": [],
      "mount_file_id": "1c9EOtqADwdQ9gjHRrasv_6yoJCeZxZfQ",
      "authorship_tag": "ABX9TyP+PpqUZJdnGrfuPC4xms34",
      "include_colab_link": true
    },
    "kernelspec": {
      "name": "python3",
      "display_name": "Python 3"
    },
    "language_info": {
      "name": "python"
    }
  },
  "cells": [
    {
      "cell_type": "markdown",
      "metadata": {
        "id": "view-in-github",
        "colab_type": "text"
      },
      "source": [
        "<a href=\"https://colab.research.google.com/github/donghwi2022/ds-section2-project/blob/main/section2_project.ipynb\" target=\"_parent\"><img src=\"https://colab.research.google.com/assets/colab-badge.svg\" alt=\"Open In Colab\"/></a>"
      ]
    },
    {
      "cell_type": "markdown",
      "source": [
        "# **Part 0. 특성 설명** \n",
        "\n",
        "- **targets**\n",
        "    - `Outcome` - 해당 게임의 승패 여부\n",
        "\n",
        "- **features**\n",
        "    - `Game Completed Date` - 게임이 끝난 시각 → 해당 컬럼 삭제 예정\n",
        "    - `Team` - 소속 팀 → 크루원 데이터만 남기고 해당 컬럼은 삭제할 예정\n",
        "        - Crewmate : 크루원 \n",
        "        - Imposter : 임포스터 \n",
        "    - `Task Completed` - 완료한 업무 수 \n",
        "    - `All Tasks Completed` - 모든 업무를 완료했는지 여부\n",
        "    - `Murdered` - 임포스터에게 살해당했는지 여부                   \n",
        "    - `Imposter Kills` - 임포스터로 몇 명을 죽였는지 → 해당 컬럼 삭제\n",
        "    - `Game Length` - 게임 시간 \n",
        "    - `Ejected` - 투표로 퇴출되었는지 여부 \n",
        "    - `Sabotages Fixed` - 사보타지 고친 횟수            \n",
        "    - `Time to complete all tasks` - 모든 업무 완료까지 걸린 시간   \n",
        "    - `Rank Change` - 게임 승패로 랭크 변화여부 → 해당 컬럼 삭제\n",
        "    - `Region/Game Code` - 게임 진행 지역/게임 코드 → 해당 컬럼 삭제 "
      ],
      "metadata": {
        "id": "oDhGWzKXmSom"
      }
    },
    {
      "cell_type": "markdown",
      "source": [
        "# **Part 1. 필요 라이브러리 및 데이터 로드**\n",
        "\n",
        "- 필요 라이브러리 import 및 한글 깨짐문제 해결\n",
        "- csv 파일 load"
      ],
      "metadata": {
        "id": "YH50yQaRY_PP"
      }
    },
    {
      "cell_type": "code",
      "execution_count": 1,
      "metadata": {
        "id": "-h3ghdH2YdMm"
      },
      "outputs": [],
      "source": [
        "import pandas as pd\n",
        "import matplotlib.pyplot as plt\n",
        "import seaborn as sns\n",
        "import numpy as np"
      ]
    },
    {
      "cell_type": "code",
      "source": [
        "#한글 깨짐문제 해결\n",
        "!sudo apt-get install -y fonts-nanum\n",
        "!sudo fc-cache -fv\n",
        "!rm ~/.cache/matplotlib -rf\n",
        "\n",
        "plt.rc('font', family='NanumBarunGothic');"
      ],
      "metadata": {
        "colab": {
          "base_uri": "https://localhost:8080/"
        },
        "id": "HQZAxCFvZGtd",
        "outputId": "8c4b676c-923a-4bd5-fecc-6afad320cd1f"
      },
      "execution_count": 2,
      "outputs": [
        {
          "output_type": "stream",
          "name": "stdout",
          "text": [
            "Reading package lists... Done\n",
            "Building dependency tree       \n",
            "Reading state information... Done\n",
            "fonts-nanum is already the newest version (20170925-1).\n",
            "The following package was automatically installed and is no longer required:\n",
            "  libnvidia-common-460\n",
            "Use 'sudo apt autoremove' to remove it.\n",
            "0 upgraded, 0 newly installed, 0 to remove and 20 not upgraded.\n",
            "/usr/share/fonts: caching, new cache contents: 0 fonts, 1 dirs\n",
            "/usr/share/fonts/truetype: caching, new cache contents: 0 fonts, 3 dirs\n",
            "/usr/share/fonts/truetype/humor-sans: caching, new cache contents: 1 fonts, 0 dirs\n",
            "/usr/share/fonts/truetype/liberation: caching, new cache contents: 16 fonts, 0 dirs\n",
            "/usr/share/fonts/truetype/nanum: caching, new cache contents: 10 fonts, 0 dirs\n",
            "/usr/local/share/fonts: caching, new cache contents: 0 fonts, 0 dirs\n",
            "/root/.local/share/fonts: skipping, no such directory\n",
            "/root/.fonts: skipping, no such directory\n",
            "/var/cache/fontconfig: cleaning cache directory\n",
            "/root/.cache/fontconfig: not cleaning non-existent cache directory\n",
            "/root/.fontconfig: not cleaning non-existent cache directory\n",
            "fc-cache: succeeded\n"
          ]
        }
      ]
    },
    {
      "cell_type": "code",
      "source": [
        "from google.colab import drive\n",
        "drive.mount('/content/drive')"
      ],
      "metadata": {
        "id": "pYRU41NabeP4",
        "outputId": "a35d5aeb-17a3-4bb9-f188-8f6216262501",
        "colab": {
          "base_uri": "https://localhost:8080/"
        }
      },
      "execution_count": 3,
      "outputs": [
        {
          "output_type": "stream",
          "name": "stdout",
          "text": [
            "Drive already mounted at /content/drive; to attempt to forcibly remount, call drive.mount(\"/content/drive\", force_remount=True).\n"
          ]
        }
      ]
    },
    {
      "cell_type": "code",
      "source": [
        "# 파일 경로로 필요 csv 파일 불러오기\n",
        "url = \"/content/drive/MyDrive/codestates/files/AmongUs_User.csv\"\n",
        "df = pd.read_csv(url)\n",
        "df.head()"
      ],
      "metadata": {
        "colab": {
          "base_uri": "https://localhost:8080/",
          "height": 354
        },
        "id": "kutYp5Isak71",
        "outputId": "09b2613d-01b4-4c31-fc4f-c92a8a13d84e"
      },
      "execution_count": 4,
      "outputs": [
        {
          "output_type": "execute_result",
          "data": {
            "text/plain": [
              "             Game Completed Date      Team Outcome Task Completed  \\\n",
              "0   12/13/2020 at 1:26:56 am EST  Crewmate     Win              3   \n",
              "1   12/13/2020 at 1:17:42 am EST  Crewmate    Loss              7   \n",
              "2  12/13/2020 at 12:57:47 am EST  Crewmate     Win              3   \n",
              "3  12/13/2020 at 12:41:55 am EST  Imposter     Win              -   \n",
              "4  12/13/2020 at 12:30:37 am EST  Crewmate    Loss              4   \n",
              "\n",
              "  All Tasks Completed Murdered Imposter Kills Game Length Ejected  \\\n",
              "0                  No      Yes              -     07m 04s      No   \n",
              "1                 Yes       No              -     16m 21s      No   \n",
              "2                  No       No              -     11m 33s      No   \n",
              "3                   -        -              2     08m 05s      No   \n",
              "4                  No       No              -     05m 10s      No   \n",
              "\n",
              "   Sabotages Fixed Time to complete all tasks Rank Change Region/Game Code  \n",
              "0              2.0                          -          ++      NA / WYMSBF  \n",
              "1              1.0                    09m 48s          --      NA / WYMSBF  \n",
              "2              0.0                          -          ++      NA / WYMSBF  \n",
              "3              NaN                          -         +++  Europe / QIRTNF  \n",
              "4              0.0                          -         ---  Europe / QIRTNF  "
            ],
            "text/html": [
              "\n",
              "  <div id=\"df-94b86b97-19c6-40bf-8efa-65cc3148d184\">\n",
              "    <div class=\"colab-df-container\">\n",
              "      <div>\n",
              "<style scoped>\n",
              "    .dataframe tbody tr th:only-of-type {\n",
              "        vertical-align: middle;\n",
              "    }\n",
              "\n",
              "    .dataframe tbody tr th {\n",
              "        vertical-align: top;\n",
              "    }\n",
              "\n",
              "    .dataframe thead th {\n",
              "        text-align: right;\n",
              "    }\n",
              "</style>\n",
              "<table border=\"1\" class=\"dataframe\">\n",
              "  <thead>\n",
              "    <tr style=\"text-align: right;\">\n",
              "      <th></th>\n",
              "      <th>Game Completed Date</th>\n",
              "      <th>Team</th>\n",
              "      <th>Outcome</th>\n",
              "      <th>Task Completed</th>\n",
              "      <th>All Tasks Completed</th>\n",
              "      <th>Murdered</th>\n",
              "      <th>Imposter Kills</th>\n",
              "      <th>Game Length</th>\n",
              "      <th>Ejected</th>\n",
              "      <th>Sabotages Fixed</th>\n",
              "      <th>Time to complete all tasks</th>\n",
              "      <th>Rank Change</th>\n",
              "      <th>Region/Game Code</th>\n",
              "    </tr>\n",
              "  </thead>\n",
              "  <tbody>\n",
              "    <tr>\n",
              "      <th>0</th>\n",
              "      <td>12/13/2020 at 1:26:56 am EST</td>\n",
              "      <td>Crewmate</td>\n",
              "      <td>Win</td>\n",
              "      <td>3</td>\n",
              "      <td>No</td>\n",
              "      <td>Yes</td>\n",
              "      <td>-</td>\n",
              "      <td>07m 04s</td>\n",
              "      <td>No</td>\n",
              "      <td>2.0</td>\n",
              "      <td>-</td>\n",
              "      <td>++</td>\n",
              "      <td>NA / WYMSBF</td>\n",
              "    </tr>\n",
              "    <tr>\n",
              "      <th>1</th>\n",
              "      <td>12/13/2020 at 1:17:42 am EST</td>\n",
              "      <td>Crewmate</td>\n",
              "      <td>Loss</td>\n",
              "      <td>7</td>\n",
              "      <td>Yes</td>\n",
              "      <td>No</td>\n",
              "      <td>-</td>\n",
              "      <td>16m 21s</td>\n",
              "      <td>No</td>\n",
              "      <td>1.0</td>\n",
              "      <td>09m 48s</td>\n",
              "      <td>--</td>\n",
              "      <td>NA / WYMSBF</td>\n",
              "    </tr>\n",
              "    <tr>\n",
              "      <th>2</th>\n",
              "      <td>12/13/2020 at 12:57:47 am EST</td>\n",
              "      <td>Crewmate</td>\n",
              "      <td>Win</td>\n",
              "      <td>3</td>\n",
              "      <td>No</td>\n",
              "      <td>No</td>\n",
              "      <td>-</td>\n",
              "      <td>11m 33s</td>\n",
              "      <td>No</td>\n",
              "      <td>0.0</td>\n",
              "      <td>-</td>\n",
              "      <td>++</td>\n",
              "      <td>NA / WYMSBF</td>\n",
              "    </tr>\n",
              "    <tr>\n",
              "      <th>3</th>\n",
              "      <td>12/13/2020 at 12:41:55 am EST</td>\n",
              "      <td>Imposter</td>\n",
              "      <td>Win</td>\n",
              "      <td>-</td>\n",
              "      <td>-</td>\n",
              "      <td>-</td>\n",
              "      <td>2</td>\n",
              "      <td>08m 05s</td>\n",
              "      <td>No</td>\n",
              "      <td>NaN</td>\n",
              "      <td>-</td>\n",
              "      <td>+++</td>\n",
              "      <td>Europe / QIRTNF</td>\n",
              "    </tr>\n",
              "    <tr>\n",
              "      <th>4</th>\n",
              "      <td>12/13/2020 at 12:30:37 am EST</td>\n",
              "      <td>Crewmate</td>\n",
              "      <td>Loss</td>\n",
              "      <td>4</td>\n",
              "      <td>No</td>\n",
              "      <td>No</td>\n",
              "      <td>-</td>\n",
              "      <td>05m 10s</td>\n",
              "      <td>No</td>\n",
              "      <td>0.0</td>\n",
              "      <td>-</td>\n",
              "      <td>---</td>\n",
              "      <td>Europe / QIRTNF</td>\n",
              "    </tr>\n",
              "  </tbody>\n",
              "</table>\n",
              "</div>\n",
              "      <button class=\"colab-df-convert\" onclick=\"convertToInteractive('df-94b86b97-19c6-40bf-8efa-65cc3148d184')\"\n",
              "              title=\"Convert this dataframe to an interactive table.\"\n",
              "              style=\"display:none;\">\n",
              "        \n",
              "  <svg xmlns=\"http://www.w3.org/2000/svg\" height=\"24px\"viewBox=\"0 0 24 24\"\n",
              "       width=\"24px\">\n",
              "    <path d=\"M0 0h24v24H0V0z\" fill=\"none\"/>\n",
              "    <path d=\"M18.56 5.44l.94 2.06.94-2.06 2.06-.94-2.06-.94-.94-2.06-.94 2.06-2.06.94zm-11 1L8.5 8.5l.94-2.06 2.06-.94-2.06-.94L8.5 2.5l-.94 2.06-2.06.94zm10 10l.94 2.06.94-2.06 2.06-.94-2.06-.94-.94-2.06-.94 2.06-2.06.94z\"/><path d=\"M17.41 7.96l-1.37-1.37c-.4-.4-.92-.59-1.43-.59-.52 0-1.04.2-1.43.59L10.3 9.45l-7.72 7.72c-.78.78-.78 2.05 0 2.83L4 21.41c.39.39.9.59 1.41.59.51 0 1.02-.2 1.41-.59l7.78-7.78 2.81-2.81c.8-.78.8-2.07 0-2.86zM5.41 20L4 18.59l7.72-7.72 1.47 1.35L5.41 20z\"/>\n",
              "  </svg>\n",
              "      </button>\n",
              "      \n",
              "  <style>\n",
              "    .colab-df-container {\n",
              "      display:flex;\n",
              "      flex-wrap:wrap;\n",
              "      gap: 12px;\n",
              "    }\n",
              "\n",
              "    .colab-df-convert {\n",
              "      background-color: #E8F0FE;\n",
              "      border: none;\n",
              "      border-radius: 50%;\n",
              "      cursor: pointer;\n",
              "      display: none;\n",
              "      fill: #1967D2;\n",
              "      height: 32px;\n",
              "      padding: 0 0 0 0;\n",
              "      width: 32px;\n",
              "    }\n",
              "\n",
              "    .colab-df-convert:hover {\n",
              "      background-color: #E2EBFA;\n",
              "      box-shadow: 0px 1px 2px rgba(60, 64, 67, 0.3), 0px 1px 3px 1px rgba(60, 64, 67, 0.15);\n",
              "      fill: #174EA6;\n",
              "    }\n",
              "\n",
              "    [theme=dark] .colab-df-convert {\n",
              "      background-color: #3B4455;\n",
              "      fill: #D2E3FC;\n",
              "    }\n",
              "\n",
              "    [theme=dark] .colab-df-convert:hover {\n",
              "      background-color: #434B5C;\n",
              "      box-shadow: 0px 1px 3px 1px rgba(0, 0, 0, 0.15);\n",
              "      filter: drop-shadow(0px 1px 2px rgba(0, 0, 0, 0.3));\n",
              "      fill: #FFFFFF;\n",
              "    }\n",
              "  </style>\n",
              "\n",
              "      <script>\n",
              "        const buttonEl =\n",
              "          document.querySelector('#df-94b86b97-19c6-40bf-8efa-65cc3148d184 button.colab-df-convert');\n",
              "        buttonEl.style.display =\n",
              "          google.colab.kernel.accessAllowed ? 'block' : 'none';\n",
              "\n",
              "        async function convertToInteractive(key) {\n",
              "          const element = document.querySelector('#df-94b86b97-19c6-40bf-8efa-65cc3148d184');\n",
              "          const dataTable =\n",
              "            await google.colab.kernel.invokeFunction('convertToInteractive',\n",
              "                                                     [key], {});\n",
              "          if (!dataTable) return;\n",
              "\n",
              "          const docLinkHtml = 'Like what you see? Visit the ' +\n",
              "            '<a target=\"_blank\" href=https://colab.research.google.com/notebooks/data_table.ipynb>data table notebook</a>'\n",
              "            + ' to learn more about interactive tables.';\n",
              "          element.innerHTML = '';\n",
              "          dataTable['output_type'] = 'display_data';\n",
              "          await google.colab.output.renderOutput(dataTable, element);\n",
              "          const docLink = document.createElement('div');\n",
              "          docLink.innerHTML = docLinkHtml;\n",
              "          element.appendChild(docLink);\n",
              "        }\n",
              "      </script>\n",
              "    </div>\n",
              "  </div>\n",
              "  "
            ]
          },
          "metadata": {},
          "execution_count": 4
        }
      ]
    },
    {
      "cell_type": "code",
      "source": [
        "df.info()"
      ],
      "metadata": {
        "id": "XiBb3O5Rb5Vn",
        "outputId": "ab6b4b1e-4d03-46f4-bbb2-fc23794a1110",
        "colab": {
          "base_uri": "https://localhost:8080/"
        }
      },
      "execution_count": 5,
      "outputs": [
        {
          "output_type": "stream",
          "name": "stdout",
          "text": [
            "<class 'pandas.core.frame.DataFrame'>\n",
            "RangeIndex: 2227 entries, 0 to 2226\n",
            "Data columns (total 13 columns):\n",
            " #   Column                      Non-Null Count  Dtype  \n",
            "---  ------                      --------------  -----  \n",
            " 0   Game Completed Date         2227 non-null   object \n",
            " 1   Team                        2227 non-null   object \n",
            " 2   Outcome                     2227 non-null   object \n",
            " 3   Task Completed              2227 non-null   object \n",
            " 4   All Tasks Completed         2227 non-null   object \n",
            " 5   Murdered                    2227 non-null   object \n",
            " 6   Imposter Kills              2227 non-null   object \n",
            " 7   Game Length                 2227 non-null   object \n",
            " 8   Ejected                     2227 non-null   object \n",
            " 9   Sabotages Fixed             1761 non-null   float64\n",
            " 10  Time to complete all tasks  2227 non-null   object \n",
            " 11  Rank Change                 1828 non-null   object \n",
            " 12  Region/Game Code            2227 non-null   object \n",
            "dtypes: float64(1), object(12)\n",
            "memory usage: 226.3+ KB\n"
          ]
        }
      ]
    },
    {
      "cell_type": "markdown",
      "source": [
        "# **Part 2. 데이터 전처리 및 EDA**"
      ],
      "metadata": {
        "id": "fa2EW8y1cDB9"
      }
    },
    {
      "cell_type": "markdown",
      "source": [
        "## **Part 2-1. 데이터 전처리 진행** "
      ],
      "metadata": {
        "id": "ykkGvHoaclBz"
      }
    },
    {
      "cell_type": "code",
      "source": [
        "# 사용하지 않는 특성 제거\n",
        "df.drop(['Game Completed Date', 'Imposter Kills', 'Rank Change', 'Region/Game Code'], axis = 1, inplace = True)\n",
        "\n",
        "# Team == 크루원에 대해서 진행할 것이기 때문에 해당 데이터만 추출후 해당 특성 제거\n",
        "df_crew = df[df['Team'] == 'Crewmate'].copy()\n",
        "df_crew.drop('Team', axis = 1, inplace = True)\n",
        "\n",
        "# 데이터프레임 정보 확인\n",
        "df_crew.info()"
      ],
      "metadata": {
        "id": "2lac1iMNcFbE",
        "outputId": "4f72f2a1-1798-4562-9115-c74fa9f13960",
        "colab": {
          "base_uri": "https://localhost:8080/"
        }
      },
      "execution_count": 6,
      "outputs": [
        {
          "output_type": "stream",
          "name": "stdout",
          "text": [
            "<class 'pandas.core.frame.DataFrame'>\n",
            "Int64Index: 1761 entries, 0 to 2226\n",
            "Data columns (total 8 columns):\n",
            " #   Column                      Non-Null Count  Dtype  \n",
            "---  ------                      --------------  -----  \n",
            " 0   Outcome                     1761 non-null   object \n",
            " 1   Task Completed              1761 non-null   object \n",
            " 2   All Tasks Completed         1761 non-null   object \n",
            " 3   Murdered                    1761 non-null   object \n",
            " 4   Game Length                 1761 non-null   object \n",
            " 5   Ejected                     1761 non-null   object \n",
            " 6   Sabotages Fixed             1761 non-null   float64\n",
            " 7   Time to complete all tasks  1761 non-null   object \n",
            "dtypes: float64(1), object(7)\n",
            "memory usage: 123.8+ KB\n"
          ]
        }
      ]
    },
    {
      "cell_type": "code",
      "source": [
        "# 결측치 확인\n",
        "df_crew.isnull().sum()"
      ],
      "metadata": {
        "id": "Yuhz_ZnzpPvB",
        "outputId": "3470039f-2b1b-4a1e-cf91-9ca29f1bc6c5",
        "colab": {
          "base_uri": "https://localhost:8080/"
        }
      },
      "execution_count": 7,
      "outputs": [
        {
          "output_type": "execute_result",
          "data": {
            "text/plain": [
              "Outcome                       0\n",
              "Task Completed                0\n",
              "All Tasks Completed           0\n",
              "Murdered                      0\n",
              "Game Length                   0\n",
              "Ejected                       0\n",
              "Sabotages Fixed               0\n",
              "Time to complete all tasks    0\n",
              "dtype: int64"
            ]
          },
          "metadata": {},
          "execution_count": 7
        }
      ]
    },
    {
      "cell_type": "code",
      "source": [
        "# 중복값 확인\n",
        "print('중복값의 개수 : ', df_crew.duplicated().sum())\n",
        "\n",
        "# 중복값 제거\n",
        "df_crew.drop_duplicates(inplace = True)\n",
        "print('중복값 제거 후, 중복값의 개수 : ', df_crew.duplicated().sum())"
      ],
      "metadata": {
        "id": "Jq2A1b3dqSiR",
        "outputId": "8ada1cbe-74ae-4b17-9f69-130a7c9f489a",
        "colab": {
          "base_uri": "https://localhost:8080/"
        }
      },
      "execution_count": 8,
      "outputs": [
        {
          "output_type": "stream",
          "name": "stdout",
          "text": [
            "중복값의 개수 :  101\n",
            "중복값 제거 후, 중복값의 개수 :  0\n"
          ]
        }
      ]
    },
    {
      "cell_type": "code",
      "source": [
        "# 분과 초가 혼합되어있는 시간 특성을 초 단위로 변경하는 함수 작성\n",
        "def m_to_s(text) :\n",
        "    if text == '-' :\n",
        "        return np.nan # '-'는 업무를 다 끝내지 못해서 미기록\n",
        "    else : \n",
        "        return int(text.split('m')[0]) * 60 + int(text.split('m')[1][:3])\n",
        "\n",
        "# 시간 특성에 함수 적용\n",
        "df_crew['Game Length'] = df_crew['Game Length'].apply(m_to_s)\n",
        "df_crew['Time to complete all tasks'] = df_crew['Time to complete all tasks'].apply(m_to_s)"
      ],
      "metadata": {
        "id": "GYQI9w0-vXmk"
      },
      "execution_count": 9,
      "outputs": []
    },
    {
      "cell_type": "code",
      "source": [
        "# 숫자 타입의 특성을 정수 타입으로 변환\n",
        "df_crew['Sabotages Fixed'] = df_crew['Sabotages Fixed'].astype(int)\n",
        "df_crew['Task Completed'] = df_crew['Task Completed'].astype(int)\n",
        "\n",
        "# 특성들 데이터 타입 확인\n",
        "df_crew.info()"
      ],
      "metadata": {
        "id": "XZaHhf1nxoc9",
        "outputId": "b62418a1-4819-4e01-be97-e41ba5e9ced4",
        "colab": {
          "base_uri": "https://localhost:8080/"
        }
      },
      "execution_count": 46,
      "outputs": [
        {
          "output_type": "stream",
          "name": "stdout",
          "text": [
            "<class 'pandas.core.frame.DataFrame'>\n",
            "Int64Index: 1660 entries, 0 to 2226\n",
            "Data columns (total 8 columns):\n",
            " #   Column                      Non-Null Count  Dtype  \n",
            "---  ------                      --------------  -----  \n",
            " 0   Outcome                     1660 non-null   object \n",
            " 1   Task Completed              1660 non-null   int64  \n",
            " 2   All Tasks Completed         1660 non-null   object \n",
            " 3   Murdered                    1660 non-null   object \n",
            " 4   Game Length                 1660 non-null   int64  \n",
            " 5   Ejected                     1660 non-null   object \n",
            " 6   Sabotages Fixed             1660 non-null   int64  \n",
            " 7   Time to complete all tasks  772 non-null    float64\n",
            "dtypes: float64(1), int64(3), object(4)\n",
            "memory usage: 181.3+ KB\n"
          ]
        }
      ]
    },
    {
      "cell_type": "code",
      "source": [
        "# 최종 변환 데이터 확인\n",
        "df_crew.head()"
      ],
      "metadata": {
        "id": "4rM_DLLMyXsm",
        "outputId": "3a845232-abf7-4d36-8b9f-0c9620d1dddb",
        "colab": {
          "base_uri": "https://localhost:8080/",
          "height": 206
        }
      },
      "execution_count": 11,
      "outputs": [
        {
          "output_type": "execute_result",
          "data": {
            "text/plain": [
              "  Outcome Task Completed All Tasks Completed Murdered  Game Length Ejected  \\\n",
              "0     Win              3                  No      Yes          424      No   \n",
              "1    Loss              7                 Yes       No          981      No   \n",
              "2     Win              3                  No       No          693      No   \n",
              "4    Loss              4                  No       No          310      No   \n",
              "5    Loss              7                 Yes      Yes          982      No   \n",
              "\n",
              "   Sabotages Fixed  Time to complete all tasks  \n",
              "0                2                         NaN  \n",
              "1                1                       588.0  \n",
              "2                0                         NaN  \n",
              "4                0                         NaN  \n",
              "5                0                       736.0  "
            ],
            "text/html": [
              "\n",
              "  <div id=\"df-b6bb81d3-524b-4148-9090-24f0c90c9600\">\n",
              "    <div class=\"colab-df-container\">\n",
              "      <div>\n",
              "<style scoped>\n",
              "    .dataframe tbody tr th:only-of-type {\n",
              "        vertical-align: middle;\n",
              "    }\n",
              "\n",
              "    .dataframe tbody tr th {\n",
              "        vertical-align: top;\n",
              "    }\n",
              "\n",
              "    .dataframe thead th {\n",
              "        text-align: right;\n",
              "    }\n",
              "</style>\n",
              "<table border=\"1\" class=\"dataframe\">\n",
              "  <thead>\n",
              "    <tr style=\"text-align: right;\">\n",
              "      <th></th>\n",
              "      <th>Outcome</th>\n",
              "      <th>Task Completed</th>\n",
              "      <th>All Tasks Completed</th>\n",
              "      <th>Murdered</th>\n",
              "      <th>Game Length</th>\n",
              "      <th>Ejected</th>\n",
              "      <th>Sabotages Fixed</th>\n",
              "      <th>Time to complete all tasks</th>\n",
              "    </tr>\n",
              "  </thead>\n",
              "  <tbody>\n",
              "    <tr>\n",
              "      <th>0</th>\n",
              "      <td>Win</td>\n",
              "      <td>3</td>\n",
              "      <td>No</td>\n",
              "      <td>Yes</td>\n",
              "      <td>424</td>\n",
              "      <td>No</td>\n",
              "      <td>2</td>\n",
              "      <td>NaN</td>\n",
              "    </tr>\n",
              "    <tr>\n",
              "      <th>1</th>\n",
              "      <td>Loss</td>\n",
              "      <td>7</td>\n",
              "      <td>Yes</td>\n",
              "      <td>No</td>\n",
              "      <td>981</td>\n",
              "      <td>No</td>\n",
              "      <td>1</td>\n",
              "      <td>588.0</td>\n",
              "    </tr>\n",
              "    <tr>\n",
              "      <th>2</th>\n",
              "      <td>Win</td>\n",
              "      <td>3</td>\n",
              "      <td>No</td>\n",
              "      <td>No</td>\n",
              "      <td>693</td>\n",
              "      <td>No</td>\n",
              "      <td>0</td>\n",
              "      <td>NaN</td>\n",
              "    </tr>\n",
              "    <tr>\n",
              "      <th>4</th>\n",
              "      <td>Loss</td>\n",
              "      <td>4</td>\n",
              "      <td>No</td>\n",
              "      <td>No</td>\n",
              "      <td>310</td>\n",
              "      <td>No</td>\n",
              "      <td>0</td>\n",
              "      <td>NaN</td>\n",
              "    </tr>\n",
              "    <tr>\n",
              "      <th>5</th>\n",
              "      <td>Loss</td>\n",
              "      <td>7</td>\n",
              "      <td>Yes</td>\n",
              "      <td>Yes</td>\n",
              "      <td>982</td>\n",
              "      <td>No</td>\n",
              "      <td>0</td>\n",
              "      <td>736.0</td>\n",
              "    </tr>\n",
              "  </tbody>\n",
              "</table>\n",
              "</div>\n",
              "      <button class=\"colab-df-convert\" onclick=\"convertToInteractive('df-b6bb81d3-524b-4148-9090-24f0c90c9600')\"\n",
              "              title=\"Convert this dataframe to an interactive table.\"\n",
              "              style=\"display:none;\">\n",
              "        \n",
              "  <svg xmlns=\"http://www.w3.org/2000/svg\" height=\"24px\"viewBox=\"0 0 24 24\"\n",
              "       width=\"24px\">\n",
              "    <path d=\"M0 0h24v24H0V0z\" fill=\"none\"/>\n",
              "    <path d=\"M18.56 5.44l.94 2.06.94-2.06 2.06-.94-2.06-.94-.94-2.06-.94 2.06-2.06.94zm-11 1L8.5 8.5l.94-2.06 2.06-.94-2.06-.94L8.5 2.5l-.94 2.06-2.06.94zm10 10l.94 2.06.94-2.06 2.06-.94-2.06-.94-.94-2.06-.94 2.06-2.06.94z\"/><path d=\"M17.41 7.96l-1.37-1.37c-.4-.4-.92-.59-1.43-.59-.52 0-1.04.2-1.43.59L10.3 9.45l-7.72 7.72c-.78.78-.78 2.05 0 2.83L4 21.41c.39.39.9.59 1.41.59.51 0 1.02-.2 1.41-.59l7.78-7.78 2.81-2.81c.8-.78.8-2.07 0-2.86zM5.41 20L4 18.59l7.72-7.72 1.47 1.35L5.41 20z\"/>\n",
              "  </svg>\n",
              "      </button>\n",
              "      \n",
              "  <style>\n",
              "    .colab-df-container {\n",
              "      display:flex;\n",
              "      flex-wrap:wrap;\n",
              "      gap: 12px;\n",
              "    }\n",
              "\n",
              "    .colab-df-convert {\n",
              "      background-color: #E8F0FE;\n",
              "      border: none;\n",
              "      border-radius: 50%;\n",
              "      cursor: pointer;\n",
              "      display: none;\n",
              "      fill: #1967D2;\n",
              "      height: 32px;\n",
              "      padding: 0 0 0 0;\n",
              "      width: 32px;\n",
              "    }\n",
              "\n",
              "    .colab-df-convert:hover {\n",
              "      background-color: #E2EBFA;\n",
              "      box-shadow: 0px 1px 2px rgba(60, 64, 67, 0.3), 0px 1px 3px 1px rgba(60, 64, 67, 0.15);\n",
              "      fill: #174EA6;\n",
              "    }\n",
              "\n",
              "    [theme=dark] .colab-df-convert {\n",
              "      background-color: #3B4455;\n",
              "      fill: #D2E3FC;\n",
              "    }\n",
              "\n",
              "    [theme=dark] .colab-df-convert:hover {\n",
              "      background-color: #434B5C;\n",
              "      box-shadow: 0px 1px 3px 1px rgba(0, 0, 0, 0.15);\n",
              "      filter: drop-shadow(0px 1px 2px rgba(0, 0, 0, 0.3));\n",
              "      fill: #FFFFFF;\n",
              "    }\n",
              "  </style>\n",
              "\n",
              "      <script>\n",
              "        const buttonEl =\n",
              "          document.querySelector('#df-b6bb81d3-524b-4148-9090-24f0c90c9600 button.colab-df-convert');\n",
              "        buttonEl.style.display =\n",
              "          google.colab.kernel.accessAllowed ? 'block' : 'none';\n",
              "\n",
              "        async function convertToInteractive(key) {\n",
              "          const element = document.querySelector('#df-b6bb81d3-524b-4148-9090-24f0c90c9600');\n",
              "          const dataTable =\n",
              "            await google.colab.kernel.invokeFunction('convertToInteractive',\n",
              "                                                     [key], {});\n",
              "          if (!dataTable) return;\n",
              "\n",
              "          const docLinkHtml = 'Like what you see? Visit the ' +\n",
              "            '<a target=\"_blank\" href=https://colab.research.google.com/notebooks/data_table.ipynb>data table notebook</a>'\n",
              "            + ' to learn more about interactive tables.';\n",
              "          element.innerHTML = '';\n",
              "          dataTable['output_type'] = 'display_data';\n",
              "          await google.colab.output.renderOutput(dataTable, element);\n",
              "          const docLink = document.createElement('div');\n",
              "          docLink.innerHTML = docLinkHtml;\n",
              "          element.appendChild(docLink);\n",
              "        }\n",
              "      </script>\n",
              "    </div>\n",
              "  </div>\n",
              "  "
            ]
          },
          "metadata": {},
          "execution_count": 11
        }
      ]
    },
    {
      "cell_type": "markdown",
      "source": [
        "## **Part 2-2. EDA 진행**"
      ],
      "metadata": {
        "id": "SmpcFODecssP"
      }
    },
    {
      "cell_type": "code",
      "source": [
        "# 타겟의 데이터 분포 확인\n",
        "df_crew['Outcome'].value_counts(normalize = True).plot.pie(autopct = \"%.1f%%\")\n",
        "plt.title('승리한 게임과 패배한 게임의 비율', fontsize = 15)\n",
        "plt.show()"
      ],
      "metadata": {
        "id": "BFcpTdNDziXK",
        "outputId": "37f9ebea-25a6-4329-82a5-c1bccb302e5f",
        "colab": {
          "base_uri": "https://localhost:8080/",
          "height": 266
        }
      },
      "execution_count": 45,
      "outputs": [
        {
          "output_type": "display_data",
          "data": {
            "text/plain": [
              "<Figure size 432x288 with 1 Axes>"
            ],
            "image/png": "[encoded data removed]"
          },
          "metadata": {}
        }
      ]
    },
    {
      "cell_type": "code",
      "source": [
        "# Game Length 특성에 대해서 boxplot을 통해 시각화\n",
        "sns.boxplot(x = 'Outcome', y = 'Game Length', data = df_crew)\n",
        "plt.title('게임 승패에 따른 게임 시간', fontsize = 20, pad = 15)\n",
        "plt.xlabel('승패여부', fontsize = 12)\n",
        "plt.show()"
      ],
      "metadata": {
        "id": "pN9hM0bl5KWm",
        "outputId": "7a4e9c56-da11-4f5b-9fcd-8255803df0f6",
        "colab": {
          "base_uri": "https://localhost:8080/",
          "height": 312
        }
      },
      "execution_count": 42,
      "outputs": [
        {
          "output_type": "display_data",
          "data": {
            "text/plain": [
              "<Figure size 432x288 with 1 Axes>"
            ],
            "image/png": "[encoded data removed]"
          },
          "metadata": {
            "needs_background": "light"
          }
        }
      ]
    },
    {
      "cell_type": "code",
      "source": [
        "# Time to complete all tasks 특성에 대해서 boxplot을 통해 시각화\n",
        "sns.boxplot(x = 'Outcome', y = 'Time to complete all tasks', data = df_crew)\n",
        "plt.title('게임 승패에 따른 업무 완료 시간', fontsize = 20, pad = 15)\n",
        "plt.xlabel('승패여부', fontsize = 12)\n",
        "plt.show()"
      ],
      "metadata": {
        "id": "5pKC63xF79AN",
        "outputId": "651a03ef-484e-4efa-8c95-5124e3a7b421",
        "colab": {
          "base_uri": "https://localhost:8080/",
          "height": 312
        }
      },
      "execution_count": 43,
      "outputs": [
        {
          "output_type": "display_data",
          "data": {
            "text/plain": [
              "<Figure size 432x288 with 1 Axes>"
            ],
            "image/png": "[encoded data removed]"
          },
          "metadata": {
            "needs_background": "light"
          }
        }
      ]
    },
    {
      "cell_type": "code",
      "source": [
        "# 특성에 따라 승리, 패배 횟수 barplot을 그리는 함수 작성\n",
        "def feature_outcome(df, target, rvs) : \n",
        "    bar_width = 0.25\n",
        "    target_list = sorted(df[target].unique(), reverse = rvs)\n",
        "    index = np.arange(len(target_list))\n",
        "    for i in index : \n",
        "        plt.bar(i, df_crew[df_crew[target] == target_list[i]]['Outcome'].value_counts()['Win'], bar_width, alpha=0.7, color='blue')\n",
        "        plt.bar(i + bar_width, df_crew[df_crew[target] == target_list[i]]['Outcome'].value_counts()['Loss'], bar_width, alpha=0.8, color='red')\n",
        "    plt.xticks(np.arange(bar_width/2, len(target_list) + bar_width/2, 1), target_list)\n",
        "    plt.xlabel(target, size = 13)\n",
        "    plt.title(target + '에 따른 승리/패배 횟수', fontsize = 15)\n",
        "    plt.legend(('Win', 'Loss'), bbox_to_anchor = (1, 1))\n",
        "    plt.show()"
      ],
      "metadata": {
        "id": "Kn2o6XtXDCoi"
      },
      "execution_count": 169,
      "outputs": []
    },
    {
      "cell_type": "code",
      "source": [
        "feature_outcome(df_crew, 'Sabotages Fixed', False)"
      ],
      "metadata": {
        "id": "JLhRxWocXrds",
        "outputId": "1c368e6b-30ac-4edf-a5cf-84291bcb408c",
        "colab": {
          "base_uri": "https://localhost:8080/",
          "height": 301
        }
      },
      "execution_count": 170,
      "outputs": [
        {
          "output_type": "display_data",
          "data": {
            "text/plain": [
              "<Figure size 432x288 with 1 Axes>"
            ],
            "image/png": "[encoded data removed]"
          },
          "metadata": {
            "needs_background": "light"
          }
        }
      ]
    },
    {
      "cell_type": "code",
      "source": [
        "feature_outcome(df_crew, 'All Tasks Completed', True)"
      ],
      "metadata": {
        "id": "skuFQHc3VlWq",
        "outputId": "18d7d30f-443a-45c3-bfdb-050341cbfbda",
        "colab": {
          "base_uri": "https://localhost:8080/",
          "height": 301
        }
      },
      "execution_count": 171,
      "outputs": [
        {
          "output_type": "display_data",
          "data": {
            "text/plain": [
              "<Figure size 432x288 with 1 Axes>"
            ],
            "image/png": "[encoded data removed]"
          },
          "metadata": {
            "needs_background": "light"
          }
        }
      ]
    },
    {
      "cell_type": "markdown",
      "source": [
        "# **Part 3. 머신러닝**"
      ],
      "metadata": {
        "id": "zpLCkkBNcJnB"
      }
    },
    {
      "cell_type": "code",
      "source": [
        "# 기준모델 제작"
      ],
      "metadata": {
        "id": "oqUgeN8xiaRg"
      },
      "execution_count": null,
      "outputs": []
    },
    {
      "cell_type": "markdown",
      "source": [
        "# **Part 4. ML모델 해석**"
      ],
      "metadata": {
        "id": "fD2c6ZoWc-EM"
      }
    }
  ]
}