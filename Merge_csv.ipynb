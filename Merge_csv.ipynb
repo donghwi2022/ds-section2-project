{
  "nbformat": 4,
  "nbformat_minor": 0,
  "metadata": {
    "colab": {
      "private_outputs": true,
      "provenance": []
    },
    "kernelspec": {
      "name": "python3",
      "display_name": "Python 3"
    },
    "language_info": {
      "name": "python"
    }
  },
  "cells": [
    {
      "cell_type": "code",
      "source": [
        "import pandas as pd"
      ],
      "metadata": {
        "id": "898QRoe2dZcs"
      },
      "execution_count": null,
      "outputs": []
    },
    {
      "cell_type": "code",
      "execution_count": null,
      "metadata": {
        "id": "K2jykb_pctUl"
      },
      "outputs": [],
      "source": [
        "# csv 파일들 업로드\n",
        "from google.colab import files\n",
        "uploaded = files.upload()\n"
      ]
    },
    {
      "cell_type": "code",
      "source": [
        "# 저장된 파일 불러오기\n",
        "df1 = pd.read_csv('User1.csv')\n",
        "df1.head()"
      ],
      "metadata": {
        "id": "NQZ5freOdXF9"
      },
      "execution_count": null,
      "outputs": []
    },
    {
      "cell_type": "code",
      "source": [
        "# 제대로 가져오는지 확인\n",
        "df1.info()"
      ],
      "metadata": {
        "id": "YCF49WFeeJlo"
      },
      "execution_count": null,
      "outputs": []
    },
    {
      "cell_type": "code",
      "source": [
        "# 저장된 다른 csv파일들 불러오기\n",
        "df2 = pd.read_csv('User2.csv')\n",
        "df3 = pd.read_csv('User3.csv')\n",
        "df4 = pd.read_csv('User4.csv')\n",
        "df5 = pd.read_csv('User5.csv')\n",
        "df6 = pd.read_csv('User6.csv')\n",
        "df7 = pd.read_csv('User7.csv')\n",
        "df8 = pd.read_csv('User8.csv')\n",
        "df9 = pd.read_csv('User9.csv')\n",
        "df10 = pd.read_csv('User10.csv')\n",
        "df11 = pd.read_csv('User11.csv')\n",
        "df12 = pd.read_csv('User12.csv')\n",
        "df13 = pd.read_csv('User13.csv')\n",
        "df14 = pd.read_csv('User14.csv')\n",
        "df15 = pd.read_csv('User15.csv')\n",
        "df16 = pd.read_csv('User16.csv')\n",
        "df17 = pd.read_csv('User17.csv')\n",
        "df18 = pd.read_csv('User18.csv')\n",
        "df19 = pd.read_csv('User19.csv')\n",
        "df20 = pd.read_csv('User20.csv')\n",
        "df21 = pd.read_csv('User21.csv')\n",
        "df22 = pd.read_csv('User22.csv')\n",
        "df23 = pd.read_csv('User23.csv')\n",
        "df24 = pd.read_csv('User24.csv')\n",
        "df25 = pd.read_csv('User25.csv')\n",
        "df26 = pd.read_csv('User26.csv')\n",
        "df27 = pd.read_csv('User27.csv')\n",
        "df28 = pd.read_csv('User28.csv')\n",
        "df29 = pd.read_csv('User29.csv')"
      ],
      "metadata": {
        "id": "3m52qCIJd9g7"
      },
      "execution_count": null,
      "outputs": []
    },
    {
      "cell_type": "code",
      "source": [
        "# 불러온 csv 파일들을 하나의 csv파일로 통합\n",
        "df_list = [df1, df2, df3, df4, df5, df6, df7, df8, df9, df10, df11, df12, df13, df14, df15, df16, df17, df18, df19, df20, df21, df22, df23, df24, df25, df26, df27, df28, df29]\n",
        "df = pd.concat(df_list, ignore_index=True)\n",
        "\n",
        "# 정보 확인\n",
        "df.info()"
      ],
      "metadata": {
        "id": "6NNspJstedn8"
      },
      "execution_count": null,
      "outputs": []
    },
    {
      "cell_type": "code",
      "source": [
        "# csv 파일 저장을 위한 구글 드라이브 마운트\n",
        "import sys\n",
        "\n",
        "if \"google.colab\" in sys.modules:\n",
        "    from google.colab import drive\n",
        "    drive.mount('/content/drive')"
      ],
      "metadata": {
        "id": "NeFQd-eyC4IK"
      },
      "execution_count": null,
      "outputs": []
    },
    {
      "cell_type": "code",
      "source": [
        "# 새로만든 csv 파일을 저장\n",
        "df.to_csv(\"AmongUs_User.csv\", index = False) # index = True면 df의 인덱스도 하나의 특성으로 만들어져서 저장 -> index가 2개가 됨"
      ],
      "metadata": {
        "id": "dl8rDOIoC7xM"
      },
      "execution_count": null,
      "outputs": []
    }
  ]
}